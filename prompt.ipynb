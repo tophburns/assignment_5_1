{
 "cells": [
  {
   "cell_type": "markdown",
   "metadata": {},
   "source": [
    "### Will a Customer Accept the Coupon?\n",
    "\n",
    "**Context**\n",
    "\n",
    "Imagine driving through town and a coupon is delivered to your cell phone for a restaurant near where you are driving. Would you accept that coupon and take a short detour to the restaurant? Would you accept the coupon but use it on a subsequent trip? Would you ignore the coupon entirely? What if the coupon was for a bar instead of a restaurant? What about a coffee house? Would you accept a bar coupon with a minor passenger in the car? What about if it was just you and your partner in the car? Would weather impact the rate of acceptance? What about the time of day?\n",
    "\n",
    "Obviously, proximity to the business is a factor on whether the coupon is delivered to the driver or not, but what are the factors that determine whether a driver accepts the coupon once it is delivered to them? How would you determine whether a driver is likely to accept a coupon?\n",
    "\n",
    "**Overview**\n",
    "\n",
    "The goal of this project is to use what you know about visualizations and probability distributions to **distinguish between customers who accepted a driving coupon versus those that did not**.\n",
    "\n",
    "**Data**\n",
    "\n",
    "This data comes to us from the UCI Machine Learning repository and was collected via a survey on Amazon Mechanical Turk. The survey describes different driving scenarios including the destination, current time, weather, passenger, etc., and then ask the person whether they will accept the coupon if they are the driver. Answers that the user will drive there ‘right away’ or ‘later before the coupon expires’ are labeled as ‘Y = 1’ and answers ‘no, I do not want the coupon’ are labeled as ‘Y = 0’.  There are five different types of coupons -- less expensive restaurants (under \\\\$20), coffee houses, carry out & take away, bar, and more expensive restaurants (\\\\$20 - \\\\$50). "
   ]
  },
  {
   "cell_type": "markdown",
   "metadata": {},
   "source": [
    "**Deliverables**\n",
    "\n",
    "Your final product should be a brief report that highlights the differences between customers who did and did not accept the coupons.  To explore the data you will utilize your knowledge of plotting, statistical summaries, and visualization using Python. You will publish your findings in a public facing github repository as your first portfolio piece. \n",
    "\n",
    "\n",
    "\n"
   ]
  },
  {
   "cell_type": "markdown",
   "metadata": {},
   "source": [
    "### Data Description\n",
    "Keep in mind that these values mentioned below are average values.\n",
    "\n",
    "The attributes of this data set include:\n",
    "1. User attributes\n",
    "    -  Gender: male, female\n",
    "    -  Age: below 21, 21 to 25, 26 to 30, etc.\n",
    "    -  Marital Status: single, married partner, unmarried partner, or widowed\n",
    "    -  Number of children: 0, 1, or more than 1\n",
    "    -  Education: high school, bachelors degree, associates degree, or graduate degree\n",
    "    -  Occupation: architecture & engineering, business & financial, etc.\n",
    "    -  Annual income: less than \\\\$12500, \\\\$12500 - \\\\$24999, \\\\$25000 - \\\\$37499, etc.\n",
    "    -  Number of times that he/she goes to a bar: 0, less than 1, 1 to 3, 4 to 8 or greater than 8\n",
    "    -  Number of times that he/she buys takeaway food: 0, less than 1, 1 to 3, 4 to 8 or greater\n",
    "    than 8\n",
    "    -  Number of times that he/she goes to a coffee house: 0, less than 1, 1 to 3, 4 to 8 or\n",
    "    greater than 8\n",
    "    -  Number of times that he/she eats at a restaurant with average expense less than \\\\$20 per\n",
    "    person: 0, less than 1, 1 to 3, 4 to 8 or greater than 8\n",
    "    -  Number of times that he/she goes to a bar: 0, less than 1, 1 to 3, 4 to 8 or greater than 8\n",
    "    \n",
    "\n",
    "2. Contextual attributes\n",
    "    - Driving destination: home, work, or no urgent destination\n",
    "    - Location of user, coupon and destination: we provide a map to show the geographical\n",
    "    location of the user, destination, and the venue, and we mark the distance between each\n",
    "    two places with time of driving. The user can see whether the venue is in the same\n",
    "    direction as the destination.\n",
    "    - Weather: sunny, rainy, or snowy\n",
    "    - Temperature: 30F, 55F, or 80F\n",
    "    - Time: 10AM, 2PM, or 6PM\n",
    "    - Passenger: alone, partner, kid(s), or friend(s)\n",
    "\n",
    "\n",
    "3. Coupon attributes\n",
    "    - time before it expires: 2 hours or one day"
   ]
  },
  {
   "cell_type": "code",
   "execution_count": 2,
   "metadata": {},
   "outputs": [],
   "source": [
    "import matplotlib.pyplot as plt\n",
    "import seaborn as sns\n",
    "import pandas as pd\n",
    "import numpy as np"
   ]
  },
  {
   "cell_type": "markdown",
   "metadata": {},
   "source": [
    "### Problems\n",
    "\n",
    "Use the prompts below to get started with your data analysis."
   ]
  },
  {
   "cell_type": "markdown",
   "metadata": {},
   "source": [
    "#### 1. Read in the coupons.csv file."
   ]
  },
  {
   "cell_type": "code",
   "execution_count": 301,
   "metadata": {},
   "outputs": [],
   "source": [
    "data = pd.read_csv('data/coupons.csv')"
   ]
  },
  {
   "cell_type": "code",
   "execution_count": 4,
   "metadata": {},
   "outputs": [
    {
     "data": {
      "text/html": [
       "<div>\n",
       "<style scoped>\n",
       "    .dataframe tbody tr th:only-of-type {\n",
       "        vertical-align: middle;\n",
       "    }\n",
       "\n",
       "    .dataframe tbody tr th {\n",
       "        vertical-align: top;\n",
       "    }\n",
       "\n",
       "    .dataframe thead th {\n",
       "        text-align: right;\n",
       "    }\n",
       "</style>\n",
       "<table border=\"1\" class=\"dataframe\">\n",
       "  <thead>\n",
       "    <tr style=\"text-align: right;\">\n",
       "      <th></th>\n",
       "      <th>destination</th>\n",
       "      <th>passanger</th>\n",
       "      <th>weather</th>\n",
       "      <th>temperature</th>\n",
       "      <th>time</th>\n",
       "      <th>coupon</th>\n",
       "      <th>expiration</th>\n",
       "      <th>gender</th>\n",
       "      <th>age</th>\n",
       "      <th>maritalStatus</th>\n",
       "      <th>...</th>\n",
       "      <th>CoffeeHouse</th>\n",
       "      <th>CarryAway</th>\n",
       "      <th>RestaurantLessThan20</th>\n",
       "      <th>Restaurant20To50</th>\n",
       "      <th>toCoupon_GEQ5min</th>\n",
       "      <th>toCoupon_GEQ15min</th>\n",
       "      <th>toCoupon_GEQ25min</th>\n",
       "      <th>direction_same</th>\n",
       "      <th>direction_opp</th>\n",
       "      <th>Y</th>\n",
       "    </tr>\n",
       "  </thead>\n",
       "  <tbody>\n",
       "    <tr>\n",
       "      <th>0</th>\n",
       "      <td>No Urgent Place</td>\n",
       "      <td>Alone</td>\n",
       "      <td>Sunny</td>\n",
       "      <td>55</td>\n",
       "      <td>2PM</td>\n",
       "      <td>Restaurant(&lt;20)</td>\n",
       "      <td>1d</td>\n",
       "      <td>Female</td>\n",
       "      <td>21</td>\n",
       "      <td>Unmarried partner</td>\n",
       "      <td>...</td>\n",
       "      <td>never</td>\n",
       "      <td>NaN</td>\n",
       "      <td>4~8</td>\n",
       "      <td>1~3</td>\n",
       "      <td>1</td>\n",
       "      <td>0</td>\n",
       "      <td>0</td>\n",
       "      <td>0</td>\n",
       "      <td>1</td>\n",
       "      <td>1</td>\n",
       "    </tr>\n",
       "    <tr>\n",
       "      <th>1</th>\n",
       "      <td>No Urgent Place</td>\n",
       "      <td>Friend(s)</td>\n",
       "      <td>Sunny</td>\n",
       "      <td>80</td>\n",
       "      <td>10AM</td>\n",
       "      <td>Coffee House</td>\n",
       "      <td>2h</td>\n",
       "      <td>Female</td>\n",
       "      <td>21</td>\n",
       "      <td>Unmarried partner</td>\n",
       "      <td>...</td>\n",
       "      <td>never</td>\n",
       "      <td>NaN</td>\n",
       "      <td>4~8</td>\n",
       "      <td>1~3</td>\n",
       "      <td>1</td>\n",
       "      <td>0</td>\n",
       "      <td>0</td>\n",
       "      <td>0</td>\n",
       "      <td>1</td>\n",
       "      <td>0</td>\n",
       "    </tr>\n",
       "    <tr>\n",
       "      <th>2</th>\n",
       "      <td>No Urgent Place</td>\n",
       "      <td>Friend(s)</td>\n",
       "      <td>Sunny</td>\n",
       "      <td>80</td>\n",
       "      <td>10AM</td>\n",
       "      <td>Carry out &amp; Take away</td>\n",
       "      <td>2h</td>\n",
       "      <td>Female</td>\n",
       "      <td>21</td>\n",
       "      <td>Unmarried partner</td>\n",
       "      <td>...</td>\n",
       "      <td>never</td>\n",
       "      <td>NaN</td>\n",
       "      <td>4~8</td>\n",
       "      <td>1~3</td>\n",
       "      <td>1</td>\n",
       "      <td>1</td>\n",
       "      <td>0</td>\n",
       "      <td>0</td>\n",
       "      <td>1</td>\n",
       "      <td>1</td>\n",
       "    </tr>\n",
       "    <tr>\n",
       "      <th>3</th>\n",
       "      <td>No Urgent Place</td>\n",
       "      <td>Friend(s)</td>\n",
       "      <td>Sunny</td>\n",
       "      <td>80</td>\n",
       "      <td>2PM</td>\n",
       "      <td>Coffee House</td>\n",
       "      <td>2h</td>\n",
       "      <td>Female</td>\n",
       "      <td>21</td>\n",
       "      <td>Unmarried partner</td>\n",
       "      <td>...</td>\n",
       "      <td>never</td>\n",
       "      <td>NaN</td>\n",
       "      <td>4~8</td>\n",
       "      <td>1~3</td>\n",
       "      <td>1</td>\n",
       "      <td>1</td>\n",
       "      <td>0</td>\n",
       "      <td>0</td>\n",
       "      <td>1</td>\n",
       "      <td>0</td>\n",
       "    </tr>\n",
       "    <tr>\n",
       "      <th>4</th>\n",
       "      <td>No Urgent Place</td>\n",
       "      <td>Friend(s)</td>\n",
       "      <td>Sunny</td>\n",
       "      <td>80</td>\n",
       "      <td>2PM</td>\n",
       "      <td>Coffee House</td>\n",
       "      <td>1d</td>\n",
       "      <td>Female</td>\n",
       "      <td>21</td>\n",
       "      <td>Unmarried partner</td>\n",
       "      <td>...</td>\n",
       "      <td>never</td>\n",
       "      <td>NaN</td>\n",
       "      <td>4~8</td>\n",
       "      <td>1~3</td>\n",
       "      <td>1</td>\n",
       "      <td>1</td>\n",
       "      <td>0</td>\n",
       "      <td>0</td>\n",
       "      <td>1</td>\n",
       "      <td>0</td>\n",
       "    </tr>\n",
       "  </tbody>\n",
       "</table>\n",
       "<p>5 rows × 26 columns</p>\n",
       "</div>"
      ],
      "text/plain": [
       "       destination  passanger weather  temperature  time  \\\n",
       "0  No Urgent Place      Alone   Sunny           55   2PM   \n",
       "1  No Urgent Place  Friend(s)   Sunny           80  10AM   \n",
       "2  No Urgent Place  Friend(s)   Sunny           80  10AM   \n",
       "3  No Urgent Place  Friend(s)   Sunny           80   2PM   \n",
       "4  No Urgent Place  Friend(s)   Sunny           80   2PM   \n",
       "\n",
       "                  coupon expiration  gender age      maritalStatus  ...  \\\n",
       "0        Restaurant(<20)         1d  Female  21  Unmarried partner  ...   \n",
       "1           Coffee House         2h  Female  21  Unmarried partner  ...   \n",
       "2  Carry out & Take away         2h  Female  21  Unmarried partner  ...   \n",
       "3           Coffee House         2h  Female  21  Unmarried partner  ...   \n",
       "4           Coffee House         1d  Female  21  Unmarried partner  ...   \n",
       "\n",
       "   CoffeeHouse CarryAway RestaurantLessThan20 Restaurant20To50  \\\n",
       "0        never       NaN                  4~8              1~3   \n",
       "1        never       NaN                  4~8              1~3   \n",
       "2        never       NaN                  4~8              1~3   \n",
       "3        never       NaN                  4~8              1~3   \n",
       "4        never       NaN                  4~8              1~3   \n",
       "\n",
       "  toCoupon_GEQ5min toCoupon_GEQ15min toCoupon_GEQ25min direction_same  \\\n",
       "0                1                 0                 0              0   \n",
       "1                1                 0                 0              0   \n",
       "2                1                 1                 0              0   \n",
       "3                1                 1                 0              0   \n",
       "4                1                 1                 0              0   \n",
       "\n",
       "  direction_opp  Y  \n",
       "0             1  1  \n",
       "1             1  0  \n",
       "2             1  1  \n",
       "3             1  0  \n",
       "4             1  0  \n",
       "\n",
       "[5 rows x 26 columns]"
      ]
     },
     "execution_count": 4,
     "metadata": {},
     "output_type": "execute_result"
    }
   ],
   "source": [
    "data.head()"
   ]
  },
  {
   "cell_type": "markdown",
   "metadata": {},
   "source": [
    "#### 2. Investigate the dataset for missing or problematic data."
   ]
  },
  {
   "cell_type": "code",
   "execution_count": 5,
   "metadata": {
    "scrolled": true
   },
   "outputs": [
    {
     "name": "stdout",
     "output_type": "stream",
     "text": [
      "<class 'pandas.core.frame.DataFrame'>\n",
      "RangeIndex: 12684 entries, 0 to 12683\n",
      "Data columns (total 26 columns):\n",
      " #   Column                Non-Null Count  Dtype \n",
      "---  ------                --------------  ----- \n",
      " 0   destination           12684 non-null  object\n",
      " 1   passanger             12684 non-null  object\n",
      " 2   weather               12684 non-null  object\n",
      " 3   temperature           12684 non-null  int64 \n",
      " 4   time                  12684 non-null  object\n",
      " 5   coupon                12684 non-null  object\n",
      " 6   expiration            12684 non-null  object\n",
      " 7   gender                12684 non-null  object\n",
      " 8   age                   12684 non-null  object\n",
      " 9   maritalStatus         12684 non-null  object\n",
      " 10  has_children          12684 non-null  int64 \n",
      " 11  education             12684 non-null  object\n",
      " 12  occupation            12684 non-null  object\n",
      " 13  income                12684 non-null  object\n",
      " 14  car                   108 non-null    object\n",
      " 15  Bar                   12577 non-null  object\n",
      " 16  CoffeeHouse           12467 non-null  object\n",
      " 17  CarryAway             12533 non-null  object\n",
      " 18  RestaurantLessThan20  12554 non-null  object\n",
      " 19  Restaurant20To50      12495 non-null  object\n",
      " 20  toCoupon_GEQ5min      12684 non-null  int64 \n",
      " 21  toCoupon_GEQ15min     12684 non-null  int64 \n",
      " 22  toCoupon_GEQ25min     12684 non-null  int64 \n",
      " 23  direction_same        12684 non-null  int64 \n",
      " 24  direction_opp         12684 non-null  int64 \n",
      " 25  Y                     12684 non-null  int64 \n",
      "dtypes: int64(8), object(18)\n",
      "memory usage: 2.5+ MB\n"
     ]
    }
   ],
   "source": [
    "# Check the size of this dataset and the column types?\n",
    "data.info()"
   ]
  },
  {
   "cell_type": "markdown",
   "metadata": {},
   "source": [
    "Initial thoughts of this data:\n",
    "- passanger is spelled wrong, fix\n",
    "- mix of CamelCase and snake_case, standardize to one\n",
    "- car column has almost no data\n",
    "- Bar, CoffeeHouse, CarryAway, RestaurantLessThan20 and Restaurant20To50 are missing some data\n",
    "- most of these columns are categorical"
   ]
  },
  {
   "cell_type": "code",
   "execution_count": 298,
   "metadata": {},
   "outputs": [
    {
     "data": {
      "text/plain": [
       "coupon\n",
       "Coffee House             3996\n",
       "Restaurant(<20)          2786\n",
       "Carry out & Take away    2393\n",
       "Bar                      2017\n",
       "Restaurant(20-50)        1492\n",
       "Name: count, dtype: int64"
      ]
     },
     "execution_count": 298,
     "metadata": {},
     "output_type": "execute_result"
    }
   ],
   "source": [
    "# coupon column represents the type of coupon offered to the customer. Quick check on the values and counts of these:\n",
    "data['coupon'].value_counts()"
   ]
  },
  {
   "cell_type": "markdown",
   "metadata": {},
   "source": [
    "**Note**\n",
    "\n",
    "`coupon` column string values do not exactly match the corresponding column names."
   ]
  },
  {
   "cell_type": "code",
   "execution_count": 242,
   "metadata": {},
   "outputs": [
    {
     "data": {
      "text/plain": [
       "car\n",
       "Scooter and motorcycle                      22\n",
       "Mazda5                                      22\n",
       "do not drive                                22\n",
       "crossover                                   21\n",
       "Car that is too old to install Onstar :D    21\n",
       "Name: count, dtype: int64"
      ]
     },
     "execution_count": 242,
     "metadata": {},
     "output_type": "execute_result"
    }
   ],
   "source": [
    "# Very few rows have values for the car column. This column is likely not useful in our analysis.\n",
    "data['car'].value_counts()"
   ]
  },
  {
   "cell_type": "code",
   "execution_count": 299,
   "metadata": {},
   "outputs": [
    {
     "name": "stdout",
     "output_type": "stream",
     "text": [
      "Bar\n",
      "never    5197\n",
      "less1    3482\n",
      "1~3      2473\n",
      "4~8      1076\n",
      "gt8       349\n",
      "Name: count, dtype: int64\n",
      "\n",
      "CoffeeHouse\n",
      "less1    3385\n",
      "1~3      3225\n",
      "never    2962\n",
      "4~8      1784\n",
      "gt8      1111\n",
      "Name: count, dtype: int64\n",
      "\n",
      "CarryAway\n",
      "1~3      4672\n",
      "4~8      4258\n",
      "less1    1856\n",
      "gt8      1594\n",
      "never     153\n",
      "Name: count, dtype: int64\n",
      "\n",
      "RestaurantLessThan20\n",
      "1~3      5376\n",
      "4~8      3580\n",
      "less1    2093\n",
      "gt8      1285\n",
      "never     220\n",
      "Name: count, dtype: int64\n",
      "\n",
      "Restaurant20To50\n",
      "less1    6077\n",
      "1~3      3290\n",
      "never    2136\n",
      "4~8       728\n",
      "gt8       264\n",
      "Name: count, dtype: int64\n",
      "\n"
     ]
    }
   ],
   "source": [
    "# Review the counts of these \"number of times visited\" columns to see if anything unusual stands out\n",
    "fields = ['Bar', 'CoffeeHouse', 'CarryAway', 'RestaurantLessThan20', 'Restaurant20To50']\n",
    "for fld in fields:\n",
    "    print(data[fld].value_counts())\n",
    "    print()"
   ]
  },
  {
   "cell_type": "markdown",
   "metadata": {},
   "source": [
    "**Summary:**\n",
    "\n",
    "Nothing stands out in the \"number of times visited\" data above as being unusual or unexpected."
   ]
  },
  {
   "cell_type": "markdown",
   "metadata": {},
   "source": [
    "**Let's look at the location columns:**"
   ]
  },
  {
   "cell_type": "code",
   "execution_count": 9,
   "metadata": {},
   "outputs": [
    {
     "name": "stdout",
     "output_type": "stream",
     "text": [
      "toCoupon_GEQ5min\n",
      "1    12684\n",
      "Name: count, dtype: int64\n",
      "\n",
      "toCoupon_GEQ15min\n",
      "1    7122\n",
      "0    5562\n",
      "Name: count, dtype: int64\n",
      "\n",
      "toCoupon_GEQ25min\n",
      "0    11173\n",
      "1     1511\n",
      "Name: count, dtype: int64\n",
      "\n"
     ]
    }
   ],
   "source": [
    "fields = ['toCoupon_GEQ5min', 'toCoupon_GEQ15min', 'toCoupon_GEQ25min']\n",
    "for fld in fields:\n",
    "    print(data[fld].value_counts())\n",
    "    print()"
   ]
  },
  {
   "cell_type": "markdown",
   "metadata": {},
   "source": [
    "**Summary:**\n",
    "\n",
    "Every row has the 5min column set to 1. So this column likely not informative. Assuming \"GEQ\" here means \"greater than or equal to\", so every coupon is a minimun of 5 minutes away from the potential customer. ~14% are greater than 25 minutes away, looking at the data it appears most of the coupons are ~15-20 minutes away.\n",
    "\n",
    "Considering that `toCoupon_GEQ5min` is the same for all rows, and `toCoupon_GEQ25min` has few rows set to true, I would not expect this information to be deterministic of accepting the coupon."
   ]
  },
  {
   "cell_type": "markdown",
   "metadata": {},
   "source": [
    "**Direction columns**\n",
    "\n",
    "If the data is complete for these two columns, we expect the counts to be the exact opposite"
   ]
  },
  {
   "cell_type": "code",
   "execution_count": 10,
   "metadata": {},
   "outputs": [
    {
     "data": {
      "text/plain": [
       "direction_same\n",
       "0    9960\n",
       "1    2724\n",
       "Name: count, dtype: int64"
      ]
     },
     "execution_count": 10,
     "metadata": {},
     "output_type": "execute_result"
    }
   ],
   "source": [
    "data['direction_same'].value_counts()"
   ]
  },
  {
   "cell_type": "code",
   "execution_count": 11,
   "metadata": {},
   "outputs": [
    {
     "data": {
      "text/plain": [
       "direction_opp\n",
       "1    9960\n",
       "0    2724\n",
       "Name: count, dtype: int64"
      ]
     },
     "execution_count": 11,
     "metadata": {},
     "output_type": "execute_result"
    }
   ],
   "source": [
    "data['direction_opp'].value_counts()"
   ]
  },
  {
   "cell_type": "markdown",
   "metadata": {},
   "source": [
    "**Summary:**\n",
    "\n",
    "The direction columns look good"
   ]
  },
  {
   "cell_type": "markdown",
   "metadata": {},
   "source": [
    "**Rename Columns**\n",
    "\n",
    "Renaming columns to fix typos and have consistency in naming conventions."
   ]
  },
  {
   "cell_type": "code",
   "execution_count": 12,
   "metadata": {},
   "outputs": [],
   "source": [
    "# Create a new DataFrame with columns renamed\n",
    "column_map = {\n",
    "    'passanger': 'passenger',\n",
    "    'maritalStatus': 'marital_status',\n",
    "    'Bar': 'bar',\n",
    "    'CoffeeHouse': 'coffee_house',\n",
    "    'CarryAway': 'carry_away',\n",
    "    'RestaurantLessThan20': 'restaurant_20',\n",
    "    'Restaurant20To50': 'restaurant_50',\n",
    "    'toCoupon_GEQ5min': 'to_coupon_5min',\n",
    "    'toCoupon_GEQ15min': 'to_coupon_15min',\n",
    "    'toCoupon_GEQ25min': 'to_coupon_25min',\n",
    "}"
   ]
  },
  {
   "cell_type": "code",
   "execution_count": 302,
   "metadata": {},
   "outputs": [
    {
     "name": "stdout",
     "output_type": "stream",
     "text": [
      "<class 'pandas.core.frame.DataFrame'>\n",
      "RangeIndex: 12684 entries, 0 to 12683\n",
      "Data columns (total 26 columns):\n",
      " #   Column           Non-Null Count  Dtype \n",
      "---  ------           --------------  ----- \n",
      " 0   destination      12684 non-null  object\n",
      " 1   passenger        12684 non-null  object\n",
      " 2   weather          12684 non-null  object\n",
      " 3   temperature      12684 non-null  int64 \n",
      " 4   time             12684 non-null  object\n",
      " 5   coupon           12684 non-null  object\n",
      " 6   expiration       12684 non-null  object\n",
      " 7   gender           12684 non-null  object\n",
      " 8   age              12684 non-null  object\n",
      " 9   marital_status   12684 non-null  object\n",
      " 10  has_children     12684 non-null  int64 \n",
      " 11  education        12684 non-null  object\n",
      " 12  occupation       12684 non-null  object\n",
      " 13  income           12684 non-null  object\n",
      " 14  car              108 non-null    object\n",
      " 15  bar              12577 non-null  object\n",
      " 16  coffee_house     12467 non-null  object\n",
      " 17  carry_away       12533 non-null  object\n",
      " 18  restaurant_20    12554 non-null  object\n",
      " 19  restaurant_50    12495 non-null  object\n",
      " 20  to_coupon_5min   12684 non-null  int64 \n",
      " 21  to_coupon_15min  12684 non-null  int64 \n",
      " 22  to_coupon_25min  12684 non-null  int64 \n",
      " 23  direction_same   12684 non-null  int64 \n",
      " 24  direction_opp    12684 non-null  int64 \n",
      " 25  Y                12684 non-null  int64 \n",
      "dtypes: int64(8), object(18)\n",
      "memory usage: 2.5+ MB\n"
     ]
    }
   ],
   "source": [
    "df = data.rename(columns=column_map)\n",
    "df.info()"
   ]
  },
  {
   "cell_type": "code",
   "execution_count": 14,
   "metadata": {},
   "outputs": [
    {
     "data": {
      "text/plain": [
       "destination          No Urgent Place\n",
       "passenger                      Alone\n",
       "weather                        Sunny\n",
       "temperature                       55\n",
       "time                            10AM\n",
       "coupon                  Coffee House\n",
       "expiration                        2h\n",
       "gender                          Male\n",
       "age                               21\n",
       "marital_status                Single\n",
       "has_children                       0\n",
       "education          Associates degree\n",
       "occupation                   Student\n",
       "income               $12500 - $24999\n",
       "car                              NaN\n",
       "bar                              1~3\n",
       "coffee_house                   less1\n",
       "carry_away                       1~3\n",
       "restaurant_20                  less1\n",
       "restaurant_50                    1~3\n",
       "to_coupon_5min                     1\n",
       "to_coupon_15min                    0\n",
       "to_coupon_25min                    0\n",
       "direction_same                     0\n",
       "direction_opp                      1\n",
       "Y                                  1\n",
       "Name: 100, dtype: object"
      ]
     },
     "execution_count": 14,
     "metadata": {},
     "output_type": "execute_result"
    }
   ],
   "source": [
    "# Look at an example row\n",
    "df.iloc[100]"
   ]
  },
  {
   "cell_type": "markdown",
   "metadata": {},
   "source": [
    "#### 3. Decide what to do about your missing data -- drop, replace, other..."
   ]
  },
  {
   "cell_type": "markdown",
   "metadata": {},
   "source": [
    "Dropping the car column since it has so little data, less than 1% of it's rows have values. Also the values we do have in these 108 rows looks incomplete. We have 22 rows listed as \"Mazda5\", that's the only car make and model listed. If we have reliable car descriptions we would expect to see a distribution of car makes and models."
   ]
  },
  {
   "cell_type": "code",
   "execution_count": 303,
   "metadata": {},
   "outputs": [],
   "source": [
    "df = df.drop(columns=['car'])"
   ]
  },
  {
   "cell_type": "code",
   "execution_count": 304,
   "metadata": {},
   "outputs": [
    {
     "name": "stdout",
     "output_type": "stream",
     "text": [
      "<class 'pandas.core.frame.DataFrame'>\n",
      "RangeIndex: 12684 entries, 0 to 12683\n",
      "Data columns (total 25 columns):\n",
      " #   Column           Non-Null Count  Dtype \n",
      "---  ------           --------------  ----- \n",
      " 0   destination      12684 non-null  object\n",
      " 1   passenger        12684 non-null  object\n",
      " 2   weather          12684 non-null  object\n",
      " 3   temperature      12684 non-null  int64 \n",
      " 4   time             12684 non-null  object\n",
      " 5   coupon           12684 non-null  object\n",
      " 6   expiration       12684 non-null  object\n",
      " 7   gender           12684 non-null  object\n",
      " 8   age              12684 non-null  object\n",
      " 9   marital_status   12684 non-null  object\n",
      " 10  has_children     12684 non-null  int64 \n",
      " 11  education        12684 non-null  object\n",
      " 12  occupation       12684 non-null  object\n",
      " 13  income           12684 non-null  object\n",
      " 14  bar              12577 non-null  object\n",
      " 15  coffee_house     12467 non-null  object\n",
      " 16  carry_away       12533 non-null  object\n",
      " 17  restaurant_20    12554 non-null  object\n",
      " 18  restaurant_50    12495 non-null  object\n",
      " 19  to_coupon_5min   12684 non-null  int64 \n",
      " 20  to_coupon_15min  12684 non-null  int64 \n",
      " 21  to_coupon_25min  12684 non-null  int64 \n",
      " 22  direction_same   12684 non-null  int64 \n",
      " 23  direction_opp    12684 non-null  int64 \n",
      " 24  Y                12684 non-null  int64 \n",
      "dtypes: int64(8), object(17)\n",
      "memory usage: 2.4+ MB\n"
     ]
    }
   ],
   "source": [
    "df.info()"
   ]
  },
  {
   "cell_type": "markdown",
   "metadata": {},
   "source": [
    "We're missing values for ~1% of the \"number of times\" fields. I'm replacing these with a \"no answer\" value so I can track them later. Perhaps there's a correlation between the missing values and some other field. For example, maybe individuals from a particular occupation declined to state their bar habbits for some reason."
   ]
  },
  {
   "cell_type": "code",
   "execution_count": 307,
   "metadata": {},
   "outputs": [
    {
     "data": {
      "text/plain": [
       "bar\n",
       "never    5197\n",
       "less1    3482\n",
       "1~3      2473\n",
       "4~8      1076\n",
       "gt8       349\n",
       "NaN       107\n",
       "Name: count, dtype: int64"
      ]
     },
     "execution_count": 307,
     "metadata": {},
     "output_type": "execute_result"
    }
   ],
   "source": [
    "df.bar.value_counts(dropna=False)"
   ]
  },
  {
   "cell_type": "code",
   "execution_count": 316,
   "metadata": {},
   "outputs": [],
   "source": [
    "fill_map = {\n",
    "    'bar': 'no_answer',\n",
    "    'coffee_house': 'no_answer',\n",
    "    'carry_away': 'no_answer',\n",
    "    'restaurant_20': 'no_answer',\n",
    "    'restaurant_50': 'no_answer'\n",
    "}\n",
    "df.fillna(value=fill_map, inplace=True)"
   ]
  },
  {
   "cell_type": "code",
   "execution_count": 317,
   "metadata": {},
   "outputs": [
    {
     "name": "stdout",
     "output_type": "stream",
     "text": [
      "<class 'pandas.core.frame.DataFrame'>\n",
      "RangeIndex: 12684 entries, 0 to 12683\n",
      "Data columns (total 25 columns):\n",
      " #   Column           Non-Null Count  Dtype \n",
      "---  ------           --------------  ----- \n",
      " 0   destination      12684 non-null  object\n",
      " 1   passenger        12684 non-null  object\n",
      " 2   weather          12684 non-null  object\n",
      " 3   temperature      12684 non-null  int64 \n",
      " 4   time             12684 non-null  object\n",
      " 5   coupon           12684 non-null  object\n",
      " 6   expiration       12684 non-null  object\n",
      " 7   gender           12684 non-null  object\n",
      " 8   age              12684 non-null  object\n",
      " 9   marital_status   12684 non-null  object\n",
      " 10  has_children     12684 non-null  int64 \n",
      " 11  education        12684 non-null  object\n",
      " 12  occupation       12684 non-null  object\n",
      " 13  income           12684 non-null  object\n",
      " 14  bar              12684 non-null  object\n",
      " 15  coffee_house     12684 non-null  object\n",
      " 16  carry_away       12684 non-null  object\n",
      " 17  restaurant_20    12684 non-null  object\n",
      " 18  restaurant_50    12684 non-null  object\n",
      " 19  to_coupon_5min   12684 non-null  int64 \n",
      " 20  to_coupon_15min  12684 non-null  int64 \n",
      " 21  to_coupon_25min  12684 non-null  int64 \n",
      " 22  direction_same   12684 non-null  int64 \n",
      " 23  direction_opp    12684 non-null  int64 \n",
      " 24  Y                12684 non-null  int64 \n",
      "dtypes: int64(8), object(17)\n",
      "memory usage: 2.4+ MB\n"
     ]
    }
   ],
   "source": [
    "df.info()"
   ]
  },
  {
   "cell_type": "code",
   "execution_count": 318,
   "metadata": {},
   "outputs": [
    {
     "data": {
      "text/plain": [
       "bar\n",
       "never        5197\n",
       "less1        3482\n",
       "1~3          2473\n",
       "4~8          1076\n",
       "gt8           349\n",
       "no_answer     107\n",
       "Name: count, dtype: int64"
      ]
     },
     "execution_count": 318,
     "metadata": {},
     "output_type": "execute_result"
    }
   ],
   "source": [
    "df.bar.value_counts(dropna=False)"
   ]
  },
  {
   "cell_type": "markdown",
   "metadata": {},
   "source": [
    "**Check for any duplicates**"
   ]
  },
  {
   "cell_type": "code",
   "execution_count": 70,
   "metadata": {},
   "outputs": [
    {
     "name": "stdout",
     "output_type": "stream",
     "text": [
      "<class 'pandas.core.frame.DataFrame'>\n",
      "Index: 74 entries, 4192 to 8516\n",
      "Data columns (total 25 columns):\n",
      " #   Column           Non-Null Count  Dtype \n",
      "---  ------           --------------  ----- \n",
      " 0   destination      74 non-null     object\n",
      " 1   passenger        74 non-null     object\n",
      " 2   weather          74 non-null     object\n",
      " 3   temperature      74 non-null     int64 \n",
      " 4   time             74 non-null     object\n",
      " 5   coupon           74 non-null     object\n",
      " 6   expiration       74 non-null     object\n",
      " 7   gender           74 non-null     object\n",
      " 8   age              74 non-null     object\n",
      " 9   marital_status   74 non-null     object\n",
      " 10  has_children     74 non-null     int64 \n",
      " 11  education        74 non-null     object\n",
      " 12  occupation       74 non-null     object\n",
      " 13  income           74 non-null     object\n",
      " 14  bar              74 non-null     object\n",
      " 15  coffee_house     74 non-null     object\n",
      " 16  carry_away       73 non-null     object\n",
      " 17  restaurant_20    73 non-null     object\n",
      " 18  restaurant_50    74 non-null     object\n",
      " 19  to_coupon_5min   74 non-null     int64 \n",
      " 20  to_coupon_15min  74 non-null     int64 \n",
      " 21  to_coupon_25min  74 non-null     int64 \n",
      " 22  direction_same   74 non-null     int64 \n",
      " 23  direction_opp    74 non-null     int64 \n",
      " 24  Y                74 non-null     int64 \n",
      "dtypes: int64(8), object(17)\n",
      "memory usage: 15.0+ KB\n"
     ]
    }
   ],
   "source": [
    "# Any duplicate rows?\n",
    "dups = df[df.duplicated()]\n",
    "dups.info()"
   ]
  },
  {
   "cell_type": "code",
   "execution_count": 69,
   "metadata": {},
   "outputs": [
    {
     "data": {
      "text/html": [
       "<div>\n",
       "<style scoped>\n",
       "    .dataframe tbody tr th:only-of-type {\n",
       "        vertical-align: middle;\n",
       "    }\n",
       "\n",
       "    .dataframe tbody tr th {\n",
       "        vertical-align: top;\n",
       "    }\n",
       "\n",
       "    .dataframe thead th {\n",
       "        text-align: right;\n",
       "    }\n",
       "</style>\n",
       "<table border=\"1\" class=\"dataframe\">\n",
       "  <thead>\n",
       "    <tr style=\"text-align: right;\">\n",
       "      <th></th>\n",
       "      <th>destination</th>\n",
       "      <th>passenger</th>\n",
       "      <th>weather</th>\n",
       "      <th>temperature</th>\n",
       "      <th>time</th>\n",
       "      <th>coupon</th>\n",
       "      <th>expiration</th>\n",
       "      <th>gender</th>\n",
       "      <th>age</th>\n",
       "      <th>marital_status</th>\n",
       "      <th>...</th>\n",
       "      <th>coffee_house</th>\n",
       "      <th>carry_away</th>\n",
       "      <th>restaurant_20</th>\n",
       "      <th>restaurant_50</th>\n",
       "      <th>to_coupon_5min</th>\n",
       "      <th>to_coupon_15min</th>\n",
       "      <th>to_coupon_25min</th>\n",
       "      <th>direction_same</th>\n",
       "      <th>direction_opp</th>\n",
       "      <th>Y</th>\n",
       "    </tr>\n",
       "  </thead>\n",
       "  <tbody>\n",
       "    <tr>\n",
       "      <th>4192</th>\n",
       "      <td>Work</td>\n",
       "      <td>Alone</td>\n",
       "      <td>Sunny</td>\n",
       "      <td>80</td>\n",
       "      <td>7AM</td>\n",
       "      <td>Carry out &amp; Take away</td>\n",
       "      <td>1d</td>\n",
       "      <td>Male</td>\n",
       "      <td>26</td>\n",
       "      <td>Single</td>\n",
       "      <td>...</td>\n",
       "      <td>never</td>\n",
       "      <td>1~3</td>\n",
       "      <td>less1</td>\n",
       "      <td>less1</td>\n",
       "      <td>1</td>\n",
       "      <td>1</td>\n",
       "      <td>1</td>\n",
       "      <td>0</td>\n",
       "      <td>1</td>\n",
       "      <td>1</td>\n",
       "    </tr>\n",
       "    <tr>\n",
       "      <th>4236</th>\n",
       "      <td>Work</td>\n",
       "      <td>Alone</td>\n",
       "      <td>Sunny</td>\n",
       "      <td>80</td>\n",
       "      <td>7AM</td>\n",
       "      <td>Carry out &amp; Take away</td>\n",
       "      <td>1d</td>\n",
       "      <td>Male</td>\n",
       "      <td>26</td>\n",
       "      <td>Single</td>\n",
       "      <td>...</td>\n",
       "      <td>gt8</td>\n",
       "      <td>gt8</td>\n",
       "      <td>4~8</td>\n",
       "      <td>less1</td>\n",
       "      <td>1</td>\n",
       "      <td>1</td>\n",
       "      <td>1</td>\n",
       "      <td>0</td>\n",
       "      <td>1</td>\n",
       "      <td>1</td>\n",
       "    </tr>\n",
       "    <tr>\n",
       "      <th>4280</th>\n",
       "      <td>Work</td>\n",
       "      <td>Alone</td>\n",
       "      <td>Sunny</td>\n",
       "      <td>80</td>\n",
       "      <td>7AM</td>\n",
       "      <td>Carry out &amp; Take away</td>\n",
       "      <td>1d</td>\n",
       "      <td>Female</td>\n",
       "      <td>26</td>\n",
       "      <td>Single</td>\n",
       "      <td>...</td>\n",
       "      <td>never</td>\n",
       "      <td>4~8</td>\n",
       "      <td>1~3</td>\n",
       "      <td>less1</td>\n",
       "      <td>1</td>\n",
       "      <td>1</td>\n",
       "      <td>1</td>\n",
       "      <td>0</td>\n",
       "      <td>1</td>\n",
       "      <td>1</td>\n",
       "    </tr>\n",
       "    <tr>\n",
       "      <th>4324</th>\n",
       "      <td>Work</td>\n",
       "      <td>Alone</td>\n",
       "      <td>Sunny</td>\n",
       "      <td>80</td>\n",
       "      <td>7AM</td>\n",
       "      <td>Carry out &amp; Take away</td>\n",
       "      <td>1d</td>\n",
       "      <td>Female</td>\n",
       "      <td>46</td>\n",
       "      <td>Single</td>\n",
       "      <td>...</td>\n",
       "      <td>never</td>\n",
       "      <td>4~8</td>\n",
       "      <td>1~3</td>\n",
       "      <td>1~3</td>\n",
       "      <td>1</td>\n",
       "      <td>1</td>\n",
       "      <td>1</td>\n",
       "      <td>0</td>\n",
       "      <td>1</td>\n",
       "      <td>1</td>\n",
       "    </tr>\n",
       "    <tr>\n",
       "      <th>4409</th>\n",
       "      <td>Work</td>\n",
       "      <td>Alone</td>\n",
       "      <td>Sunny</td>\n",
       "      <td>80</td>\n",
       "      <td>7AM</td>\n",
       "      <td>Carry out &amp; Take away</td>\n",
       "      <td>1d</td>\n",
       "      <td>Female</td>\n",
       "      <td>21</td>\n",
       "      <td>Single</td>\n",
       "      <td>...</td>\n",
       "      <td>never</td>\n",
       "      <td>less1</td>\n",
       "      <td>1~3</td>\n",
       "      <td>never</td>\n",
       "      <td>1</td>\n",
       "      <td>1</td>\n",
       "      <td>1</td>\n",
       "      <td>0</td>\n",
       "      <td>1</td>\n",
       "      <td>0</td>\n",
       "    </tr>\n",
       "    <tr>\n",
       "      <th>...</th>\n",
       "      <td>...</td>\n",
       "      <td>...</td>\n",
       "      <td>...</td>\n",
       "      <td>...</td>\n",
       "      <td>...</td>\n",
       "      <td>...</td>\n",
       "      <td>...</td>\n",
       "      <td>...</td>\n",
       "      <td>...</td>\n",
       "      <td>...</td>\n",
       "      <td>...</td>\n",
       "      <td>...</td>\n",
       "      <td>...</td>\n",
       "      <td>...</td>\n",
       "      <td>...</td>\n",
       "      <td>...</td>\n",
       "      <td>...</td>\n",
       "      <td>...</td>\n",
       "      <td>...</td>\n",
       "      <td>...</td>\n",
       "      <td>...</td>\n",
       "    </tr>\n",
       "    <tr>\n",
       "      <th>8511</th>\n",
       "      <td>Home</td>\n",
       "      <td>Alone</td>\n",
       "      <td>Sunny</td>\n",
       "      <td>80</td>\n",
       "      <td>6PM</td>\n",
       "      <td>Bar</td>\n",
       "      <td>2h</td>\n",
       "      <td>Male</td>\n",
       "      <td>46</td>\n",
       "      <td>Married partner</td>\n",
       "      <td>...</td>\n",
       "      <td>1~3</td>\n",
       "      <td>1~3</td>\n",
       "      <td>less1</td>\n",
       "      <td>1~3</td>\n",
       "      <td>1</td>\n",
       "      <td>0</td>\n",
       "      <td>0</td>\n",
       "      <td>1</td>\n",
       "      <td>0</td>\n",
       "      <td>1</td>\n",
       "    </tr>\n",
       "    <tr>\n",
       "      <th>8512</th>\n",
       "      <td>Home</td>\n",
       "      <td>Partner</td>\n",
       "      <td>Sunny</td>\n",
       "      <td>30</td>\n",
       "      <td>10PM</td>\n",
       "      <td>Carry out &amp; Take away</td>\n",
       "      <td>2h</td>\n",
       "      <td>Male</td>\n",
       "      <td>46</td>\n",
       "      <td>Married partner</td>\n",
       "      <td>...</td>\n",
       "      <td>1~3</td>\n",
       "      <td>1~3</td>\n",
       "      <td>less1</td>\n",
       "      <td>1~3</td>\n",
       "      <td>1</td>\n",
       "      <td>1</td>\n",
       "      <td>0</td>\n",
       "      <td>0</td>\n",
       "      <td>1</td>\n",
       "      <td>1</td>\n",
       "    </tr>\n",
       "    <tr>\n",
       "      <th>8513</th>\n",
       "      <td>Work</td>\n",
       "      <td>Alone</td>\n",
       "      <td>Rainy</td>\n",
       "      <td>55</td>\n",
       "      <td>7AM</td>\n",
       "      <td>Restaurant(&lt;20)</td>\n",
       "      <td>2h</td>\n",
       "      <td>Male</td>\n",
       "      <td>46</td>\n",
       "      <td>Married partner</td>\n",
       "      <td>...</td>\n",
       "      <td>1~3</td>\n",
       "      <td>1~3</td>\n",
       "      <td>less1</td>\n",
       "      <td>1~3</td>\n",
       "      <td>1</td>\n",
       "      <td>1</td>\n",
       "      <td>1</td>\n",
       "      <td>0</td>\n",
       "      <td>1</td>\n",
       "      <td>0</td>\n",
       "    </tr>\n",
       "    <tr>\n",
       "      <th>8515</th>\n",
       "      <td>Work</td>\n",
       "      <td>Alone</td>\n",
       "      <td>Snowy</td>\n",
       "      <td>30</td>\n",
       "      <td>7AM</td>\n",
       "      <td>Restaurant(20-50)</td>\n",
       "      <td>1d</td>\n",
       "      <td>Male</td>\n",
       "      <td>46</td>\n",
       "      <td>Married partner</td>\n",
       "      <td>...</td>\n",
       "      <td>1~3</td>\n",
       "      <td>1~3</td>\n",
       "      <td>less1</td>\n",
       "      <td>1~3</td>\n",
       "      <td>1</td>\n",
       "      <td>1</td>\n",
       "      <td>1</td>\n",
       "      <td>0</td>\n",
       "      <td>1</td>\n",
       "      <td>0</td>\n",
       "    </tr>\n",
       "    <tr>\n",
       "      <th>8516</th>\n",
       "      <td>Work</td>\n",
       "      <td>Alone</td>\n",
       "      <td>Sunny</td>\n",
       "      <td>80</td>\n",
       "      <td>7AM</td>\n",
       "      <td>Restaurant(&lt;20)</td>\n",
       "      <td>1d</td>\n",
       "      <td>Male</td>\n",
       "      <td>46</td>\n",
       "      <td>Married partner</td>\n",
       "      <td>...</td>\n",
       "      <td>1~3</td>\n",
       "      <td>1~3</td>\n",
       "      <td>less1</td>\n",
       "      <td>1~3</td>\n",
       "      <td>1</td>\n",
       "      <td>0</td>\n",
       "      <td>0</td>\n",
       "      <td>1</td>\n",
       "      <td>0</td>\n",
       "      <td>1</td>\n",
       "    </tr>\n",
       "  </tbody>\n",
       "</table>\n",
       "<p>74 rows × 25 columns</p>\n",
       "</div>"
      ],
      "text/plain": [
       "     destination passenger weather  temperature  time                 coupon  \\\n",
       "4192        Work     Alone   Sunny           80   7AM  Carry out & Take away   \n",
       "4236        Work     Alone   Sunny           80   7AM  Carry out & Take away   \n",
       "4280        Work     Alone   Sunny           80   7AM  Carry out & Take away   \n",
       "4324        Work     Alone   Sunny           80   7AM  Carry out & Take away   \n",
       "4409        Work     Alone   Sunny           80   7AM  Carry out & Take away   \n",
       "...          ...       ...     ...          ...   ...                    ...   \n",
       "8511        Home     Alone   Sunny           80   6PM                    Bar   \n",
       "8512        Home   Partner   Sunny           30  10PM  Carry out & Take away   \n",
       "8513        Work     Alone   Rainy           55   7AM        Restaurant(<20)   \n",
       "8515        Work     Alone   Snowy           30   7AM      Restaurant(20-50)   \n",
       "8516        Work     Alone   Sunny           80   7AM        Restaurant(<20)   \n",
       "\n",
       "     expiration  gender age   marital_status  ...  coffee_house carry_away  \\\n",
       "4192         1d    Male  26           Single  ...         never        1~3   \n",
       "4236         1d    Male  26           Single  ...           gt8        gt8   \n",
       "4280         1d  Female  26           Single  ...         never        4~8   \n",
       "4324         1d  Female  46           Single  ...         never        4~8   \n",
       "4409         1d  Female  21           Single  ...         never      less1   \n",
       "...         ...     ...  ..              ...  ...           ...        ...   \n",
       "8511         2h    Male  46  Married partner  ...           1~3        1~3   \n",
       "8512         2h    Male  46  Married partner  ...           1~3        1~3   \n",
       "8513         2h    Male  46  Married partner  ...           1~3        1~3   \n",
       "8515         1d    Male  46  Married partner  ...           1~3        1~3   \n",
       "8516         1d    Male  46  Married partner  ...           1~3        1~3   \n",
       "\n",
       "     restaurant_20 restaurant_50 to_coupon_5min to_coupon_15min  \\\n",
       "4192         less1         less1              1               1   \n",
       "4236           4~8         less1              1               1   \n",
       "4280           1~3         less1              1               1   \n",
       "4324           1~3           1~3              1               1   \n",
       "4409           1~3         never              1               1   \n",
       "...            ...           ...            ...             ...   \n",
       "8511         less1           1~3              1               0   \n",
       "8512         less1           1~3              1               1   \n",
       "8513         less1           1~3              1               1   \n",
       "8515         less1           1~3              1               1   \n",
       "8516         less1           1~3              1               0   \n",
       "\n",
       "     to_coupon_25min direction_same direction_opp  Y  \n",
       "4192               1              0             1  1  \n",
       "4236               1              0             1  1  \n",
       "4280               1              0             1  1  \n",
       "4324               1              0             1  1  \n",
       "4409               1              0             1  0  \n",
       "...              ...            ...           ... ..  \n",
       "8511               0              1             0  1  \n",
       "8512               0              0             1  1  \n",
       "8513               1              0             1  0  \n",
       "8515               1              0             1  0  \n",
       "8516               0              1             0  1  \n",
       "\n",
       "[74 rows x 25 columns]"
      ]
     },
     "execution_count": 69,
     "metadata": {},
     "output_type": "execute_result"
    }
   ],
   "source": [
    "dups"
   ]
  },
  {
   "cell_type": "markdown",
   "metadata": {},
   "source": [
    "This data is anonymized, as best I can tell there is no unique ID for each row, so it seems entirely possible we could have matching rows that are not \"duplicate\" in the sense of the same person. We could simply be seeing similar bucketed conditions. The count of duplicate rows is also small, 74 out of 12684 rows, or ~0.6%. For now I'll leave these rows in the dataset as I'm not confident they're duplicates that should be removed and the count isn't large enough to have a big impact on our result."
   ]
  },
  {
   "cell_type": "markdown",
   "metadata": {},
   "source": [
    "**Age column**\n",
    "\n",
    "The age column is a string type (or object) and we'll want to do some numeric comparisions later. Looking at the value_counts, the column is age buckets, not exact age of the individual. Based on the values, the number is the lower bound of the age bin. Rename these and update the type. Technically these are all \"drivers\", so we could assume the lower bound of the data is \"legal driving age\", but I don't want to assume a driving age so we'll set the \"below 21\" age to zero as the lower bound."
   ]
  },
  {
   "cell_type": "code",
   "execution_count": 150,
   "metadata": {},
   "outputs": [
    {
     "data": {
      "text/plain": [
       "age\n",
       "21         2653\n",
       "26         2559\n",
       "31         2039\n",
       "50plus     1788\n",
       "36         1319\n",
       "41         1093\n",
       "46          686\n",
       "below21     547\n",
       "Name: count, dtype: int64"
      ]
     },
     "execution_count": 150,
     "metadata": {},
     "output_type": "execute_result"
    }
   ],
   "source": [
    "df['age'].value_counts()"
   ]
  },
  {
   "cell_type": "code",
   "execution_count": 319,
   "metadata": {},
   "outputs": [],
   "source": [
    "df['age'].replace(\n",
    "    to_replace={'below21': 0,\n",
    "                '21': 21,\n",
    "                '26': 26,\n",
    "                '31': 31,\n",
    "                '36': 36,\n",
    "                '41': 41,\n",
    "                '46': 46,\n",
    "                '50plus': 50,\n",
    "               },\n",
    "    inplace=True)"
   ]
  },
  {
   "cell_type": "code",
   "execution_count": 320,
   "metadata": {},
   "outputs": [
    {
     "data": {
      "text/plain": [
       "age\n",
       "21    2653\n",
       "26    2559\n",
       "31    2039\n",
       "50    1788\n",
       "36    1319\n",
       "41    1093\n",
       "46     686\n",
       "0      547\n",
       "Name: count, dtype: int64"
      ]
     },
     "execution_count": 320,
     "metadata": {},
     "output_type": "execute_result"
    }
   ],
   "source": [
    "# Verify the counts match after the replacement\n",
    "df['age'].value_counts()"
   ]
  },
  {
   "cell_type": "markdown",
   "metadata": {},
   "source": [
    "### BEGIN: DELETE THESE ROWS"
   ]
  },
  {
   "cell_type": "code",
   "execution_count": 73,
   "metadata": {},
   "outputs": [
    {
     "data": {
      "text/plain": [
       "coupon\n",
       "Coffee House             3996\n",
       "Restaurant(<20)          2786\n",
       "Carry out & Take away    2393\n",
       "Bar                      2017\n",
       "Restaurant(20-50)        1492\n",
       "Name: count, dtype: int64"
      ]
     },
     "execution_count": 73,
     "metadata": {},
     "output_type": "execute_result"
    }
   ],
   "source": [
    "df['coupon'].value_counts()"
   ]
  },
  {
   "cell_type": "code",
   "execution_count": 74,
   "metadata": {},
   "outputs": [],
   "source": [
    "coupon_map = {\n",
    "    'Coffee House': 'coffee_house',\n",
    "    'Restaurant(<20)': 'restaurant_20',\n",
    "    'Carry out & Take away': 'carry_away',\n",
    "    'Bar': 'bar',\n",
    "    'Restaurant(20-50)': 'restaurant_50',\n",
    "}"
   ]
  },
  {
   "cell_type": "markdown",
   "metadata": {},
   "source": [
    "### END"
   ]
  },
  {
   "cell_type": "markdown",
   "metadata": {},
   "source": [
    "#### 4. What proportion of the total observations chose to accept the coupon? \n",
    "\n"
   ]
  },
  {
   "cell_type": "code",
   "execution_count": 321,
   "metadata": {},
   "outputs": [
    {
     "data": {
      "text/plain": [
       "Y\n",
       "1    7210\n",
       "0    5474\n",
       "Name: count, dtype: int64"
      ]
     },
     "execution_count": 321,
     "metadata": {},
     "output_type": "execute_result"
    }
   ],
   "source": [
    "df['Y'].value_counts()"
   ]
  },
  {
   "cell_type": "code",
   "execution_count": 324,
   "metadata": {},
   "outputs": [],
   "source": [
    "# Utility function to return the proportion of those who accept a coupon\n",
    "def accept_coupon(df):\n",
    "    return (df[ df['Y'] == 1].shape[0] / df.shape[0]) * 100"
   ]
  },
  {
   "cell_type": "code",
   "execution_count": 327,
   "metadata": {},
   "outputs": [
    {
     "name": "stdout",
     "output_type": "stream",
     "text": [
      "56.84% of individuals accepted the coupon\n"
     ]
    }
   ],
   "source": [
    "prop_said_yes = accept_coupon(df)\n",
    "print(f'{round(prop_said_yes, 2)}% of individuals accepted the coupon')"
   ]
  },
  {
   "cell_type": "markdown",
   "metadata": {},
   "source": [
    "#### 5. Use a bar plot to visualize the `coupon` column."
   ]
  },
  {
   "cell_type": "code",
   "execution_count": 328,
   "metadata": {},
   "outputs": [
    {
     "name": "stderr",
     "output_type": "stream",
     "text": [
      "/opt/anaconda3/lib/python3.11/site-packages/seaborn/_oldcore.py:1119: FutureWarning: use_inf_as_na option is deprecated and will be removed in a future version. Convert inf values to NaN before operating instead.\n",
      "  with pd.option_context('mode.use_inf_as_na', True):\n"
     ]
    },
    {
     "data": {
      "text/plain": [
       "Text(0.5, 1.0, 'Distribution of Coupon types')"
      ]
     },
     "execution_count": 328,
     "metadata": {},
     "output_type": "execute_result"
    },
    {
     "data": {
      "image/png": "[encoded data removed]",
      "text/plain": [
       "<Figure size 640x480 with 1 Axes>"
      ]
     },
     "metadata": {},
     "output_type": "display_data"
    }
   ],
   "source": [
    "sns.histplot(df, x='coupon')\n",
    "plt.xticks(rotation=45)\n",
    "plt.title('Distribution of Coupon types')"
   ]
  },
  {
   "cell_type": "markdown",
   "metadata": {},
   "source": [
    "Most of the coupons are for a coffee house. Looking at the plot above, the majority of the coupons are for lower cost items."
   ]
  },
  {
   "cell_type": "markdown",
   "metadata": {},
   "source": [
    "#### 6. Use a histogram to visualize the temperature column."
   ]
  },
  {
   "cell_type": "code",
   "execution_count": 329,
   "metadata": {},
   "outputs": [
    {
     "name": "stderr",
     "output_type": "stream",
     "text": [
      "/opt/anaconda3/lib/python3.11/site-packages/seaborn/_oldcore.py:1119: FutureWarning: use_inf_as_na option is deprecated and will be removed in a future version. Convert inf values to NaN before operating instead.\n",
      "  with pd.option_context('mode.use_inf_as_na', True):\n"
     ]
    },
    {
     "data": {
      "text/plain": [
       "Text(0.5, 1.0, 'Temperature at time of coupon')"
      ]
     },
     "execution_count": 329,
     "metadata": {},
     "output_type": "execute_result"
    },
    {
     "data": {
      "image/png": "[encoded data removed]",
      "text/plain": [
       "<Figure size 640x480 with 1 Axes>"
      ]
     },
     "metadata": {},
     "output_type": "display_data"
    }
   ],
   "source": [
    "sns.histplot(df, x='temperature')\n",
    "plt.title('Temperature at time of coupon')"
   ]
  },
  {
   "cell_type": "markdown",
   "metadata": {
    "jp-MarkdownHeadingCollapsed": true
   },
   "source": [
    "**Temperature**\n",
    "\n",
    "Temperature is a numeric column, but there are only 3 temperature values, so despite this being a numeric column, it's actually a categorical variable, like \"cold\", \"warm\", \"hot\".\n",
    "\n",
    "How does temperature impact acceptance of the coupon?"
   ]
  },
  {
   "cell_type": "code",
   "execution_count": 23,
   "metadata": {},
   "outputs": [
    {
     "name": "stderr",
     "output_type": "stream",
     "text": [
      "/opt/anaconda3/lib/python3.11/site-packages/seaborn/_oldcore.py:1119: FutureWarning: use_inf_as_na option is deprecated and will be removed in a future version. Convert inf values to NaN before operating instead.\n",
      "  with pd.option_context('mode.use_inf_as_na', True):\n"
     ]
    },
    {
     "data": {
      "text/plain": [
       "Text(0.5, 1.0, 'Temperature by coupon acceptance')"
      ]
     },
     "execution_count": 23,
     "metadata": {},
     "output_type": "execute_result"
    },
    {
     "data": {
      "image/png": "[encoded data removed]",
      "text/plain": [
       "<Figure size 640x480 with 1 Axes>"
      ]
     },
     "metadata": {},
     "output_type": "display_data"
    }
   ],
   "source": [
    "sns.histplot(df, x='temperature', hue='Y', multiple='dodge')\n",
    "plt.title('Temperature by coupon acceptance')"
   ]
  },
  {
   "cell_type": "markdown",
   "metadata": {},
   "source": [
    "## REVIEW ABOVE\n",
    "\n",
    "Based on the above chart, it certainly appears that the warmer the temperature the more likely individuals are to use coupons?  Need to convert these into a ratio to compare.\n"
   ]
  },
  {
   "cell_type": "markdown",
   "metadata": {},
   "source": [
    "### Investigating the Bar Coupons\n",
    "\n",
    "Now, we will lead you through an exploration of just the bar related coupons.  "
   ]
  },
  {
   "cell_type": "markdown",
   "metadata": {},
   "source": [
    "#### 1. Create a new `DataFrame` that contains just the bar coupons."
   ]
  },
  {
   "cell_type": "code",
   "execution_count": 330,
   "metadata": {},
   "outputs": [
    {
     "name": "stdout",
     "output_type": "stream",
     "text": [
      "<class 'pandas.core.frame.DataFrame'>\n",
      "Index: 2017 entries, 9 to 12682\n",
      "Data columns (total 25 columns):\n",
      " #   Column           Non-Null Count  Dtype \n",
      "---  ------           --------------  ----- \n",
      " 0   destination      2017 non-null   object\n",
      " 1   passenger        2017 non-null   object\n",
      " 2   weather          2017 non-null   object\n",
      " 3   temperature      2017 non-null   int64 \n",
      " 4   time             2017 non-null   object\n",
      " 5   coupon           2017 non-null   object\n",
      " 6   expiration       2017 non-null   object\n",
      " 7   gender           2017 non-null   object\n",
      " 8   age              2017 non-null   int64 \n",
      " 9   marital_status   2017 non-null   object\n",
      " 10  has_children     2017 non-null   int64 \n",
      " 11  education        2017 non-null   object\n",
      " 12  occupation       2017 non-null   object\n",
      " 13  income           2017 non-null   object\n",
      " 14  bar              2017 non-null   object\n",
      " 15  coffee_house     2017 non-null   object\n",
      " 16  carry_away       2017 non-null   object\n",
      " 17  restaurant_20    2017 non-null   object\n",
      " 18  restaurant_50    2017 non-null   object\n",
      " 19  to_coupon_5min   2017 non-null   int64 \n",
      " 20  to_coupon_15min  2017 non-null   int64 \n",
      " 21  to_coupon_25min  2017 non-null   int64 \n",
      " 22  direction_same   2017 non-null   int64 \n",
      " 23  direction_opp    2017 non-null   int64 \n",
      " 24  Y                2017 non-null   int64 \n",
      "dtypes: int64(9), object(16)\n",
      "memory usage: 409.7+ KB\n"
     ]
    }
   ],
   "source": [
    "df_bar = df.query('coupon == \"Bar\"')\n",
    "df_bar.info()"
   ]
  },
  {
   "cell_type": "markdown",
   "metadata": {},
   "source": [
    "#### 2. What proportion of bar coupons were accepted?\n"
   ]
  },
  {
   "cell_type": "code",
   "execution_count": 331,
   "metadata": {},
   "outputs": [
    {
     "name": "stdout",
     "output_type": "stream",
     "text": [
      "41.0% of bar coupons were accepted\n"
     ]
    }
   ],
   "source": [
    "prop_bar_yes = accept_coupon(df_bar)\n",
    "print(f'{round(prop_bar_yes, 2)}% of bar coupons were accepted')"
   ]
  },
  {
   "cell_type": "markdown",
   "metadata": {},
   "source": [
    "#### 3. Compare the acceptance rate between those who went to a bar 3 or fewer times a month to those who went more."
   ]
  },
  {
   "cell_type": "code",
   "execution_count": 332,
   "metadata": {},
   "outputs": [],
   "source": [
    "# Drop NA rows so they don't impact rate calculations.\n",
    "# These are individuals who didn't answer the question as to how often they frequent a bar each month.\n",
    "#df_bar_sub = df_bar.dropna(subset=['bar'])\n",
    "#df_bar_sub.info()"
   ]
  },
  {
   "cell_type": "code",
   "execution_count": 333,
   "metadata": {},
   "outputs": [
    {
     "data": {
      "text/plain": [
       "bar\n",
       "never        830\n",
       "less1        570\n",
       "1~3          397\n",
       "4~8          150\n",
       "gt8           49\n",
       "no_answer     21\n",
       "Name: count, dtype: int64"
      ]
     },
     "execution_count": 333,
     "metadata": {},
     "output_type": "execute_result"
    }
   ],
   "source": [
    "df_bar['bar'].value_counts()"
   ]
  },
  {
   "cell_type": "markdown",
   "metadata": {},
   "source": [
    "**BELOW**\n",
    "\n",
    "The query below shows acceptance values for the answer, 666. Need to get this into a rate!"
   ]
  },
  {
   "cell_type": "code",
   "execution_count": 73,
   "metadata": {},
   "outputs": [
    {
     "data": {
      "text/plain": [
       "Y\n",
       "0    1131\n",
       "1     666\n",
       "Name: count, dtype: int64"
      ]
     },
     "execution_count": 73,
     "metadata": {},
     "output_type": "execute_result"
    }
   ],
   "source": [
    "df_bar_3 = df_bar_sub.query('bar in (\"never\", \"less1\", \"1~3\")')\n",
    "df_bar_3['Y'].value_counts()"
   ]
  },
  {
   "cell_type": "code",
   "execution_count": 74,
   "metadata": {},
   "outputs": [
    {
     "data": {
      "text/plain": [
       "Y\n",
       "1    153\n",
       "0     46\n",
       "Name: count, dtype: int64"
      ]
     },
     "execution_count": 74,
     "metadata": {},
     "output_type": "execute_result"
    }
   ],
   "source": [
    "df_bar_4up = df_bar_sub.query('bar in (\"4~8\", \"gt8\")')\n",
    "df_bar_4up['Y'].value_counts()"
   ]
  },
  {
   "cell_type": "code",
   "execution_count": 341,
   "metadata": {},
   "outputs": [
    {
     "name": "stderr",
     "output_type": "stream",
     "text": [
      "/var/folders/n5/n6rb97jj00v5yg5zqw69hd4c0000gn/T/ipykernel_98359/898339549.py:2: SettingWithCopyWarning: \n",
      "A value is trying to be set on a copy of a slice from a DataFrame.\n",
      "Try using .loc[row_indexer,col_indexer] = value instead\n",
      "\n",
      "See the caveats in the documentation: https://pandas.pydata.org/pandas-docs/stable/user_guide/indexing.html#returning-a-view-versus-a-copy\n",
      "  df_bar['bar'] = pd.Categorical(df_bar['bar'], ['no_answer', 'never', 'less1', '1~3', '4~8', 'gt8'], ordered=True, copy=False)\n"
     ]
    }
   ],
   "source": [
    "# Ordering the bar answers so we can more easily spot any trend in the chart\n",
    "df_bar['bar'] = pd.Categorical(df_bar['bar'], ['no_answer', 'never', 'less1', '1~3', '4~8', 'gt8'], ordered=True, copy=False)"
   ]
  },
  {
   "cell_type": "code",
   "execution_count": 342,
   "metadata": {},
   "outputs": [
    {
     "name": "stderr",
     "output_type": "stream",
     "text": [
      "/opt/anaconda3/lib/python3.11/site-packages/seaborn/_oldcore.py:1119: FutureWarning: use_inf_as_na option is deprecated and will be removed in a future version. Convert inf values to NaN before operating instead.\n",
      "  with pd.option_context('mode.use_inf_as_na', True):\n"
     ]
    },
    {
     "data": {
      "text/plain": [
       "[Text(0, 0, '0.64%'),\n",
       " Text(0, 0, '33.42%'),\n",
       " Text(0, 0, '15.72%'),\n",
       " Text(0, 0, '6.94%'),\n",
       " Text(0, 0, '1.64%'),\n",
       " Text(0, 0, '0.64%')]"
      ]
     },
     "execution_count": 342,
     "metadata": {},
     "output_type": "execute_result"
    },
    {
     "data": {
      "image/png": "[encoded data removed]",
      "text/plain": [
       "<Figure size 640x480 with 1 Axes>"
      ]
     },
     "metadata": {},
     "output_type": "display_data"
    }
   ],
   "source": [
    "ax = sns.histplot(df_bar, x='bar', hue='Y', multiple='dodge', stat='percent')\n",
    "ax.bar_label(ax.containers[0], fmt='%.2f%%')\n",
    "ax.bar_label(ax.containers[1], fmt='%.2f%%')"
   ]
  },
  {
   "cell_type": "code",
   "execution_count": 129,
   "metadata": {},
   "outputs": [
    {
     "data": {
      "text/plain": [
       "bar\n",
       "True     1797\n",
       "False     199\n",
       "Name: count, dtype: int64"
      ]
     },
     "execution_count": 129,
     "metadata": {},
     "output_type": "execute_result"
    }
   ],
   "source": [
    "df_bar_sub.isin({'bar': ['never', 'less1', '1~3']})['bar'].value_counts()\n",
    "#df_bar_sub.isin({'bar': ['4~8', 'gt8']})['bar'].value_counts()\n",
    "\n",
    "# NOTE: THis gives correct numbers of the 3 or less bar visits!.  The additional colunm may not be necessary?\n",
    "# Compare the acceptance rate between those who went to a bar 3 or fewer times a month to those who went more."
   ]
  },
  {
   "cell_type": "markdown",
   "metadata": {},
   "source": [
    "Creating a new column for \"going to a bar 3 times or fewer in a month\" to easily answer questions based on this group."
   ]
  },
  {
   "cell_type": "code",
   "execution_count": 81,
   "metadata": {},
   "outputs": [
    {
     "name": "stderr",
     "output_type": "stream",
     "text": [
      "/var/folders/n5/n6rb97jj00v5yg5zqw69hd4c0000gn/T/ipykernel_98359/2912349177.py:1: SettingWithCopyWarning: \n",
      "A value is trying to be set on a copy of a slice from a DataFrame.\n",
      "Try using .loc[row_indexer,col_indexer] = value instead\n",
      "\n",
      "See the caveats in the documentation: https://pandas.pydata.org/pandas-docs/stable/user_guide/indexing.html#returning-a-view-versus-a-copy\n",
      "  df_bar_sub['bar_3_less'] = df_bar_sub.isin({'bar': ['never', 'less1', '1~3']})['bar']\n"
     ]
    }
   ],
   "source": [
    "df_bar_sub['bar_3_less'] = df_bar_sub.isin({'bar': ['never', 'less1', '1~3']})['bar']"
   ]
  },
  {
   "cell_type": "code",
   "execution_count": 85,
   "metadata": {},
   "outputs": [
    {
     "data": {
      "text/plain": [
       "bar_3_less\n",
       "True     1797\n",
       "False     199\n",
       "Name: count, dtype: int64"
      ]
     },
     "execution_count": 85,
     "metadata": {},
     "output_type": "execute_result"
    }
   ],
   "source": [
    "df_bar_sub.bar_3_less.value_counts()"
   ]
  },
  {
   "cell_type": "markdown",
   "metadata": {},
   "source": [
    "Looking at the above, 1797 people go to the bar 3 or less times per month, only 199 go more than 3 times per month."
   ]
  },
  {
   "cell_type": "code",
   "execution_count": 137,
   "metadata": {},
   "outputs": [
    {
     "data": {
      "text/plain": [
       "37.061769616026716"
      ]
     },
     "execution_count": 137,
     "metadata": {},
     "output_type": "execute_result"
    }
   ],
   "source": [
    "# Acceptance Rate for those that go to the bar 3 times or less per month:\n",
    "(df_bar_sub.query('bar_3_less == True')['Y'].sum() / df_bar_sub.query('bar_3_less == True').shape[0]) * 100"
   ]
  },
  {
   "cell_type": "code",
   "execution_count": 138,
   "metadata": {},
   "outputs": [
    {
     "data": {
      "text/plain": [
       "76.88442211055276"
      ]
     },
     "execution_count": 138,
     "metadata": {},
     "output_type": "execute_result"
    }
   ],
   "source": [
    "# Acceptance Rate for those that bo to the bar more than 3 times per month:\n",
    "(df_bar_sub.query('bar_3_less == False')['Y'].sum() / df_bar_sub.query('bar_3_less == False').shape[0]) * 100"
   ]
  },
  {
   "cell_type": "code",
   "execution_count": 347,
   "metadata": {},
   "outputs": [
    {
     "data": {
      "text/plain": [
       "(1818, 25)"
      ]
     },
     "execution_count": 347,
     "metadata": {},
     "output_type": "execute_result"
    }
   ],
   "source": [
    "# Went to bar 3 or fewer times per month\n",
    "qry = df_bar.query('bar in (\"no_answer\", \"never\", \"less1\", \"1~3\")')\n",
    "qry.shape"
   ]
  },
  {
   "cell_type": "code",
   "execution_count": 348,
   "metadata": {},
   "outputs": [
    {
     "data": {
      "text/plain": [
       "37.073707370737075"
      ]
     },
     "execution_count": 348,
     "metadata": {},
     "output_type": "execute_result"
    }
   ],
   "source": [
    "(qry['Y'].sum() / qry.shape[0]) * 100"
   ]
  },
  {
   "cell_type": "code",
   "execution_count": 349,
   "metadata": {},
   "outputs": [
    {
     "data": {
      "text/plain": [
       "37.073707370737075"
      ]
     },
     "execution_count": 349,
     "metadata": {},
     "output_type": "execute_result"
    }
   ],
   "source": [
    "accept_coupon(qry)"
   ]
  },
  {
   "cell_type": "markdown",
   "metadata": {},
   "source": [
    "## The above with \"qry\" works! Replace all the other cruft"
   ]
  },
  {
   "cell_type": "code",
   "execution_count": null,
   "metadata": {},
   "outputs": [],
   "source": []
  },
  {
   "cell_type": "markdown",
   "metadata": {},
   "source": [
    "# YOU ARE HERE"
   ]
  },
  {
   "cell_type": "code",
   "execution_count": null,
   "metadata": {},
   "outputs": [],
   "source": []
  },
  {
   "cell_type": "code",
   "execution_count": null,
   "metadata": {},
   "outputs": [],
   "source": []
  },
  {
   "cell_type": "code",
   "execution_count": null,
   "metadata": {},
   "outputs": [],
   "source": []
  },
  {
   "cell_type": "code",
   "execution_count": null,
   "metadata": {},
   "outputs": [],
   "source": []
  },
  {
   "cell_type": "code",
   "execution_count": null,
   "metadata": {},
   "outputs": [],
   "source": []
  },
  {
   "cell_type": "markdown",
   "metadata": {},
   "source": [
    "**ANSWER:**\n",
    "\n",
    "The acceptance rate of a bar coupon for those who frequent a bar 4 or more times per months is significantly higher at 76.88% when compared to individuals who go to a bar 3 or fewer times per month, of 37.06%."
   ]
  },
  {
   "cell_type": "markdown",
   "metadata": {},
   "source": [
    "## REVIEW\n",
    "\n",
    "do I need this plot?"
   ]
  },
  {
   "cell_type": "code",
   "execution_count": 112,
   "metadata": {},
   "outputs": [
    {
     "name": "stderr",
     "output_type": "stream",
     "text": [
      "/opt/anaconda3/lib/python3.11/site-packages/seaborn/_oldcore.py:1119: FutureWarning: use_inf_as_na option is deprecated and will be removed in a future version. Convert inf values to NaN before operating instead.\n",
      "  with pd.option_context('mode.use_inf_as_na', True):\n",
      "/opt/anaconda3/lib/python3.11/site-packages/seaborn/_stats/counting.py:137: RuntimeWarning: Converting input from bool to <class 'numpy.uint8'> for compatibility.\n",
      "  bin_edges = np.histogram_bin_edges(vals, bins, binrange, weight)\n",
      "/opt/anaconda3/lib/python3.11/site-packages/seaborn/_stats/counting.py:176: RuntimeWarning: Converting input from bool to <class 'numpy.uint8'> for compatibility.\n",
      "  hist, edges = np.histogram(vals, **bin_kws, weights=weights, density=density)\n"
     ]
    },
    {
     "data": {
      "image/png": "[encoded data removed]",
      "text/plain": [
       "<Figure size 640x480 with 1 Axes>"
      ]
     },
     "metadata": {},
     "output_type": "display_data"
    }
   ],
   "source": [
    "sns.histplot(df_bar_sub, x='bar_3_less', hue='Y', multiple='dodge') #stat='percent')\n",
    "plt.grid()"
   ]
  },
  {
   "cell_type": "code",
   "execution_count": null,
   "metadata": {},
   "outputs": [],
   "source": []
  },
  {
   "cell_type": "code",
   "execution_count": null,
   "metadata": {},
   "outputs": [],
   "source": []
  },
  {
   "cell_type": "code",
   "execution_count": null,
   "metadata": {},
   "outputs": [],
   "source": []
  },
  {
   "cell_type": "code",
   "execution_count": null,
   "metadata": {},
   "outputs": [],
   "source": []
  },
  {
   "cell_type": "code",
   "execution_count": null,
   "metadata": {},
   "outputs": [],
   "source": []
  },
  {
   "cell_type": "code",
   "execution_count": null,
   "metadata": {},
   "outputs": [],
   "source": []
  },
  {
   "cell_type": "markdown",
   "metadata": {},
   "source": [
    "## REVIEW\n",
    "\n",
    "Mapped to numeric values"
   ]
  },
  {
   "cell_type": "code",
   "execution_count": 37,
   "metadata": {},
   "outputs": [
    {
     "data": {
      "text/plain": [
       "bar\n",
       "never    830\n",
       "less1    570\n",
       "1~3      397\n",
       "4~8      150\n",
       "gt8       49\n",
       "Name: count, dtype: int64"
      ]
     },
     "execution_count": 37,
     "metadata": {},
     "output_type": "execute_result"
    }
   ],
   "source": [
    "df_bar['bar'].value_counts()"
   ]
  },
  {
   "cell_type": "code",
   "execution_count": 39,
   "metadata": {},
   "outputs": [
    {
     "name": "stderr",
     "output_type": "stream",
     "text": [
      "/var/folders/n5/n6rb97jj00v5yg5zqw69hd4c0000gn/T/ipykernel_98359/3464298525.py:7: SettingWithCopyWarning: \n",
      "A value is trying to be set on a copy of a slice from a DataFrame\n",
      "\n",
      "See the caveats in the documentation: https://pandas.pydata.org/pandas-docs/stable/user_guide/indexing.html#returning-a-view-versus-a-copy\n",
      "  df_bar['bar'].replace(to_replace=bar_map, inplace=True)\n"
     ]
    }
   ],
   "source": [
    "bar_map = {\n",
    "    'never': 0,\n",
    "    'less1': 1,\n",
    "    '1~3': 3,\n",
    "    '4~8': 8,\n",
    "    'gt8': 10}\n",
    "df_bar['bar'].replace(to_replace=bar_map, inplace=True)\n",
    "                      "
   ]
  },
  {
   "cell_type": "code",
   "execution_count": 40,
   "metadata": {},
   "outputs": [
    {
     "data": {
      "text/plain": [
       "bar\n",
       "0.0     830\n",
       "1.0     570\n",
       "3.0     397\n",
       "8.0     150\n",
       "10.0     49\n",
       "Name: count, dtype: int64"
      ]
     },
     "execution_count": 40,
     "metadata": {},
     "output_type": "execute_result"
    }
   ],
   "source": [
    "df_bar['bar'].value_counts()"
   ]
  },
  {
   "cell_type": "code",
   "execution_count": 45,
   "metadata": {},
   "outputs": [
    {
     "data": {
      "text/html": [
       "<div>\n",
       "<style scoped>\n",
       "    .dataframe tbody tr th:only-of-type {\n",
       "        vertical-align: middle;\n",
       "    }\n",
       "\n",
       "    .dataframe tbody tr th {\n",
       "        vertical-align: top;\n",
       "    }\n",
       "\n",
       "    .dataframe thead th {\n",
       "        text-align: right;\n",
       "    }\n",
       "</style>\n",
       "<table border=\"1\" class=\"dataframe\">\n",
       "  <thead>\n",
       "    <tr style=\"text-align: right;\">\n",
       "      <th></th>\n",
       "      <th>destination</th>\n",
       "      <th>passenger</th>\n",
       "      <th>weather</th>\n",
       "      <th>temperature</th>\n",
       "      <th>time</th>\n",
       "      <th>coupon</th>\n",
       "      <th>expiration</th>\n",
       "      <th>gender</th>\n",
       "      <th>age</th>\n",
       "      <th>marital_status</th>\n",
       "      <th>...</th>\n",
       "      <th>coffee_house</th>\n",
       "      <th>carry_away</th>\n",
       "      <th>restaurant_20</th>\n",
       "      <th>restaurant_50</th>\n",
       "      <th>to_coupon_5min</th>\n",
       "      <th>to_coupon_15min</th>\n",
       "      <th>to_coupon_25min</th>\n",
       "      <th>direction_same</th>\n",
       "      <th>direction_opp</th>\n",
       "      <th>Y</th>\n",
       "    </tr>\n",
       "  </thead>\n",
       "  <tbody>\n",
       "    <tr>\n",
       "      <th>156</th>\n",
       "      <td>No Urgent Place</td>\n",
       "      <td>Friend(s)</td>\n",
       "      <td>Sunny</td>\n",
       "      <td>80</td>\n",
       "      <td>10AM</td>\n",
       "      <td>Bar</td>\n",
       "      <td>1d</td>\n",
       "      <td>Male</td>\n",
       "      <td>26</td>\n",
       "      <td>Single</td>\n",
       "      <td>...</td>\n",
       "      <td>gt8</td>\n",
       "      <td>gt8</td>\n",
       "      <td>gt8</td>\n",
       "      <td>gt8</td>\n",
       "      <td>1</td>\n",
       "      <td>0</td>\n",
       "      <td>0</td>\n",
       "      <td>0</td>\n",
       "      <td>1</td>\n",
       "      <td>1</td>\n",
       "    </tr>\n",
       "    <tr>\n",
       "      <th>167</th>\n",
       "      <td>Home</td>\n",
       "      <td>Alone</td>\n",
       "      <td>Sunny</td>\n",
       "      <td>55</td>\n",
       "      <td>6PM</td>\n",
       "      <td>Bar</td>\n",
       "      <td>1d</td>\n",
       "      <td>Male</td>\n",
       "      <td>26</td>\n",
       "      <td>Single</td>\n",
       "      <td>...</td>\n",
       "      <td>gt8</td>\n",
       "      <td>gt8</td>\n",
       "      <td>gt8</td>\n",
       "      <td>gt8</td>\n",
       "      <td>1</td>\n",
       "      <td>0</td>\n",
       "      <td>0</td>\n",
       "      <td>1</td>\n",
       "      <td>0</td>\n",
       "      <td>1</td>\n",
       "    </tr>\n",
       "    <tr>\n",
       "      <th>171</th>\n",
       "      <td>Work</td>\n",
       "      <td>Alone</td>\n",
       "      <td>Sunny</td>\n",
       "      <td>55</td>\n",
       "      <td>7AM</td>\n",
       "      <td>Bar</td>\n",
       "      <td>1d</td>\n",
       "      <td>Male</td>\n",
       "      <td>26</td>\n",
       "      <td>Single</td>\n",
       "      <td>...</td>\n",
       "      <td>gt8</td>\n",
       "      <td>gt8</td>\n",
       "      <td>gt8</td>\n",
       "      <td>gt8</td>\n",
       "      <td>1</td>\n",
       "      <td>1</td>\n",
       "      <td>1</td>\n",
       "      <td>0</td>\n",
       "      <td>1</td>\n",
       "      <td>1</td>\n",
       "    </tr>\n",
       "    <tr>\n",
       "      <th>454</th>\n",
       "      <td>No Urgent Place</td>\n",
       "      <td>Friend(s)</td>\n",
       "      <td>Sunny</td>\n",
       "      <td>80</td>\n",
       "      <td>10AM</td>\n",
       "      <td>Bar</td>\n",
       "      <td>1d</td>\n",
       "      <td>Male</td>\n",
       "      <td>31</td>\n",
       "      <td>Single</td>\n",
       "      <td>...</td>\n",
       "      <td>gt8</td>\n",
       "      <td>gt8</td>\n",
       "      <td>gt8</td>\n",
       "      <td>gt8</td>\n",
       "      <td>1</td>\n",
       "      <td>0</td>\n",
       "      <td>0</td>\n",
       "      <td>0</td>\n",
       "      <td>1</td>\n",
       "      <td>0</td>\n",
       "    </tr>\n",
       "    <tr>\n",
       "      <th>465</th>\n",
       "      <td>Home</td>\n",
       "      <td>Alone</td>\n",
       "      <td>Sunny</td>\n",
       "      <td>55</td>\n",
       "      <td>6PM</td>\n",
       "      <td>Bar</td>\n",
       "      <td>1d</td>\n",
       "      <td>Male</td>\n",
       "      <td>31</td>\n",
       "      <td>Single</td>\n",
       "      <td>...</td>\n",
       "      <td>gt8</td>\n",
       "      <td>gt8</td>\n",
       "      <td>gt8</td>\n",
       "      <td>gt8</td>\n",
       "      <td>1</td>\n",
       "      <td>0</td>\n",
       "      <td>0</td>\n",
       "      <td>1</td>\n",
       "      <td>0</td>\n",
       "      <td>1</td>\n",
       "    </tr>\n",
       "    <tr>\n",
       "      <th>...</th>\n",
       "      <td>...</td>\n",
       "      <td>...</td>\n",
       "      <td>...</td>\n",
       "      <td>...</td>\n",
       "      <td>...</td>\n",
       "      <td>...</td>\n",
       "      <td>...</td>\n",
       "      <td>...</td>\n",
       "      <td>...</td>\n",
       "      <td>...</td>\n",
       "      <td>...</td>\n",
       "      <td>...</td>\n",
       "      <td>...</td>\n",
       "      <td>...</td>\n",
       "      <td>...</td>\n",
       "      <td>...</td>\n",
       "      <td>...</td>\n",
       "      <td>...</td>\n",
       "      <td>...</td>\n",
       "      <td>...</td>\n",
       "      <td>...</td>\n",
       "    </tr>\n",
       "    <tr>\n",
       "      <th>12198</th>\n",
       "      <td>No Urgent Place</td>\n",
       "      <td>Friend(s)</td>\n",
       "      <td>Sunny</td>\n",
       "      <td>80</td>\n",
       "      <td>10PM</td>\n",
       "      <td>Bar</td>\n",
       "      <td>1d</td>\n",
       "      <td>Female</td>\n",
       "      <td>26</td>\n",
       "      <td>Unmarried partner</td>\n",
       "      <td>...</td>\n",
       "      <td>gt8</td>\n",
       "      <td>1~3</td>\n",
       "      <td>1~3</td>\n",
       "      <td>1~3</td>\n",
       "      <td>1</td>\n",
       "      <td>1</td>\n",
       "      <td>0</td>\n",
       "      <td>0</td>\n",
       "      <td>1</td>\n",
       "      <td>1</td>\n",
       "    </tr>\n",
       "    <tr>\n",
       "      <th>12199</th>\n",
       "      <td>No Urgent Place</td>\n",
       "      <td>Friend(s)</td>\n",
       "      <td>Sunny</td>\n",
       "      <td>55</td>\n",
       "      <td>10PM</td>\n",
       "      <td>Bar</td>\n",
       "      <td>2h</td>\n",
       "      <td>Female</td>\n",
       "      <td>26</td>\n",
       "      <td>Unmarried partner</td>\n",
       "      <td>...</td>\n",
       "      <td>gt8</td>\n",
       "      <td>1~3</td>\n",
       "      <td>1~3</td>\n",
       "      <td>1~3</td>\n",
       "      <td>1</td>\n",
       "      <td>1</td>\n",
       "      <td>0</td>\n",
       "      <td>0</td>\n",
       "      <td>1</td>\n",
       "      <td>1</td>\n",
       "    </tr>\n",
       "    <tr>\n",
       "      <th>12202</th>\n",
       "      <td>No Urgent Place</td>\n",
       "      <td>Alone</td>\n",
       "      <td>Rainy</td>\n",
       "      <td>55</td>\n",
       "      <td>10AM</td>\n",
       "      <td>Bar</td>\n",
       "      <td>1d</td>\n",
       "      <td>Female</td>\n",
       "      <td>26</td>\n",
       "      <td>Unmarried partner</td>\n",
       "      <td>...</td>\n",
       "      <td>gt8</td>\n",
       "      <td>1~3</td>\n",
       "      <td>1~3</td>\n",
       "      <td>1~3</td>\n",
       "      <td>1</td>\n",
       "      <td>1</td>\n",
       "      <td>0</td>\n",
       "      <td>0</td>\n",
       "      <td>1</td>\n",
       "      <td>1</td>\n",
       "    </tr>\n",
       "    <tr>\n",
       "      <th>12207</th>\n",
       "      <td>Home</td>\n",
       "      <td>Partner</td>\n",
       "      <td>Sunny</td>\n",
       "      <td>30</td>\n",
       "      <td>10PM</td>\n",
       "      <td>Bar</td>\n",
       "      <td>2h</td>\n",
       "      <td>Female</td>\n",
       "      <td>26</td>\n",
       "      <td>Unmarried partner</td>\n",
       "      <td>...</td>\n",
       "      <td>gt8</td>\n",
       "      <td>1~3</td>\n",
       "      <td>1~3</td>\n",
       "      <td>1~3</td>\n",
       "      <td>1</td>\n",
       "      <td>1</td>\n",
       "      <td>1</td>\n",
       "      <td>0</td>\n",
       "      <td>1</td>\n",
       "      <td>1</td>\n",
       "    </tr>\n",
       "    <tr>\n",
       "      <th>12215</th>\n",
       "      <td>Work</td>\n",
       "      <td>Alone</td>\n",
       "      <td>Snowy</td>\n",
       "      <td>30</td>\n",
       "      <td>7AM</td>\n",
       "      <td>Bar</td>\n",
       "      <td>1d</td>\n",
       "      <td>Female</td>\n",
       "      <td>26</td>\n",
       "      <td>Unmarried partner</td>\n",
       "      <td>...</td>\n",
       "      <td>gt8</td>\n",
       "      <td>1~3</td>\n",
       "      <td>1~3</td>\n",
       "      <td>1~3</td>\n",
       "      <td>1</td>\n",
       "      <td>1</td>\n",
       "      <td>1</td>\n",
       "      <td>0</td>\n",
       "      <td>1</td>\n",
       "      <td>1</td>\n",
       "    </tr>\n",
       "  </tbody>\n",
       "</table>\n",
       "<p>199 rows × 25 columns</p>\n",
       "</div>"
      ],
      "text/plain": [
       "           destination  passenger weather  temperature  time coupon  \\\n",
       "156    No Urgent Place  Friend(s)   Sunny           80  10AM    Bar   \n",
       "167               Home      Alone   Sunny           55   6PM    Bar   \n",
       "171               Work      Alone   Sunny           55   7AM    Bar   \n",
       "454    No Urgent Place  Friend(s)   Sunny           80  10AM    Bar   \n",
       "465               Home      Alone   Sunny           55   6PM    Bar   \n",
       "...                ...        ...     ...          ...   ...    ...   \n",
       "12198  No Urgent Place  Friend(s)   Sunny           80  10PM    Bar   \n",
       "12199  No Urgent Place  Friend(s)   Sunny           55  10PM    Bar   \n",
       "12202  No Urgent Place      Alone   Rainy           55  10AM    Bar   \n",
       "12207             Home    Partner   Sunny           30  10PM    Bar   \n",
       "12215             Work      Alone   Snowy           30   7AM    Bar   \n",
       "\n",
       "      expiration  gender age     marital_status  ...  coffee_house carry_away  \\\n",
       "156           1d    Male  26             Single  ...           gt8        gt8   \n",
       "167           1d    Male  26             Single  ...           gt8        gt8   \n",
       "171           1d    Male  26             Single  ...           gt8        gt8   \n",
       "454           1d    Male  31             Single  ...           gt8        gt8   \n",
       "465           1d    Male  31             Single  ...           gt8        gt8   \n",
       "...          ...     ...  ..                ...  ...           ...        ...   \n",
       "12198         1d  Female  26  Unmarried partner  ...           gt8        1~3   \n",
       "12199         2h  Female  26  Unmarried partner  ...           gt8        1~3   \n",
       "12202         1d  Female  26  Unmarried partner  ...           gt8        1~3   \n",
       "12207         2h  Female  26  Unmarried partner  ...           gt8        1~3   \n",
       "12215         1d  Female  26  Unmarried partner  ...           gt8        1~3   \n",
       "\n",
       "      restaurant_20 restaurant_50  to_coupon_5min to_coupon_15min  \\\n",
       "156             gt8           gt8               1               0   \n",
       "167             gt8           gt8               1               0   \n",
       "171             gt8           gt8               1               1   \n",
       "454             gt8           gt8               1               0   \n",
       "465             gt8           gt8               1               0   \n",
       "...             ...           ...             ...             ...   \n",
       "12198           1~3           1~3               1               1   \n",
       "12199           1~3           1~3               1               1   \n",
       "12202           1~3           1~3               1               1   \n",
       "12207           1~3           1~3               1               1   \n",
       "12215           1~3           1~3               1               1   \n",
       "\n",
       "      to_coupon_25min direction_same direction_opp  Y  \n",
       "156                 0              0             1  1  \n",
       "167                 0              1             0  1  \n",
       "171                 1              0             1  1  \n",
       "454                 0              0             1  0  \n",
       "465                 0              1             0  1  \n",
       "...               ...            ...           ... ..  \n",
       "12198               0              0             1  1  \n",
       "12199               0              0             1  1  \n",
       "12202               0              0             1  1  \n",
       "12207               1              0             1  1  \n",
       "12215               1              0             1  1  \n",
       "\n",
       "[199 rows x 25 columns]"
      ]
     },
     "execution_count": 45,
     "metadata": {},
     "output_type": "execute_result"
    }
   ],
   "source": [
    "x = df_bar[ df_bar['bar'] > 3]\n",
    "x"
   ]
  },
  {
   "cell_type": "code",
   "execution_count": 47,
   "metadata": {},
   "outputs": [
    {
     "data": {
      "text/html": [
       "<div>\n",
       "<style scoped>\n",
       "    .dataframe tbody tr th:only-of-type {\n",
       "        vertical-align: middle;\n",
       "    }\n",
       "\n",
       "    .dataframe tbody tr th {\n",
       "        vertical-align: top;\n",
       "    }\n",
       "\n",
       "    .dataframe thead th {\n",
       "        text-align: right;\n",
       "    }\n",
       "</style>\n",
       "<table border=\"1\" class=\"dataframe\">\n",
       "  <thead>\n",
       "    <tr style=\"text-align: right;\">\n",
       "      <th></th>\n",
       "      <th>destination</th>\n",
       "      <th>passenger</th>\n",
       "      <th>weather</th>\n",
       "      <th>temperature</th>\n",
       "      <th>time</th>\n",
       "      <th>coupon</th>\n",
       "      <th>expiration</th>\n",
       "      <th>gender</th>\n",
       "      <th>age</th>\n",
       "      <th>marital_status</th>\n",
       "      <th>...</th>\n",
       "      <th>coffee_house</th>\n",
       "      <th>carry_away</th>\n",
       "      <th>restaurant_20</th>\n",
       "      <th>restaurant_50</th>\n",
       "      <th>to_coupon_5min</th>\n",
       "      <th>to_coupon_15min</th>\n",
       "      <th>to_coupon_25min</th>\n",
       "      <th>direction_same</th>\n",
       "      <th>direction_opp</th>\n",
       "      <th>Y</th>\n",
       "    </tr>\n",
       "  </thead>\n",
       "  <tbody>\n",
       "    <tr>\n",
       "      <th>156</th>\n",
       "      <td>No Urgent Place</td>\n",
       "      <td>Friend(s)</td>\n",
       "      <td>Sunny</td>\n",
       "      <td>80</td>\n",
       "      <td>10AM</td>\n",
       "      <td>Bar</td>\n",
       "      <td>1d</td>\n",
       "      <td>Male</td>\n",
       "      <td>26</td>\n",
       "      <td>Single</td>\n",
       "      <td>...</td>\n",
       "      <td>gt8</td>\n",
       "      <td>gt8</td>\n",
       "      <td>gt8</td>\n",
       "      <td>gt8</td>\n",
       "      <td>1</td>\n",
       "      <td>0</td>\n",
       "      <td>0</td>\n",
       "      <td>0</td>\n",
       "      <td>1</td>\n",
       "      <td>1</td>\n",
       "    </tr>\n",
       "    <tr>\n",
       "      <th>167</th>\n",
       "      <td>Home</td>\n",
       "      <td>Alone</td>\n",
       "      <td>Sunny</td>\n",
       "      <td>55</td>\n",
       "      <td>6PM</td>\n",
       "      <td>Bar</td>\n",
       "      <td>1d</td>\n",
       "      <td>Male</td>\n",
       "      <td>26</td>\n",
       "      <td>Single</td>\n",
       "      <td>...</td>\n",
       "      <td>gt8</td>\n",
       "      <td>gt8</td>\n",
       "      <td>gt8</td>\n",
       "      <td>gt8</td>\n",
       "      <td>1</td>\n",
       "      <td>0</td>\n",
       "      <td>0</td>\n",
       "      <td>1</td>\n",
       "      <td>0</td>\n",
       "      <td>1</td>\n",
       "    </tr>\n",
       "    <tr>\n",
       "      <th>171</th>\n",
       "      <td>Work</td>\n",
       "      <td>Alone</td>\n",
       "      <td>Sunny</td>\n",
       "      <td>55</td>\n",
       "      <td>7AM</td>\n",
       "      <td>Bar</td>\n",
       "      <td>1d</td>\n",
       "      <td>Male</td>\n",
       "      <td>26</td>\n",
       "      <td>Single</td>\n",
       "      <td>...</td>\n",
       "      <td>gt8</td>\n",
       "      <td>gt8</td>\n",
       "      <td>gt8</td>\n",
       "      <td>gt8</td>\n",
       "      <td>1</td>\n",
       "      <td>1</td>\n",
       "      <td>1</td>\n",
       "      <td>0</td>\n",
       "      <td>1</td>\n",
       "      <td>1</td>\n",
       "    </tr>\n",
       "    <tr>\n",
       "      <th>454</th>\n",
       "      <td>No Urgent Place</td>\n",
       "      <td>Friend(s)</td>\n",
       "      <td>Sunny</td>\n",
       "      <td>80</td>\n",
       "      <td>10AM</td>\n",
       "      <td>Bar</td>\n",
       "      <td>1d</td>\n",
       "      <td>Male</td>\n",
       "      <td>31</td>\n",
       "      <td>Single</td>\n",
       "      <td>...</td>\n",
       "      <td>gt8</td>\n",
       "      <td>gt8</td>\n",
       "      <td>gt8</td>\n",
       "      <td>gt8</td>\n",
       "      <td>1</td>\n",
       "      <td>0</td>\n",
       "      <td>0</td>\n",
       "      <td>0</td>\n",
       "      <td>1</td>\n",
       "      <td>0</td>\n",
       "    </tr>\n",
       "    <tr>\n",
       "      <th>465</th>\n",
       "      <td>Home</td>\n",
       "      <td>Alone</td>\n",
       "      <td>Sunny</td>\n",
       "      <td>55</td>\n",
       "      <td>6PM</td>\n",
       "      <td>Bar</td>\n",
       "      <td>1d</td>\n",
       "      <td>Male</td>\n",
       "      <td>31</td>\n",
       "      <td>Single</td>\n",
       "      <td>...</td>\n",
       "      <td>gt8</td>\n",
       "      <td>gt8</td>\n",
       "      <td>gt8</td>\n",
       "      <td>gt8</td>\n",
       "      <td>1</td>\n",
       "      <td>0</td>\n",
       "      <td>0</td>\n",
       "      <td>1</td>\n",
       "      <td>0</td>\n",
       "      <td>1</td>\n",
       "    </tr>\n",
       "    <tr>\n",
       "      <th>...</th>\n",
       "      <td>...</td>\n",
       "      <td>...</td>\n",
       "      <td>...</td>\n",
       "      <td>...</td>\n",
       "      <td>...</td>\n",
       "      <td>...</td>\n",
       "      <td>...</td>\n",
       "      <td>...</td>\n",
       "      <td>...</td>\n",
       "      <td>...</td>\n",
       "      <td>...</td>\n",
       "      <td>...</td>\n",
       "      <td>...</td>\n",
       "      <td>...</td>\n",
       "      <td>...</td>\n",
       "      <td>...</td>\n",
       "      <td>...</td>\n",
       "      <td>...</td>\n",
       "      <td>...</td>\n",
       "      <td>...</td>\n",
       "      <td>...</td>\n",
       "    </tr>\n",
       "    <tr>\n",
       "      <th>12198</th>\n",
       "      <td>No Urgent Place</td>\n",
       "      <td>Friend(s)</td>\n",
       "      <td>Sunny</td>\n",
       "      <td>80</td>\n",
       "      <td>10PM</td>\n",
       "      <td>Bar</td>\n",
       "      <td>1d</td>\n",
       "      <td>Female</td>\n",
       "      <td>26</td>\n",
       "      <td>Unmarried partner</td>\n",
       "      <td>...</td>\n",
       "      <td>gt8</td>\n",
       "      <td>1~3</td>\n",
       "      <td>1~3</td>\n",
       "      <td>1~3</td>\n",
       "      <td>1</td>\n",
       "      <td>1</td>\n",
       "      <td>0</td>\n",
       "      <td>0</td>\n",
       "      <td>1</td>\n",
       "      <td>1</td>\n",
       "    </tr>\n",
       "    <tr>\n",
       "      <th>12199</th>\n",
       "      <td>No Urgent Place</td>\n",
       "      <td>Friend(s)</td>\n",
       "      <td>Sunny</td>\n",
       "      <td>55</td>\n",
       "      <td>10PM</td>\n",
       "      <td>Bar</td>\n",
       "      <td>2h</td>\n",
       "      <td>Female</td>\n",
       "      <td>26</td>\n",
       "      <td>Unmarried partner</td>\n",
       "      <td>...</td>\n",
       "      <td>gt8</td>\n",
       "      <td>1~3</td>\n",
       "      <td>1~3</td>\n",
       "      <td>1~3</td>\n",
       "      <td>1</td>\n",
       "      <td>1</td>\n",
       "      <td>0</td>\n",
       "      <td>0</td>\n",
       "      <td>1</td>\n",
       "      <td>1</td>\n",
       "    </tr>\n",
       "    <tr>\n",
       "      <th>12202</th>\n",
       "      <td>No Urgent Place</td>\n",
       "      <td>Alone</td>\n",
       "      <td>Rainy</td>\n",
       "      <td>55</td>\n",
       "      <td>10AM</td>\n",
       "      <td>Bar</td>\n",
       "      <td>1d</td>\n",
       "      <td>Female</td>\n",
       "      <td>26</td>\n",
       "      <td>Unmarried partner</td>\n",
       "      <td>...</td>\n",
       "      <td>gt8</td>\n",
       "      <td>1~3</td>\n",
       "      <td>1~3</td>\n",
       "      <td>1~3</td>\n",
       "      <td>1</td>\n",
       "      <td>1</td>\n",
       "      <td>0</td>\n",
       "      <td>0</td>\n",
       "      <td>1</td>\n",
       "      <td>1</td>\n",
       "    </tr>\n",
       "    <tr>\n",
       "      <th>12207</th>\n",
       "      <td>Home</td>\n",
       "      <td>Partner</td>\n",
       "      <td>Sunny</td>\n",
       "      <td>30</td>\n",
       "      <td>10PM</td>\n",
       "      <td>Bar</td>\n",
       "      <td>2h</td>\n",
       "      <td>Female</td>\n",
       "      <td>26</td>\n",
       "      <td>Unmarried partner</td>\n",
       "      <td>...</td>\n",
       "      <td>gt8</td>\n",
       "      <td>1~3</td>\n",
       "      <td>1~3</td>\n",
       "      <td>1~3</td>\n",
       "      <td>1</td>\n",
       "      <td>1</td>\n",
       "      <td>1</td>\n",
       "      <td>0</td>\n",
       "      <td>1</td>\n",
       "      <td>1</td>\n",
       "    </tr>\n",
       "    <tr>\n",
       "      <th>12215</th>\n",
       "      <td>Work</td>\n",
       "      <td>Alone</td>\n",
       "      <td>Snowy</td>\n",
       "      <td>30</td>\n",
       "      <td>7AM</td>\n",
       "      <td>Bar</td>\n",
       "      <td>1d</td>\n",
       "      <td>Female</td>\n",
       "      <td>26</td>\n",
       "      <td>Unmarried partner</td>\n",
       "      <td>...</td>\n",
       "      <td>gt8</td>\n",
       "      <td>1~3</td>\n",
       "      <td>1~3</td>\n",
       "      <td>1~3</td>\n",
       "      <td>1</td>\n",
       "      <td>1</td>\n",
       "      <td>1</td>\n",
       "      <td>0</td>\n",
       "      <td>1</td>\n",
       "      <td>1</td>\n",
       "    </tr>\n",
       "  </tbody>\n",
       "</table>\n",
       "<p>199 rows × 25 columns</p>\n",
       "</div>"
      ],
      "text/plain": [
       "           destination  passenger weather  temperature  time coupon  \\\n",
       "156    No Urgent Place  Friend(s)   Sunny           80  10AM    Bar   \n",
       "167               Home      Alone   Sunny           55   6PM    Bar   \n",
       "171               Work      Alone   Sunny           55   7AM    Bar   \n",
       "454    No Urgent Place  Friend(s)   Sunny           80  10AM    Bar   \n",
       "465               Home      Alone   Sunny           55   6PM    Bar   \n",
       "...                ...        ...     ...          ...   ...    ...   \n",
       "12198  No Urgent Place  Friend(s)   Sunny           80  10PM    Bar   \n",
       "12199  No Urgent Place  Friend(s)   Sunny           55  10PM    Bar   \n",
       "12202  No Urgent Place      Alone   Rainy           55  10AM    Bar   \n",
       "12207             Home    Partner   Sunny           30  10PM    Bar   \n",
       "12215             Work      Alone   Snowy           30   7AM    Bar   \n",
       "\n",
       "      expiration  gender age     marital_status  ...  coffee_house carry_away  \\\n",
       "156           1d    Male  26             Single  ...           gt8        gt8   \n",
       "167           1d    Male  26             Single  ...           gt8        gt8   \n",
       "171           1d    Male  26             Single  ...           gt8        gt8   \n",
       "454           1d    Male  31             Single  ...           gt8        gt8   \n",
       "465           1d    Male  31             Single  ...           gt8        gt8   \n",
       "...          ...     ...  ..                ...  ...           ...        ...   \n",
       "12198         1d  Female  26  Unmarried partner  ...           gt8        1~3   \n",
       "12199         2h  Female  26  Unmarried partner  ...           gt8        1~3   \n",
       "12202         1d  Female  26  Unmarried partner  ...           gt8        1~3   \n",
       "12207         2h  Female  26  Unmarried partner  ...           gt8        1~3   \n",
       "12215         1d  Female  26  Unmarried partner  ...           gt8        1~3   \n",
       "\n",
       "      restaurant_20 restaurant_50  to_coupon_5min to_coupon_15min  \\\n",
       "156             gt8           gt8               1               0   \n",
       "167             gt8           gt8               1               0   \n",
       "171             gt8           gt8               1               1   \n",
       "454             gt8           gt8               1               0   \n",
       "465             gt8           gt8               1               0   \n",
       "...             ...           ...             ...             ...   \n",
       "12198           1~3           1~3               1               1   \n",
       "12199           1~3           1~3               1               1   \n",
       "12202           1~3           1~3               1               1   \n",
       "12207           1~3           1~3               1               1   \n",
       "12215           1~3           1~3               1               1   \n",
       "\n",
       "      to_coupon_25min direction_same direction_opp  Y  \n",
       "156                 0              0             1  1  \n",
       "167                 0              1             0  1  \n",
       "171                 1              0             1  1  \n",
       "454                 0              0             1  0  \n",
       "465                 0              1             0  1  \n",
       "...               ...            ...           ... ..  \n",
       "12198               0              0             1  1  \n",
       "12199               0              0             1  1  \n",
       "12202               0              0             1  1  \n",
       "12207               1              0             1  1  \n",
       "12215               1              0             1  1  \n",
       "\n",
       "[199 rows x 25 columns]"
      ]
     },
     "execution_count": 47,
     "metadata": {},
     "output_type": "execute_result"
    }
   ],
   "source": [
    "y = df_bar.query('bar > 3')\n",
    "y"
   ]
  },
  {
   "cell_type": "code",
   "execution_count": null,
   "metadata": {},
   "outputs": [],
   "source": []
  },
  {
   "cell_type": "code",
   "execution_count": null,
   "metadata": {},
   "outputs": [],
   "source": []
  },
  {
   "cell_type": "code",
   "execution_count": null,
   "metadata": {},
   "outputs": [],
   "source": []
  },
  {
   "cell_type": "markdown",
   "metadata": {},
   "source": [
    "#### 4. Compare the acceptance rate between drivers who go to a bar more than once a month and are over the age of 25 to the all others.  Is there a difference?\n"
   ]
  },
  {
   "cell_type": "code",
   "execution_count": 232,
   "metadata": {},
   "outputs": [
    {
     "data": {
      "text/plain": [
       "age\n",
       "21    416\n",
       "26    392\n",
       "31    334\n",
       "50    281\n",
       "36    206\n",
       "41    171\n",
       "46    109\n",
       "0      87\n",
       "Name: count, dtype: int64"
      ]
     },
     "execution_count": 232,
     "metadata": {},
     "output_type": "execute_result"
    }
   ],
   "source": [
    "df_bar_sub['age'].value_counts()"
   ]
  },
  {
   "cell_type": "code",
   "execution_count": 161,
   "metadata": {},
   "outputs": [
    {
     "data": {
      "text/plain": [
       "(1493, 25)"
      ]
     },
     "execution_count": 161,
     "metadata": {},
     "output_type": "execute_result"
    }
   ],
   "source": [
    "df_bar_sub[ df_bar_sub['age'] > 25].shape"
   ]
  },
  {
   "cell_type": "code",
   "execution_count": 233,
   "metadata": {},
   "outputs": [
    {
     "data": {
      "text/plain": [
       "bar\n",
       "never    830\n",
       "less1    570\n",
       "1~3      397\n",
       "4~8      150\n",
       "gt8       49\n",
       "Name: count, dtype: int64"
      ]
     },
     "execution_count": 233,
     "metadata": {},
     "output_type": "execute_result"
    }
   ],
   "source": [
    "df_bar_sub['bar'].value_counts()"
   ]
  },
  {
   "cell_type": "code",
   "execution_count": 167,
   "metadata": {},
   "outputs": [
    {
     "data": {
      "text/plain": [
       "(284, 25)"
      ]
     },
     "execution_count": 167,
     "metadata": {},
     "output_type": "execute_result"
    }
   ],
   "source": [
    "df_bar_sub.query('age > 25 and bar == \"1~3\"').shape"
   ]
  },
  {
   "cell_type": "code",
   "execution_count": 247,
   "metadata": {},
   "outputs": [
    {
     "name": "stdout",
     "output_type": "stream",
     "text": [
      "<class 'pandas.core.frame.DataFrame'>\n",
      "Index: 420 entries, 112 to 12500\n",
      "Data columns (total 25 columns):\n",
      " #   Column           Non-Null Count  Dtype \n",
      "---  ------           --------------  ----- \n",
      " 0   destination      420 non-null    object\n",
      " 1   passenger        420 non-null    object\n",
      " 2   weather          420 non-null    object\n",
      " 3   temperature      420 non-null    int64 \n",
      " 4   time             420 non-null    object\n",
      " 5   coupon           420 non-null    object\n",
      " 6   expiration       420 non-null    object\n",
      " 7   gender           420 non-null    object\n",
      " 8   age              420 non-null    int64 \n",
      " 9   marital_status   420 non-null    object\n",
      " 10  has_children     420 non-null    int64 \n",
      " 11  education        420 non-null    object\n",
      " 12  occupation       420 non-null    object\n",
      " 13  income           420 non-null    object\n",
      " 14  bar              420 non-null    object\n",
      " 15  coffee_house     414 non-null    object\n",
      " 16  carry_away       413 non-null    object\n",
      " 17  restaurant_20    420 non-null    object\n",
      " 18  restaurant_50    413 non-null    object\n",
      " 19  to_coupon_5min   420 non-null    int64 \n",
      " 20  to_coupon_15min  420 non-null    int64 \n",
      " 21  to_coupon_25min  420 non-null    int64 \n",
      " 22  direction_same   420 non-null    int64 \n",
      " 23  direction_opp    420 non-null    int64 \n",
      " 24  Y                420 non-null    int64 \n",
      "dtypes: int64(9), object(16)\n",
      "memory usage: 85.3+ KB\n"
     ]
    }
   ],
   "source": [
    "# Individuals that go to the bar more than once per month and are over the age of 25\n",
    "df_bar_sub_morethanonce_over25 = df_bar_sub.query('bar in [\"1~3\", \"4~8\", \"gt8\"] and age > 25')\n",
    "df_bar_sub_morethanonce_over25.info()"
   ]
  },
  {
   "cell_type": "markdown",
   "metadata": {},
   "source": [
    "Sanity check the above query, there should be no ages below 26 and all bar counts 1 or higher."
   ]
  },
  {
   "cell_type": "code",
   "execution_count": 248,
   "metadata": {},
   "outputs": [
    {
     "data": {
      "text/plain": [
       "age\n",
       "26    169\n",
       "31     96\n",
       "50     67\n",
       "36     40\n",
       "41     32\n",
       "46     16\n",
       "Name: count, dtype: int64"
      ]
     },
     "execution_count": 248,
     "metadata": {},
     "output_type": "execute_result"
    }
   ],
   "source": [
    "df_bar_sub_morethanonce_over25['age'].value_counts()"
   ]
  },
  {
   "cell_type": "code",
   "execution_count": 249,
   "metadata": {},
   "outputs": [
    {
     "data": {
      "text/plain": [
       "bar\n",
       "1~3    284\n",
       "4~8    106\n",
       "gt8     30\n",
       "Name: count, dtype: int64"
      ]
     },
     "execution_count": 249,
     "metadata": {},
     "output_type": "execute_result"
    }
   ],
   "source": [
    "df_bar_sub_morethanonce_over25['bar'].value_counts()"
   ]
  },
  {
   "cell_type": "code",
   "execution_count": 250,
   "metadata": {},
   "outputs": [
    {
     "data": {
      "text/plain": [
       "Y\n",
       "1    292\n",
       "0    128\n",
       "Name: count, dtype: int64"
      ]
     },
     "execution_count": 250,
     "metadata": {},
     "output_type": "execute_result"
    }
   ],
   "source": [
    "df_bar_sub_morethanonce_over25['Y'].value_counts()"
   ]
  },
  {
   "cell_type": "markdown",
   "metadata": {},
   "source": [
    "The acceptance rate of drivers who go to a bar more than once a month and are over the age of 25?"
   ]
  },
  {
   "cell_type": "code",
   "execution_count": 251,
   "metadata": {},
   "outputs": [
    {
     "name": "stdout",
     "output_type": "stream",
     "text": [
      "69.52% of bar coupons were accepted\n"
     ]
    }
   ],
   "source": [
    "df_bar_sub_morethanonce_over25_yes = (df_bar_sub_morethanonce_over25[df_bar_sub_morethanonce_over25['Y'] == 1].shape[0] / df_bar_sub_morethanonce_over25.shape[0]) * 100\n",
    "print(f'{round(df_bar_sub_morethanonce_over25_yes, 2)}% of bar coupons were accepted')"
   ]
  },
  {
   "cell_type": "code",
   "execution_count": null,
   "metadata": {},
   "outputs": [],
   "source": []
  },
  {
   "cell_type": "code",
   "execution_count": 253,
   "metadata": {},
   "outputs": [
    {
     "data": {
      "text/html": [
       "<div>\n",
       "<style scoped>\n",
       "    .dataframe tbody tr th:only-of-type {\n",
       "        vertical-align: middle;\n",
       "    }\n",
       "\n",
       "    .dataframe tbody tr th {\n",
       "        vertical-align: top;\n",
       "    }\n",
       "\n",
       "    .dataframe thead th {\n",
       "        text-align: right;\n",
       "    }\n",
       "</style>\n",
       "<table border=\"1\" class=\"dataframe\">\n",
       "  <thead>\n",
       "    <tr style=\"text-align: right;\">\n",
       "      <th></th>\n",
       "      <th>destination</th>\n",
       "      <th>passenger</th>\n",
       "      <th>weather</th>\n",
       "      <th>temperature</th>\n",
       "      <th>time</th>\n",
       "      <th>coupon</th>\n",
       "      <th>expiration</th>\n",
       "      <th>gender</th>\n",
       "      <th>age</th>\n",
       "      <th>marital_status</th>\n",
       "      <th>...</th>\n",
       "      <th>coffee_house</th>\n",
       "      <th>carry_away</th>\n",
       "      <th>restaurant_20</th>\n",
       "      <th>restaurant_50</th>\n",
       "      <th>to_coupon_5min</th>\n",
       "      <th>to_coupon_15min</th>\n",
       "      <th>to_coupon_25min</th>\n",
       "      <th>direction_same</th>\n",
       "      <th>direction_opp</th>\n",
       "      <th>Y</th>\n",
       "    </tr>\n",
       "  </thead>\n",
       "  <tbody>\n",
       "    <tr>\n",
       "      <th>112</th>\n",
       "      <td>No Urgent Place</td>\n",
       "      <td>Friend(s)</td>\n",
       "      <td>Sunny</td>\n",
       "      <td>80</td>\n",
       "      <td>10AM</td>\n",
       "      <td>Bar</td>\n",
       "      <td>1d</td>\n",
       "      <td>Male</td>\n",
       "      <td>26</td>\n",
       "      <td>Unmarried partner</td>\n",
       "      <td>...</td>\n",
       "      <td>gt8</td>\n",
       "      <td>4~8</td>\n",
       "      <td>1~3</td>\n",
       "      <td>less1</td>\n",
       "      <td>1</td>\n",
       "      <td>0</td>\n",
       "      <td>0</td>\n",
       "      <td>0</td>\n",
       "      <td>1</td>\n",
       "      <td>1</td>\n",
       "    </tr>\n",
       "    <tr>\n",
       "      <th>123</th>\n",
       "      <td>Home</td>\n",
       "      <td>Alone</td>\n",
       "      <td>Sunny</td>\n",
       "      <td>55</td>\n",
       "      <td>6PM</td>\n",
       "      <td>Bar</td>\n",
       "      <td>1d</td>\n",
       "      <td>Male</td>\n",
       "      <td>26</td>\n",
       "      <td>Unmarried partner</td>\n",
       "      <td>...</td>\n",
       "      <td>gt8</td>\n",
       "      <td>4~8</td>\n",
       "      <td>1~3</td>\n",
       "      <td>less1</td>\n",
       "      <td>1</td>\n",
       "      <td>0</td>\n",
       "      <td>0</td>\n",
       "      <td>1</td>\n",
       "      <td>0</td>\n",
       "      <td>1</td>\n",
       "    </tr>\n",
       "    <tr>\n",
       "      <th>127</th>\n",
       "      <td>Work</td>\n",
       "      <td>Alone</td>\n",
       "      <td>Sunny</td>\n",
       "      <td>55</td>\n",
       "      <td>7AM</td>\n",
       "      <td>Bar</td>\n",
       "      <td>1d</td>\n",
       "      <td>Male</td>\n",
       "      <td>26</td>\n",
       "      <td>Unmarried partner</td>\n",
       "      <td>...</td>\n",
       "      <td>gt8</td>\n",
       "      <td>4~8</td>\n",
       "      <td>1~3</td>\n",
       "      <td>less1</td>\n",
       "      <td>1</td>\n",
       "      <td>1</td>\n",
       "      <td>1</td>\n",
       "      <td>0</td>\n",
       "      <td>1</td>\n",
       "      <td>1</td>\n",
       "    </tr>\n",
       "    <tr>\n",
       "      <th>156</th>\n",
       "      <td>No Urgent Place</td>\n",
       "      <td>Friend(s)</td>\n",
       "      <td>Sunny</td>\n",
       "      <td>80</td>\n",
       "      <td>10AM</td>\n",
       "      <td>Bar</td>\n",
       "      <td>1d</td>\n",
       "      <td>Male</td>\n",
       "      <td>26</td>\n",
       "      <td>Single</td>\n",
       "      <td>...</td>\n",
       "      <td>gt8</td>\n",
       "      <td>gt8</td>\n",
       "      <td>gt8</td>\n",
       "      <td>gt8</td>\n",
       "      <td>1</td>\n",
       "      <td>0</td>\n",
       "      <td>0</td>\n",
       "      <td>0</td>\n",
       "      <td>1</td>\n",
       "      <td>1</td>\n",
       "    </tr>\n",
       "    <tr>\n",
       "      <th>167</th>\n",
       "      <td>Home</td>\n",
       "      <td>Alone</td>\n",
       "      <td>Sunny</td>\n",
       "      <td>55</td>\n",
       "      <td>6PM</td>\n",
       "      <td>Bar</td>\n",
       "      <td>1d</td>\n",
       "      <td>Male</td>\n",
       "      <td>26</td>\n",
       "      <td>Single</td>\n",
       "      <td>...</td>\n",
       "      <td>gt8</td>\n",
       "      <td>gt8</td>\n",
       "      <td>gt8</td>\n",
       "      <td>gt8</td>\n",
       "      <td>1</td>\n",
       "      <td>0</td>\n",
       "      <td>0</td>\n",
       "      <td>1</td>\n",
       "      <td>0</td>\n",
       "      <td>1</td>\n",
       "    </tr>\n",
       "    <tr>\n",
       "      <th>...</th>\n",
       "      <td>...</td>\n",
       "      <td>...</td>\n",
       "      <td>...</td>\n",
       "      <td>...</td>\n",
       "      <td>...</td>\n",
       "      <td>...</td>\n",
       "      <td>...</td>\n",
       "      <td>...</td>\n",
       "      <td>...</td>\n",
       "      <td>...</td>\n",
       "      <td>...</td>\n",
       "      <td>...</td>\n",
       "      <td>...</td>\n",
       "      <td>...</td>\n",
       "      <td>...</td>\n",
       "      <td>...</td>\n",
       "      <td>...</td>\n",
       "      <td>...</td>\n",
       "      <td>...</td>\n",
       "      <td>...</td>\n",
       "      <td>...</td>\n",
       "    </tr>\n",
       "    <tr>\n",
       "      <th>12481</th>\n",
       "      <td>No Urgent Place</td>\n",
       "      <td>Friend(s)</td>\n",
       "      <td>Sunny</td>\n",
       "      <td>80</td>\n",
       "      <td>10PM</td>\n",
       "      <td>Bar</td>\n",
       "      <td>1d</td>\n",
       "      <td>Female</td>\n",
       "      <td>26</td>\n",
       "      <td>Unmarried partner</td>\n",
       "      <td>...</td>\n",
       "      <td>never</td>\n",
       "      <td>4~8</td>\n",
       "      <td>4~8</td>\n",
       "      <td>less1</td>\n",
       "      <td>1</td>\n",
       "      <td>1</td>\n",
       "      <td>0</td>\n",
       "      <td>0</td>\n",
       "      <td>1</td>\n",
       "      <td>1</td>\n",
       "    </tr>\n",
       "    <tr>\n",
       "      <th>12482</th>\n",
       "      <td>No Urgent Place</td>\n",
       "      <td>Friend(s)</td>\n",
       "      <td>Sunny</td>\n",
       "      <td>55</td>\n",
       "      <td>10PM</td>\n",
       "      <td>Bar</td>\n",
       "      <td>2h</td>\n",
       "      <td>Female</td>\n",
       "      <td>26</td>\n",
       "      <td>Unmarried partner</td>\n",
       "      <td>...</td>\n",
       "      <td>never</td>\n",
       "      <td>4~8</td>\n",
       "      <td>4~8</td>\n",
       "      <td>less1</td>\n",
       "      <td>1</td>\n",
       "      <td>1</td>\n",
       "      <td>0</td>\n",
       "      <td>0</td>\n",
       "      <td>1</td>\n",
       "      <td>1</td>\n",
       "    </tr>\n",
       "    <tr>\n",
       "      <th>12485</th>\n",
       "      <td>No Urgent Place</td>\n",
       "      <td>Alone</td>\n",
       "      <td>Rainy</td>\n",
       "      <td>55</td>\n",
       "      <td>10AM</td>\n",
       "      <td>Bar</td>\n",
       "      <td>1d</td>\n",
       "      <td>Female</td>\n",
       "      <td>26</td>\n",
       "      <td>Unmarried partner</td>\n",
       "      <td>...</td>\n",
       "      <td>never</td>\n",
       "      <td>4~8</td>\n",
       "      <td>4~8</td>\n",
       "      <td>less1</td>\n",
       "      <td>1</td>\n",
       "      <td>1</td>\n",
       "      <td>0</td>\n",
       "      <td>0</td>\n",
       "      <td>1</td>\n",
       "      <td>1</td>\n",
       "    </tr>\n",
       "    <tr>\n",
       "      <th>12488</th>\n",
       "      <td>No Urgent Place</td>\n",
       "      <td>Partner</td>\n",
       "      <td>Rainy</td>\n",
       "      <td>55</td>\n",
       "      <td>6PM</td>\n",
       "      <td>Bar</td>\n",
       "      <td>2h</td>\n",
       "      <td>Female</td>\n",
       "      <td>26</td>\n",
       "      <td>Unmarried partner</td>\n",
       "      <td>...</td>\n",
       "      <td>never</td>\n",
       "      <td>4~8</td>\n",
       "      <td>4~8</td>\n",
       "      <td>less1</td>\n",
       "      <td>1</td>\n",
       "      <td>1</td>\n",
       "      <td>0</td>\n",
       "      <td>0</td>\n",
       "      <td>1</td>\n",
       "      <td>1</td>\n",
       "    </tr>\n",
       "    <tr>\n",
       "      <th>12500</th>\n",
       "      <td>Work</td>\n",
       "      <td>Alone</td>\n",
       "      <td>Snowy</td>\n",
       "      <td>30</td>\n",
       "      <td>7AM</td>\n",
       "      <td>Bar</td>\n",
       "      <td>1d</td>\n",
       "      <td>Female</td>\n",
       "      <td>26</td>\n",
       "      <td>Unmarried partner</td>\n",
       "      <td>...</td>\n",
       "      <td>never</td>\n",
       "      <td>4~8</td>\n",
       "      <td>4~8</td>\n",
       "      <td>less1</td>\n",
       "      <td>1</td>\n",
       "      <td>1</td>\n",
       "      <td>1</td>\n",
       "      <td>0</td>\n",
       "      <td>1</td>\n",
       "      <td>0</td>\n",
       "    </tr>\n",
       "  </tbody>\n",
       "</table>\n",
       "<p>420 rows × 25 columns</p>\n",
       "</div>"
      ],
      "text/plain": [
       "           destination  passenger weather  temperature  time coupon  \\\n",
       "112    No Urgent Place  Friend(s)   Sunny           80  10AM    Bar   \n",
       "123               Home      Alone   Sunny           55   6PM    Bar   \n",
       "127               Work      Alone   Sunny           55   7AM    Bar   \n",
       "156    No Urgent Place  Friend(s)   Sunny           80  10AM    Bar   \n",
       "167               Home      Alone   Sunny           55   6PM    Bar   \n",
       "...                ...        ...     ...          ...   ...    ...   \n",
       "12481  No Urgent Place  Friend(s)   Sunny           80  10PM    Bar   \n",
       "12482  No Urgent Place  Friend(s)   Sunny           55  10PM    Bar   \n",
       "12485  No Urgent Place      Alone   Rainy           55  10AM    Bar   \n",
       "12488  No Urgent Place    Partner   Rainy           55   6PM    Bar   \n",
       "12500             Work      Alone   Snowy           30   7AM    Bar   \n",
       "\n",
       "      expiration  gender  age     marital_status  ...  coffee_house  \\\n",
       "112           1d    Male   26  Unmarried partner  ...           gt8   \n",
       "123           1d    Male   26  Unmarried partner  ...           gt8   \n",
       "127           1d    Male   26  Unmarried partner  ...           gt8   \n",
       "156           1d    Male   26             Single  ...           gt8   \n",
       "167           1d    Male   26             Single  ...           gt8   \n",
       "...          ...     ...  ...                ...  ...           ...   \n",
       "12481         1d  Female   26  Unmarried partner  ...         never   \n",
       "12482         2h  Female   26  Unmarried partner  ...         never   \n",
       "12485         1d  Female   26  Unmarried partner  ...         never   \n",
       "12488         2h  Female   26  Unmarried partner  ...         never   \n",
       "12500         1d  Female   26  Unmarried partner  ...         never   \n",
       "\n",
       "      carry_away restaurant_20 restaurant_50 to_coupon_5min to_coupon_15min  \\\n",
       "112          4~8           1~3         less1              1               0   \n",
       "123          4~8           1~3         less1              1               0   \n",
       "127          4~8           1~3         less1              1               1   \n",
       "156          gt8           gt8           gt8              1               0   \n",
       "167          gt8           gt8           gt8              1               0   \n",
       "...          ...           ...           ...            ...             ...   \n",
       "12481        4~8           4~8         less1              1               1   \n",
       "12482        4~8           4~8         less1              1               1   \n",
       "12485        4~8           4~8         less1              1               1   \n",
       "12488        4~8           4~8         less1              1               1   \n",
       "12500        4~8           4~8         less1              1               1   \n",
       "\n",
       "      to_coupon_25min direction_same direction_opp  Y  \n",
       "112                 0              0             1  1  \n",
       "123                 0              1             0  1  \n",
       "127                 1              0             1  1  \n",
       "156                 0              0             1  1  \n",
       "167                 0              1             0  1  \n",
       "...               ...            ...           ... ..  \n",
       "12481               0              0             1  1  \n",
       "12482               0              0             1  1  \n",
       "12485               0              0             1  1  \n",
       "12488               0              0             1  1  \n",
       "12500               1              0             1  0  \n",
       "\n",
       "[420 rows x 25 columns]"
      ]
     },
     "execution_count": 253,
     "metadata": {},
     "output_type": "execute_result"
    }
   ],
   "source": [
    "df_bar_sub.loc[df_bar_sub_morethanonce_over25.index]"
   ]
  },
  {
   "cell_type": "markdown",
   "metadata": {},
   "source": [
    "**How to get the opposite group**"
   ]
  },
  {
   "cell_type": "code",
   "execution_count": 254,
   "metadata": {},
   "outputs": [],
   "source": [
    "index_set = pd.Index(set(df_bar_sub.index) - set(df_bar_sub_morethanonce_over25.index))"
   ]
  },
  {
   "cell_type": "code",
   "execution_count": 255,
   "metadata": {},
   "outputs": [
    {
     "data": {
      "text/html": [
       "<div>\n",
       "<style scoped>\n",
       "    .dataframe tbody tr th:only-of-type {\n",
       "        vertical-align: middle;\n",
       "    }\n",
       "\n",
       "    .dataframe tbody tr th {\n",
       "        vertical-align: top;\n",
       "    }\n",
       "\n",
       "    .dataframe thead th {\n",
       "        text-align: right;\n",
       "    }\n",
       "</style>\n",
       "<table border=\"1\" class=\"dataframe\">\n",
       "  <thead>\n",
       "    <tr style=\"text-align: right;\">\n",
       "      <th></th>\n",
       "      <th>age</th>\n",
       "      <th>bar</th>\n",
       "      <th>Y</th>\n",
       "    </tr>\n",
       "  </thead>\n",
       "  <tbody>\n",
       "    <tr>\n",
       "      <th>4096</th>\n",
       "      <td>21</td>\n",
       "      <td>1~3</td>\n",
       "      <td>1</td>\n",
       "    </tr>\n",
       "    <tr>\n",
       "      <th>12288</th>\n",
       "      <td>50</td>\n",
       "      <td>never</td>\n",
       "      <td>0</td>\n",
       "    </tr>\n",
       "    <tr>\n",
       "      <th>9</th>\n",
       "      <td>21</td>\n",
       "      <td>never</td>\n",
       "      <td>0</td>\n",
       "    </tr>\n",
       "    <tr>\n",
       "      <th>4108</th>\n",
       "      <td>31</td>\n",
       "      <td>never</td>\n",
       "      <td>0</td>\n",
       "    </tr>\n",
       "    <tr>\n",
       "      <th>13</th>\n",
       "      <td>21</td>\n",
       "      <td>never</td>\n",
       "      <td>1</td>\n",
       "    </tr>\n",
       "    <tr>\n",
       "      <th>...</th>\n",
       "      <td>...</td>\n",
       "      <td>...</td>\n",
       "      <td>...</td>\n",
       "    </tr>\n",
       "    <tr>\n",
       "      <th>8163</th>\n",
       "      <td>46</td>\n",
       "      <td>never</td>\n",
       "      <td>0</td>\n",
       "    </tr>\n",
       "    <tr>\n",
       "      <th>4071</th>\n",
       "      <td>36</td>\n",
       "      <td>never</td>\n",
       "      <td>0</td>\n",
       "    </tr>\n",
       "    <tr>\n",
       "      <th>4086</th>\n",
       "      <td>21</td>\n",
       "      <td>1~3</td>\n",
       "      <td>1</td>\n",
       "    </tr>\n",
       "    <tr>\n",
       "      <th>12284</th>\n",
       "      <td>50</td>\n",
       "      <td>never</td>\n",
       "      <td>0</td>\n",
       "    </tr>\n",
       "    <tr>\n",
       "      <th>12285</th>\n",
       "      <td>50</td>\n",
       "      <td>never</td>\n",
       "      <td>0</td>\n",
       "    </tr>\n",
       "  </tbody>\n",
       "</table>\n",
       "<p>1576 rows × 3 columns</p>\n",
       "</div>"
      ],
      "text/plain": [
       "       age    bar  Y\n",
       "4096    21    1~3  1\n",
       "12288   50  never  0\n",
       "9       21  never  0\n",
       "4108    31  never  0\n",
       "13      21  never  1\n",
       "...    ...    ... ..\n",
       "8163    46  never  0\n",
       "4071    36  never  0\n",
       "4086    21    1~3  1\n",
       "12284   50  never  0\n",
       "12285   50  never  0\n",
       "\n",
       "[1576 rows x 3 columns]"
      ]
     },
     "execution_count": 255,
     "metadata": {},
     "output_type": "execute_result"
    }
   ],
   "source": [
    "df_bar_sub.loc[index_set][['age', 'bar', 'Y']]"
   ]
  },
  {
   "cell_type": "code",
   "execution_count": 256,
   "metadata": {},
   "outputs": [],
   "source": [
    "df_bar_sub_lessthanonce = df_bar_sub.loc[index_set][['age', 'bar', 'Y']]"
   ]
  },
  {
   "cell_type": "code",
   "execution_count": 258,
   "metadata": {},
   "outputs": [
    {
     "data": {
      "text/plain": [
       "bar\n",
       "never    830\n",
       "less1    570\n",
       "1~3      113\n",
       "4~8       44\n",
       "gt8       19\n",
       "Name: count, dtype: int64"
      ]
     },
     "execution_count": 258,
     "metadata": {},
     "output_type": "execute_result"
    }
   ],
   "source": [
    "df_bar_sub_lessthanonce['bar'].value_counts()"
   ]
  },
  {
   "cell_type": "code",
   "execution_count": 259,
   "metadata": {},
   "outputs": [
    {
     "data": {
      "text/plain": [
       "age\n",
       "21    416\n",
       "31    238\n",
       "26    223\n",
       "50    214\n",
       "36    166\n",
       "41    139\n",
       "46     93\n",
       "0      87\n",
       "Name: count, dtype: int64"
      ]
     },
     "execution_count": 259,
     "metadata": {},
     "output_type": "execute_result"
    }
   ],
   "source": [
    "df_bar_sub_lessthanonce['age'].value_counts()"
   ]
  },
  {
   "cell_type": "code",
   "execution_count": 266,
   "metadata": {},
   "outputs": [
    {
     "name": "stderr",
     "output_type": "stream",
     "text": [
      "/opt/anaconda3/lib/python3.11/site-packages/seaborn/_oldcore.py:1119: FutureWarning: use_inf_as_na option is deprecated and will be removed in a future version. Convert inf values to NaN before operating instead.\n",
      "  with pd.option_context('mode.use_inf_as_na', True):\n"
     ]
    },
    {
     "data": {
      "text/plain": [
       "<Axes: xlabel='age', ylabel='Count'>"
      ]
     },
     "execution_count": 266,
     "metadata": {},
     "output_type": "execute_result"
    },
    {
     "data": {
      "image/png": "[encoded data removed]",
      "text/plain": [
       "<Figure size 640x480 with 1 Axes>"
      ]
     },
     "metadata": {},
     "output_type": "display_data"
    }
   ],
   "source": [
    "# Verify we selected the population correctly. We should not see anyone in this group above the age of 25 who\n",
    "# frequent bars more than once per month.\n",
    "sns.histplot(df_bar_sub_lessthanonce, x='age', hue='bar', multiple='dodge')"
   ]
  },
  {
   "cell_type": "markdown",
   "metadata": {},
   "source": [
    "The acceptance rate of drivers who don't frequent the bar and are over the age of 25?"
   ]
  },
  {
   "cell_type": "code",
   "execution_count": 257,
   "metadata": {},
   "outputs": [
    {
     "name": "stdout",
     "output_type": "stream",
     "text": [
      "33.44% of bar coupons were accepted\n"
     ]
    }
   ],
   "source": [
    "df_bar_sub_lessthanonce_yes = (df_bar_sub_lessthanonce[df_bar_sub_lessthanonce['Y'] == 1].shape[0] / df_bar_sub_lessthanonce.shape[0]) * 100\n",
    "print(f'{round(df_bar_sub_lessthanonce_yes, 2)}% of bar coupons were accepted')"
   ]
  },
  {
   "cell_type": "code",
   "execution_count": null,
   "metadata": {},
   "outputs": [],
   "source": []
  },
  {
   "cell_type": "code",
   "execution_count": null,
   "metadata": {},
   "outputs": [],
   "source": []
  },
  {
   "cell_type": "code",
   "execution_count": null,
   "metadata": {},
   "outputs": [],
   "source": []
  },
  {
   "cell_type": "markdown",
   "metadata": {},
   "source": [
    "#### 5. Use the same process to compare the acceptance rate between drivers who go to bars more than once a month and had passengers that were not a kid and had occupations other than farming, fishing, or forestry. \n"
   ]
  },
  {
   "cell_type": "code",
   "execution_count": 274,
   "metadata": {},
   "outputs": [
    {
     "data": {
      "text/plain": [
       "passenger\n",
       "Alone        1192\n",
       "Friend(s)     331\n",
       "Partner       270\n",
       "Kid(s)        203\n",
       "Name: count, dtype: int64"
      ]
     },
     "execution_count": 274,
     "metadata": {},
     "output_type": "execute_result"
    }
   ],
   "source": [
    "df_bar_sub['passenger'].value_counts()"
   ]
  },
  {
   "cell_type": "code",
   "execution_count": 276,
   "metadata": {},
   "outputs": [
    {
     "data": {
      "text/plain": [
       "occupation\n",
       "Unemployed                                   298\n",
       "Student                                      251\n",
       "Computer & Mathematical                      228\n",
       "Sales & Related                              178\n",
       "Education&Training&Library                   137\n",
       "Management                                   118\n",
       "Office & Administrative Support              105\n",
       "Arts Design Entertainment Sports & Media      91\n",
       "Business & Financial                          88\n",
       "Retired                                       75\n",
       "Food Preparation & Serving Related            48\n",
       "Community & Social Services                   44\n",
       "Healthcare Support                            44\n",
       "Healthcare Practitioners & Technical          41\n",
       "Transportation & Material Moving              35\n",
       "Legal                                         34\n",
       "Architecture & Engineering                    27\n",
       "Personal Care & Service                       27\n",
       "Protective Service                            27\n",
       "Construction & Extraction                     24\n",
       "Life Physical Social Science                  24\n",
       "Installation Maintenance & Repair             18\n",
       "Production Occupations                        18\n",
       "Farming Fishing & Forestry                     9\n",
       "Building & Grounds Cleaning & Maintenance      7\n",
       "Name: count, dtype: int64"
      ]
     },
     "execution_count": 276,
     "metadata": {},
     "output_type": "execute_result"
    }
   ],
   "source": [
    "df_bar_sub['occupation'].value_counts()"
   ]
  },
  {
   "cell_type": "code",
   "execution_count": 285,
   "metadata": {},
   "outputs": [
    {
     "name": "stdout",
     "output_type": "stream",
     "text": [
      "<class 'pandas.core.frame.DataFrame'>\n",
      "Index: 195 entries, 90 to 12526\n",
      "Data columns (total 25 columns):\n",
      " #   Column           Non-Null Count  Dtype \n",
      "---  ------           --------------  ----- \n",
      " 0   destination      195 non-null    object\n",
      " 1   passenger        195 non-null    object\n",
      " 2   weather          195 non-null    object\n",
      " 3   temperature      195 non-null    int64 \n",
      " 4   time             195 non-null    object\n",
      " 5   coupon           195 non-null    object\n",
      " 6   expiration       195 non-null    object\n",
      " 7   gender           195 non-null    object\n",
      " 8   age              195 non-null    int64 \n",
      " 9   marital_status   195 non-null    object\n",
      " 10  has_children     195 non-null    int64 \n",
      " 11  education        195 non-null    object\n",
      " 12  occupation       195 non-null    object\n",
      " 13  income           195 non-null    object\n",
      " 14  bar              195 non-null    object\n",
      " 15  coffee_house     193 non-null    object\n",
      " 16  carry_away       191 non-null    object\n",
      " 17  restaurant_20    195 non-null    object\n",
      " 18  restaurant_50    195 non-null    object\n",
      " 19  to_coupon_5min   195 non-null    int64 \n",
      " 20  to_coupon_15min  195 non-null    int64 \n",
      " 21  to_coupon_25min  195 non-null    int64 \n",
      " 22  direction_same   195 non-null    int64 \n",
      " 23  direction_opp    195 non-null    int64 \n",
      " 24  Y                195 non-null    int64 \n",
      "dtypes: int64(9), object(16)\n",
      "memory usage: 39.6+ KB\n"
     ]
    }
   ],
   "source": [
    "# Individuals that go to the bar more than once per month, had non-child passengers and are not in farming or forestry, etc\n",
    "df_bar_sub_morethanonce_withpassenger = df_bar_sub.query('bar in [\"1~3\", \"4~8\", \"gt8\"] and passenger in [\"Friend(s)\", \"Partner\"] and occupation != \"Farming Fishing & Forestry\"')\n",
    "df_bar_sub_morethanonce_withpassenger.info()"
   ]
  },
  {
   "cell_type": "code",
   "execution_count": 286,
   "metadata": {},
   "outputs": [
    {
     "name": "stdout",
     "output_type": "stream",
     "text": [
      "71.79% of bar coupons were accepted\n"
     ]
    }
   ],
   "source": [
    "df_bar_sub_morethanonce_withpassenger_yes = (df_bar_sub_morethanonce_withpassenger[df_bar_sub_morethanonce_withpassenger['Y'] == 1].shape[0] / df_bar_sub_morethanonce_withpassenger.shape[0]) * 100\n",
    "print(f'{round(df_bar_sub_morethanonce_withpassenger_yes, 2)}% of bar coupons were accepted')"
   ]
  },
  {
   "cell_type": "code",
   "execution_count": 294,
   "metadata": {},
   "outputs": [
    {
     "name": "stdout",
     "output_type": "stream",
     "text": [
      "37.7% of bar coupons were accepted\n"
     ]
    }
   ],
   "source": [
    "# And the other population?\n",
    "index_set = pd.Index(set(df_bar_sub.index) - set(df_bar_sub_morethanonce_withpassenger.index))\n",
    "df_bar_sub_lessthanonce_other = df_bar_sub.loc[index_set][['age', 'bar', 'Y']]\n",
    "df_bar_sub_lessthanonce_other_yes = (df_bar_sub_lessthanonce_other[df_bar_sub_lessthanonce_other['Y'] == 1].shape[0] / df_bar_sub_lessthanonce_other.shape[0]) * 100\n",
    "print(f'{round(df_bar_sub_lessthanonce_other_yes, 2)}% of bar coupons were accepted')"
   ]
  },
  {
   "cell_type": "markdown",
   "metadata": {},
   "source": [
    "**Not sure I need that last one above**"
   ]
  },
  {
   "cell_type": "code",
   "execution_count": null,
   "metadata": {},
   "outputs": [],
   "source": []
  },
  {
   "cell_type": "code",
   "execution_count": null,
   "metadata": {},
   "outputs": [],
   "source": []
  },
  {
   "cell_type": "code",
   "execution_count": null,
   "metadata": {},
   "outputs": [],
   "source": []
  },
  {
   "cell_type": "markdown",
   "metadata": {},
   "source": [
    "#### 6. Compare the acceptance rates between those drivers who:\n",
    "\n",
    "- go to bars more than once a month, had passengers that were not a kid, and were not widowed *OR*\n",
    "- go to bars more than once a month and are under the age of 30 *OR*\n",
    "- go to cheap restaurants more than 4 times a month and income is less than 50K. \n",
    "\n"
   ]
  },
  {
   "cell_type": "code",
   "execution_count": 295,
   "metadata": {},
   "outputs": [
    {
     "data": {
      "text/plain": [
       "marital_status\n",
       "Married partner      871\n",
       "Single               655\n",
       "Unmarried partner    376\n",
       "Divorced              73\n",
       "Widowed               21\n",
       "Name: count, dtype: int64"
      ]
     },
     "execution_count": 295,
     "metadata": {},
     "output_type": "execute_result"
    }
   ],
   "source": [
    "df_bar_sub['marital_status'].value_counts()"
   ]
  },
  {
   "cell_type": "code",
   "execution_count": 297,
   "metadata": {},
   "outputs": [],
   "source": [
    "df_bar_sub_morethanonce_withpassenger = df_bar_sub.query('bar in [\"1~3\", \"4~8\", \"gt8\"] and passenger in [\"Friend(s)\", \"Partner\"] and marital_status != \"Widowed\"')"
   ]
  },
  {
   "cell_type": "code",
   "execution_count": null,
   "metadata": {},
   "outputs": [],
   "source": []
  },
  {
   "cell_type": "code",
   "execution_count": null,
   "metadata": {},
   "outputs": [],
   "source": []
  },
  {
   "cell_type": "code",
   "execution_count": null,
   "metadata": {},
   "outputs": [],
   "source": []
  },
  {
   "cell_type": "code",
   "execution_count": null,
   "metadata": {},
   "outputs": [],
   "source": []
  },
  {
   "cell_type": "markdown",
   "metadata": {},
   "source": [
    "#### 7.  Based on these observations, what do you hypothesize about drivers who accepted the bar coupons?"
   ]
  },
  {
   "cell_type": "code",
   "execution_count": null,
   "metadata": {},
   "outputs": [],
   "source": []
  },
  {
   "cell_type": "markdown",
   "metadata": {},
   "source": [
    "### Independent Investigation\n",
    "\n",
    "Using the bar coupon example as motivation, you are to explore one of the other coupon groups and try to determine the characteristics of passengers who accept the coupons.  "
   ]
  },
  {
   "cell_type": "code",
   "execution_count": null,
   "metadata": {},
   "outputs": [],
   "source": []
  },
  {
   "cell_type": "code",
   "execution_count": null,
   "metadata": {},
   "outputs": [],
   "source": []
  },
  {
   "cell_type": "code",
   "execution_count": null,
   "metadata": {},
   "outputs": [],
   "source": []
  },
  {
   "cell_type": "code",
   "execution_count": null,
   "metadata": {},
   "outputs": [],
   "source": []
  },
  {
   "cell_type": "code",
   "execution_count": null,
   "metadata": {},
   "outputs": [],
   "source": []
  }
 ],
 "metadata": {
  "kernelspec": {
   "display_name": "Python 3 (ipykernel)",
   "language": "python",
   "name": "python3"
  },
  "language_info": {
   "codemirror_mode": {
    "name": "ipython",
    "version": 3
   },
   "file_extension": ".py",
   "mimetype": "text/x-python",
   "name": "python",
   "nbconvert_exporter": "python",
   "pygments_lexer": "ipython3",
   "version": "3.11.7"
  },
  "widgets": {
   "application/vnd.jupyter.widget-state+json": {
    "state": {},
    "version_major": 2,
    "version_minor": 0
   }
  }
 },
 "nbformat": 4,
 "nbformat_minor": 4
}
