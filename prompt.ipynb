{
 "cells": [
  {
   "cell_type": "markdown",
   "metadata": {},
   "source": [
    "### Will a Customer Accept the Coupon?\n",
    "\n",
    "**Context**\n",
    "\n",
    "Imagine driving through town and a coupon is delivered to your cell phone for a restaurant near where you are driving. Would you accept that coupon and take a short detour to the restaurant? Would you accept the coupon but use it on a subsequent trip? Would you ignore the coupon entirely? What if the coupon was for a bar instead of a restaurant? What about a coffee house? Would you accept a bar coupon with a minor passenger in the car? What about if it was just you and your partner in the car? Would weather impact the rate of acceptance? What about the time of day?\n",
    "\n",
    "Obviously, proximity to the business is a factor on whether the coupon is delivered to the driver or not, but what are the factors that determine whether a driver accepts the coupon once it is delivered to them? How would you determine whether a driver is likely to accept a coupon?\n",
    "\n",
    "**Overview**\n",
    "\n",
    "The goal of this project is to use what you know about visualizations and probability distributions to **distinguish between customers who accepted a driving coupon versus those that did not**.\n",
    "\n",
    "**Data**\n",
    "\n",
    "This data comes to us from the UCI Machine Learning repository and was collected via a survey on Amazon Mechanical Turk. The survey describes different driving scenarios including the destination, current time, weather, passenger, etc., and then ask the person whether they will accept the coupon if they are the driver. Answers that the user will drive there ‘right away’ or ‘later before the coupon expires’ are labeled as ‘Y = 1’ and answers ‘no, I do not want the coupon’ are labeled as ‘Y = 0’.  There are five different types of coupons -- less expensive restaurants (under \\\\$20), coffee houses, carry out & take away, bar, and more expensive restaurants (\\\\$20 - \\\\$50). "
   ]
  },
  {
   "cell_type": "markdown",
   "metadata": {},
   "source": [
    "**Deliverables**\n",
    "\n",
    "Your final product should be a brief report that highlights the differences between customers who did and did not accept the coupons.  To explore the data you will utilize your knowledge of plotting, statistical summaries, and visualization using Python. You will publish your findings in a public facing github repository as your first portfolio piece. \n",
    "\n",
    "\n",
    "\n"
   ]
  },
  {
   "cell_type": "markdown",
   "metadata": {},
   "source": [
    "### Data Description\n",
    "Keep in mind that these values mentioned below are average values.\n",
    "\n",
    "The attributes of this data set include:\n",
    "1. User attributes\n",
    "    -  Gender: male, female\n",
    "    -  Age: below 21, 21 to 25, 26 to 30, etc.\n",
    "    -  Marital Status: single, married partner, unmarried partner, or widowed\n",
    "    -  Number of children: 0, 1, or more than 1\n",
    "    -  Education: high school, bachelors degree, associates degree, or graduate degree\n",
    "    -  Occupation: architecture & engineering, business & financial, etc.\n",
    "    -  Annual income: less than \\\\$12500, \\\\$12500 - \\\\$24999, \\\\$25000 - \\\\$37499, etc.\n",
    "    -  Number of times that he/she goes to a bar: 0, less than 1, 1 to 3, 4 to 8 or greater than 8\n",
    "    -  Number of times that he/she buys takeaway food: 0, less than 1, 1 to 3, 4 to 8 or greater\n",
    "    than 8\n",
    "    -  Number of times that he/she goes to a coffee house: 0, less than 1, 1 to 3, 4 to 8 or\n",
    "    greater than 8\n",
    "    -  Number of times that he/she eats at a restaurant with average expense less than \\\\$20 per\n",
    "    person: 0, less than 1, 1 to 3, 4 to 8 or greater than 8\n",
    "    -  Number of times that he/she goes to a bar: 0, less than 1, 1 to 3, 4 to 8 or greater than 8\n",
    "    \n",
    "\n",
    "2. Contextual attributes\n",
    "    - Driving destination: home, work, or no urgent destination\n",
    "    - Location of user, coupon and destination: we provide a map to show the geographical\n",
    "    location of the user, destination, and the venue, and we mark the distance between each\n",
    "    two places with time of driving. The user can see whether the venue is in the same\n",
    "    direction as the destination.\n",
    "    - Weather: sunny, rainy, or snowy\n",
    "    - Temperature: 30F, 55F, or 80F\n",
    "    - Time: 10AM, 2PM, or 6PM\n",
    "    - Passenger: alone, partner, kid(s), or friend(s)\n",
    "\n",
    "\n",
    "3. Coupon attributes\n",
    "    - time before it expires: 2 hours or one day"
   ]
  },
  {
   "cell_type": "code",
   "execution_count": 1,
   "metadata": {},
   "outputs": [],
   "source": [
    "import matplotlib.pyplot as plt\n",
    "import seaborn as sns\n",
    "import pandas as pd\n",
    "import numpy as np"
   ]
  },
  {
   "cell_type": "markdown",
   "metadata": {},
   "source": [
    "### Problems\n",
    "\n",
    "Use the prompts below to get started with your data analysis."
   ]
  },
  {
   "cell_type": "markdown",
   "metadata": {},
   "source": [
    "#### 1. Read in the coupons.csv file."
   ]
  },
  {
   "cell_type": "code",
   "execution_count": 2,
   "metadata": {},
   "outputs": [],
   "source": [
    "data = pd.read_csv('data/coupons.csv')"
   ]
  },
  {
   "cell_type": "code",
   "execution_count": 3,
   "metadata": {},
   "outputs": [
    {
     "data": {
      "text/html": [
       "<div>\n",
       "<style scoped>\n",
       "    .dataframe tbody tr th:only-of-type {\n",
       "        vertical-align: middle;\n",
       "    }\n",
       "\n",
       "    .dataframe tbody tr th {\n",
       "        vertical-align: top;\n",
       "    }\n",
       "\n",
       "    .dataframe thead th {\n",
       "        text-align: right;\n",
       "    }\n",
       "</style>\n",
       "<table border=\"1\" class=\"dataframe\">\n",
       "  <thead>\n",
       "    <tr style=\"text-align: right;\">\n",
       "      <th></th>\n",
       "      <th>destination</th>\n",
       "      <th>passanger</th>\n",
       "      <th>weather</th>\n",
       "      <th>temperature</th>\n",
       "      <th>time</th>\n",
       "      <th>coupon</th>\n",
       "      <th>expiration</th>\n",
       "      <th>gender</th>\n",
       "      <th>age</th>\n",
       "      <th>maritalStatus</th>\n",
       "      <th>...</th>\n",
       "      <th>CoffeeHouse</th>\n",
       "      <th>CarryAway</th>\n",
       "      <th>RestaurantLessThan20</th>\n",
       "      <th>Restaurant20To50</th>\n",
       "      <th>toCoupon_GEQ5min</th>\n",
       "      <th>toCoupon_GEQ15min</th>\n",
       "      <th>toCoupon_GEQ25min</th>\n",
       "      <th>direction_same</th>\n",
       "      <th>direction_opp</th>\n",
       "      <th>Y</th>\n",
       "    </tr>\n",
       "  </thead>\n",
       "  <tbody>\n",
       "    <tr>\n",
       "      <th>0</th>\n",
       "      <td>No Urgent Place</td>\n",
       "      <td>Alone</td>\n",
       "      <td>Sunny</td>\n",
       "      <td>55</td>\n",
       "      <td>2PM</td>\n",
       "      <td>Restaurant(&lt;20)</td>\n",
       "      <td>1d</td>\n",
       "      <td>Female</td>\n",
       "      <td>21</td>\n",
       "      <td>Unmarried partner</td>\n",
       "      <td>...</td>\n",
       "      <td>never</td>\n",
       "      <td>NaN</td>\n",
       "      <td>4~8</td>\n",
       "      <td>1~3</td>\n",
       "      <td>1</td>\n",
       "      <td>0</td>\n",
       "      <td>0</td>\n",
       "      <td>0</td>\n",
       "      <td>1</td>\n",
       "      <td>1</td>\n",
       "    </tr>\n",
       "    <tr>\n",
       "      <th>1</th>\n",
       "      <td>No Urgent Place</td>\n",
       "      <td>Friend(s)</td>\n",
       "      <td>Sunny</td>\n",
       "      <td>80</td>\n",
       "      <td>10AM</td>\n",
       "      <td>Coffee House</td>\n",
       "      <td>2h</td>\n",
       "      <td>Female</td>\n",
       "      <td>21</td>\n",
       "      <td>Unmarried partner</td>\n",
       "      <td>...</td>\n",
       "      <td>never</td>\n",
       "      <td>NaN</td>\n",
       "      <td>4~8</td>\n",
       "      <td>1~3</td>\n",
       "      <td>1</td>\n",
       "      <td>0</td>\n",
       "      <td>0</td>\n",
       "      <td>0</td>\n",
       "      <td>1</td>\n",
       "      <td>0</td>\n",
       "    </tr>\n",
       "    <tr>\n",
       "      <th>2</th>\n",
       "      <td>No Urgent Place</td>\n",
       "      <td>Friend(s)</td>\n",
       "      <td>Sunny</td>\n",
       "      <td>80</td>\n",
       "      <td>10AM</td>\n",
       "      <td>Carry out &amp; Take away</td>\n",
       "      <td>2h</td>\n",
       "      <td>Female</td>\n",
       "      <td>21</td>\n",
       "      <td>Unmarried partner</td>\n",
       "      <td>...</td>\n",
       "      <td>never</td>\n",
       "      <td>NaN</td>\n",
       "      <td>4~8</td>\n",
       "      <td>1~3</td>\n",
       "      <td>1</td>\n",
       "      <td>1</td>\n",
       "      <td>0</td>\n",
       "      <td>0</td>\n",
       "      <td>1</td>\n",
       "      <td>1</td>\n",
       "    </tr>\n",
       "    <tr>\n",
       "      <th>3</th>\n",
       "      <td>No Urgent Place</td>\n",
       "      <td>Friend(s)</td>\n",
       "      <td>Sunny</td>\n",
       "      <td>80</td>\n",
       "      <td>2PM</td>\n",
       "      <td>Coffee House</td>\n",
       "      <td>2h</td>\n",
       "      <td>Female</td>\n",
       "      <td>21</td>\n",
       "      <td>Unmarried partner</td>\n",
       "      <td>...</td>\n",
       "      <td>never</td>\n",
       "      <td>NaN</td>\n",
       "      <td>4~8</td>\n",
       "      <td>1~3</td>\n",
       "      <td>1</td>\n",
       "      <td>1</td>\n",
       "      <td>0</td>\n",
       "      <td>0</td>\n",
       "      <td>1</td>\n",
       "      <td>0</td>\n",
       "    </tr>\n",
       "    <tr>\n",
       "      <th>4</th>\n",
       "      <td>No Urgent Place</td>\n",
       "      <td>Friend(s)</td>\n",
       "      <td>Sunny</td>\n",
       "      <td>80</td>\n",
       "      <td>2PM</td>\n",
       "      <td>Coffee House</td>\n",
       "      <td>1d</td>\n",
       "      <td>Female</td>\n",
       "      <td>21</td>\n",
       "      <td>Unmarried partner</td>\n",
       "      <td>...</td>\n",
       "      <td>never</td>\n",
       "      <td>NaN</td>\n",
       "      <td>4~8</td>\n",
       "      <td>1~3</td>\n",
       "      <td>1</td>\n",
       "      <td>1</td>\n",
       "      <td>0</td>\n",
       "      <td>0</td>\n",
       "      <td>1</td>\n",
       "      <td>0</td>\n",
       "    </tr>\n",
       "  </tbody>\n",
       "</table>\n",
       "<p>5 rows × 26 columns</p>\n",
       "</div>"
      ],
      "text/plain": [
       "       destination  passanger weather  temperature  time  \\\n",
       "0  No Urgent Place      Alone   Sunny           55   2PM   \n",
       "1  No Urgent Place  Friend(s)   Sunny           80  10AM   \n",
       "2  No Urgent Place  Friend(s)   Sunny           80  10AM   \n",
       "3  No Urgent Place  Friend(s)   Sunny           80   2PM   \n",
       "4  No Urgent Place  Friend(s)   Sunny           80   2PM   \n",
       "\n",
       "                  coupon expiration  gender age      maritalStatus  ...  \\\n",
       "0        Restaurant(<20)         1d  Female  21  Unmarried partner  ...   \n",
       "1           Coffee House         2h  Female  21  Unmarried partner  ...   \n",
       "2  Carry out & Take away         2h  Female  21  Unmarried partner  ...   \n",
       "3           Coffee House         2h  Female  21  Unmarried partner  ...   \n",
       "4           Coffee House         1d  Female  21  Unmarried partner  ...   \n",
       "\n",
       "   CoffeeHouse CarryAway RestaurantLessThan20 Restaurant20To50  \\\n",
       "0        never       NaN                  4~8              1~3   \n",
       "1        never       NaN                  4~8              1~3   \n",
       "2        never       NaN                  4~8              1~3   \n",
       "3        never       NaN                  4~8              1~3   \n",
       "4        never       NaN                  4~8              1~3   \n",
       "\n",
       "  toCoupon_GEQ5min toCoupon_GEQ15min toCoupon_GEQ25min direction_same  \\\n",
       "0                1                 0                 0              0   \n",
       "1                1                 0                 0              0   \n",
       "2                1                 1                 0              0   \n",
       "3                1                 1                 0              0   \n",
       "4                1                 1                 0              0   \n",
       "\n",
       "  direction_opp  Y  \n",
       "0             1  1  \n",
       "1             1  0  \n",
       "2             1  1  \n",
       "3             1  0  \n",
       "4             1  0  \n",
       "\n",
       "[5 rows x 26 columns]"
      ]
     },
     "execution_count": 3,
     "metadata": {},
     "output_type": "execute_result"
    }
   ],
   "source": [
    "data.head()"
   ]
  },
  {
   "cell_type": "markdown",
   "metadata": {},
   "source": [
    "#### 2. Investigate the dataset for missing or problematic data."
   ]
  },
  {
   "cell_type": "code",
   "execution_count": 4,
   "metadata": {
    "scrolled": true
   },
   "outputs": [
    {
     "name": "stdout",
     "output_type": "stream",
     "text": [
      "<class 'pandas.core.frame.DataFrame'>\n",
      "RangeIndex: 12684 entries, 0 to 12683\n",
      "Data columns (total 26 columns):\n",
      " #   Column                Non-Null Count  Dtype \n",
      "---  ------                --------------  ----- \n",
      " 0   destination           12684 non-null  object\n",
      " 1   passanger             12684 non-null  object\n",
      " 2   weather               12684 non-null  object\n",
      " 3   temperature           12684 non-null  int64 \n",
      " 4   time                  12684 non-null  object\n",
      " 5   coupon                12684 non-null  object\n",
      " 6   expiration            12684 non-null  object\n",
      " 7   gender                12684 non-null  object\n",
      " 8   age                   12684 non-null  object\n",
      " 9   maritalStatus         12684 non-null  object\n",
      " 10  has_children          12684 non-null  int64 \n",
      " 11  education             12684 non-null  object\n",
      " 12  occupation            12684 non-null  object\n",
      " 13  income                12684 non-null  object\n",
      " 14  car                   108 non-null    object\n",
      " 15  Bar                   12577 non-null  object\n",
      " 16  CoffeeHouse           12467 non-null  object\n",
      " 17  CarryAway             12533 non-null  object\n",
      " 18  RestaurantLessThan20  12554 non-null  object\n",
      " 19  Restaurant20To50      12495 non-null  object\n",
      " 20  toCoupon_GEQ5min      12684 non-null  int64 \n",
      " 21  toCoupon_GEQ15min     12684 non-null  int64 \n",
      " 22  toCoupon_GEQ25min     12684 non-null  int64 \n",
      " 23  direction_same        12684 non-null  int64 \n",
      " 24  direction_opp         12684 non-null  int64 \n",
      " 25  Y                     12684 non-null  int64 \n",
      "dtypes: int64(8), object(18)\n",
      "memory usage: 2.5+ MB\n"
     ]
    }
   ],
   "source": [
    "# Check the size of this dataset and the column types?\n",
    "data.info()"
   ]
  },
  {
   "cell_type": "markdown",
   "metadata": {},
   "source": [
    "Initial observations on the data:\n",
    "- passanger is spelled wrong, fix\n",
    "- mix of CamelCase and snake_case, standardize to one\n",
    "- car column has almost no data\n",
    "- Bar, CoffeeHouse, CarryAway, RestaurantLessThan20 and Restaurant20To50 are missing some data\n",
    "- most of these columns are categorical"
   ]
  },
  {
   "cell_type": "code",
   "execution_count": 5,
   "metadata": {},
   "outputs": [
    {
     "data": {
      "text/plain": [
       "coupon\n",
       "Coffee House             3996\n",
       "Restaurant(<20)          2786\n",
       "Carry out & Take away    2393\n",
       "Bar                      2017\n",
       "Restaurant(20-50)        1492\n",
       "Name: count, dtype: int64"
      ]
     },
     "execution_count": 5,
     "metadata": {},
     "output_type": "execute_result"
    }
   ],
   "source": [
    "# coupon column represents the type of coupon offered to the customer. Quick check on the values and counts of these:\n",
    "data['coupon'].value_counts()"
   ]
  },
  {
   "cell_type": "markdown",
   "metadata": {},
   "source": [
    "**Note**\n",
    "\n",
    "`coupon` column string values do not exactly match the corresponding column names."
   ]
  },
  {
   "cell_type": "code",
   "execution_count": 6,
   "metadata": {},
   "outputs": [
    {
     "data": {
      "text/plain": [
       "car\n",
       "Scooter and motorcycle                      22\n",
       "Mazda5                                      22\n",
       "do not drive                                22\n",
       "crossover                                   21\n",
       "Car that is too old to install Onstar :D    21\n",
       "Name: count, dtype: int64"
      ]
     },
     "execution_count": 6,
     "metadata": {},
     "output_type": "execute_result"
    }
   ],
   "source": [
    "# Very few rows have values for the car column. This column is likely not useful in our analysis.\n",
    "data['car'].value_counts()"
   ]
  },
  {
   "cell_type": "code",
   "execution_count": 7,
   "metadata": {},
   "outputs": [
    {
     "name": "stdout",
     "output_type": "stream",
     "text": [
      "Bar\n",
      "never    5197\n",
      "less1    3482\n",
      "1~3      2473\n",
      "4~8      1076\n",
      "gt8       349\n",
      "Name: count, dtype: int64\n",
      "\n",
      "CoffeeHouse\n",
      "less1    3385\n",
      "1~3      3225\n",
      "never    2962\n",
      "4~8      1784\n",
      "gt8      1111\n",
      "Name: count, dtype: int64\n",
      "\n",
      "CarryAway\n",
      "1~3      4672\n",
      "4~8      4258\n",
      "less1    1856\n",
      "gt8      1594\n",
      "never     153\n",
      "Name: count, dtype: int64\n",
      "\n",
      "RestaurantLessThan20\n",
      "1~3      5376\n",
      "4~8      3580\n",
      "less1    2093\n",
      "gt8      1285\n",
      "never     220\n",
      "Name: count, dtype: int64\n",
      "\n",
      "Restaurant20To50\n",
      "less1    6077\n",
      "1~3      3290\n",
      "never    2136\n",
      "4~8       728\n",
      "gt8       264\n",
      "Name: count, dtype: int64\n",
      "\n"
     ]
    }
   ],
   "source": [
    "# Review the counts of these \"number of times visited\" columns to see if anything unusual stands out\n",
    "fields = ['Bar', 'CoffeeHouse', 'CarryAway', 'RestaurantLessThan20', 'Restaurant20To50']\n",
    "for fld in fields:\n",
    "    print(data[fld].value_counts())\n",
    "    print()"
   ]
  },
  {
   "cell_type": "markdown",
   "metadata": {},
   "source": [
    "**Summary:**\n",
    "\n",
    "Nothing stands out in the \"number of times visited\" data above as being unusual or unexpected."
   ]
  },
  {
   "cell_type": "markdown",
   "metadata": {},
   "source": [
    "**Let's look at the location columns:**"
   ]
  },
  {
   "cell_type": "code",
   "execution_count": 8,
   "metadata": {},
   "outputs": [
    {
     "name": "stdout",
     "output_type": "stream",
     "text": [
      "toCoupon_GEQ5min\n",
      "1    12684\n",
      "Name: count, dtype: int64\n",
      "\n",
      "toCoupon_GEQ15min\n",
      "1    7122\n",
      "0    5562\n",
      "Name: count, dtype: int64\n",
      "\n",
      "toCoupon_GEQ25min\n",
      "0    11173\n",
      "1     1511\n",
      "Name: count, dtype: int64\n",
      "\n"
     ]
    }
   ],
   "source": [
    "fields = ['toCoupon_GEQ5min', 'toCoupon_GEQ15min', 'toCoupon_GEQ25min']\n",
    "for fld in fields:\n",
    "    print(data[fld].value_counts())\n",
    "    print()"
   ]
  },
  {
   "cell_type": "markdown",
   "metadata": {},
   "source": [
    "**Summary:**\n",
    "\n",
    "Every row has the 5min column set to 1. So this column likely not informative. Assuming \"GEQ\" here means \"greater than or equal to\", so every coupon is a minimun of 5 minutes away from the potential customer. ~14% are greater than 25 minutes away, looking at the data it appears most of the coupons are ~15-20 minutes away.\n",
    "\n",
    "Considering that `toCoupon_GEQ5min` is the same for all rows, and `toCoupon_GEQ25min` has few rows set to true, I would not expect this information to be deterministic of accepting the coupon."
   ]
  },
  {
   "cell_type": "markdown",
   "metadata": {},
   "source": [
    "**Direction columns**\n",
    "\n",
    "If the data is complete for these two columns, we expect the counts to be the exact opposite"
   ]
  },
  {
   "cell_type": "code",
   "execution_count": 9,
   "metadata": {},
   "outputs": [
    {
     "data": {
      "text/plain": [
       "direction_same\n",
       "0    9960\n",
       "1    2724\n",
       "Name: count, dtype: int64"
      ]
     },
     "execution_count": 9,
     "metadata": {},
     "output_type": "execute_result"
    }
   ],
   "source": [
    "data['direction_same'].value_counts()"
   ]
  },
  {
   "cell_type": "code",
   "execution_count": 10,
   "metadata": {},
   "outputs": [
    {
     "data": {
      "text/plain": [
       "direction_opp\n",
       "1    9960\n",
       "0    2724\n",
       "Name: count, dtype: int64"
      ]
     },
     "execution_count": 10,
     "metadata": {},
     "output_type": "execute_result"
    }
   ],
   "source": [
    "data['direction_opp'].value_counts()"
   ]
  },
  {
   "cell_type": "markdown",
   "metadata": {},
   "source": [
    "**Summary:**\n",
    "\n",
    "The direction columns look good"
   ]
  },
  {
   "cell_type": "markdown",
   "metadata": {},
   "source": [
    "**Rename Columns**\n",
    "\n",
    "Renaming columns to fix typos and have consistency in naming conventions."
   ]
  },
  {
   "cell_type": "code",
   "execution_count": 11,
   "metadata": {},
   "outputs": [],
   "source": [
    "# Create a new DataFrame with columns renamed\n",
    "column_map = {\n",
    "    'passanger': 'passenger',\n",
    "    'maritalStatus': 'marital_status',\n",
    "    'Bar': 'bar',\n",
    "    'CoffeeHouse': 'coffee_house',\n",
    "    'CarryAway': 'carry_away',\n",
    "    'RestaurantLessThan20': 'restaurant_20',\n",
    "    'Restaurant20To50': 'restaurant_50',\n",
    "    'toCoupon_GEQ5min': 'to_coupon_5min',\n",
    "    'toCoupon_GEQ15min': 'to_coupon_15min',\n",
    "    'toCoupon_GEQ25min': 'to_coupon_25min',\n",
    "}"
   ]
  },
  {
   "cell_type": "code",
   "execution_count": 12,
   "metadata": {},
   "outputs": [
    {
     "name": "stdout",
     "output_type": "stream",
     "text": [
      "<class 'pandas.core.frame.DataFrame'>\n",
      "RangeIndex: 12684 entries, 0 to 12683\n",
      "Data columns (total 26 columns):\n",
      " #   Column           Non-Null Count  Dtype \n",
      "---  ------           --------------  ----- \n",
      " 0   destination      12684 non-null  object\n",
      " 1   passenger        12684 non-null  object\n",
      " 2   weather          12684 non-null  object\n",
      " 3   temperature      12684 non-null  int64 \n",
      " 4   time             12684 non-null  object\n",
      " 5   coupon           12684 non-null  object\n",
      " 6   expiration       12684 non-null  object\n",
      " 7   gender           12684 non-null  object\n",
      " 8   age              12684 non-null  object\n",
      " 9   marital_status   12684 non-null  object\n",
      " 10  has_children     12684 non-null  int64 \n",
      " 11  education        12684 non-null  object\n",
      " 12  occupation       12684 non-null  object\n",
      " 13  income           12684 non-null  object\n",
      " 14  car              108 non-null    object\n",
      " 15  bar              12577 non-null  object\n",
      " 16  coffee_house     12467 non-null  object\n",
      " 17  carry_away       12533 non-null  object\n",
      " 18  restaurant_20    12554 non-null  object\n",
      " 19  restaurant_50    12495 non-null  object\n",
      " 20  to_coupon_5min   12684 non-null  int64 \n",
      " 21  to_coupon_15min  12684 non-null  int64 \n",
      " 22  to_coupon_25min  12684 non-null  int64 \n",
      " 23  direction_same   12684 non-null  int64 \n",
      " 24  direction_opp    12684 non-null  int64 \n",
      " 25  Y                12684 non-null  int64 \n",
      "dtypes: int64(8), object(18)\n",
      "memory usage: 2.5+ MB\n"
     ]
    }
   ],
   "source": [
    "df = data.rename(columns=column_map)\n",
    "df.info()"
   ]
  },
  {
   "cell_type": "code",
   "execution_count": 13,
   "metadata": {},
   "outputs": [
    {
     "data": {
      "text/plain": [
       "destination          No Urgent Place\n",
       "passenger                      Alone\n",
       "weather                        Sunny\n",
       "temperature                       55\n",
       "time                            10AM\n",
       "coupon                  Coffee House\n",
       "expiration                        2h\n",
       "gender                          Male\n",
       "age                               21\n",
       "marital_status                Single\n",
       "has_children                       0\n",
       "education          Associates degree\n",
       "occupation                   Student\n",
       "income               $12500 - $24999\n",
       "car                              NaN\n",
       "bar                              1~3\n",
       "coffee_house                   less1\n",
       "carry_away                       1~3\n",
       "restaurant_20                  less1\n",
       "restaurant_50                    1~3\n",
       "to_coupon_5min                     1\n",
       "to_coupon_15min                    0\n",
       "to_coupon_25min                    0\n",
       "direction_same                     0\n",
       "direction_opp                      1\n",
       "Y                                  1\n",
       "Name: 100, dtype: object"
      ]
     },
     "execution_count": 13,
     "metadata": {},
     "output_type": "execute_result"
    }
   ],
   "source": [
    "# Look at an example row\n",
    "df.iloc[100]"
   ]
  },
  {
   "cell_type": "markdown",
   "metadata": {},
   "source": [
    "#### 3. Decide what to do about your missing data -- drop, replace, other..."
   ]
  },
  {
   "cell_type": "markdown",
   "metadata": {},
   "source": [
    "Dropping the car column since it has so little data, less than 1% of it's rows have values. Also the values we do have in these 108 rows looks incomplete. We have 22 rows listed as \"Mazda5\", that's the only car make and model listed. If we have reliable car descriptions we would expect to see a distribution of car makes and models."
   ]
  },
  {
   "cell_type": "code",
   "execution_count": 14,
   "metadata": {},
   "outputs": [],
   "source": [
    "df = df.drop(columns=['car'])"
   ]
  },
  {
   "cell_type": "code",
   "execution_count": 15,
   "metadata": {},
   "outputs": [
    {
     "name": "stdout",
     "output_type": "stream",
     "text": [
      "<class 'pandas.core.frame.DataFrame'>\n",
      "RangeIndex: 12684 entries, 0 to 12683\n",
      "Data columns (total 25 columns):\n",
      " #   Column           Non-Null Count  Dtype \n",
      "---  ------           --------------  ----- \n",
      " 0   destination      12684 non-null  object\n",
      " 1   passenger        12684 non-null  object\n",
      " 2   weather          12684 non-null  object\n",
      " 3   temperature      12684 non-null  int64 \n",
      " 4   time             12684 non-null  object\n",
      " 5   coupon           12684 non-null  object\n",
      " 6   expiration       12684 non-null  object\n",
      " 7   gender           12684 non-null  object\n",
      " 8   age              12684 non-null  object\n",
      " 9   marital_status   12684 non-null  object\n",
      " 10  has_children     12684 non-null  int64 \n",
      " 11  education        12684 non-null  object\n",
      " 12  occupation       12684 non-null  object\n",
      " 13  income           12684 non-null  object\n",
      " 14  bar              12577 non-null  object\n",
      " 15  coffee_house     12467 non-null  object\n",
      " 16  carry_away       12533 non-null  object\n",
      " 17  restaurant_20    12554 non-null  object\n",
      " 18  restaurant_50    12495 non-null  object\n",
      " 19  to_coupon_5min   12684 non-null  int64 \n",
      " 20  to_coupon_15min  12684 non-null  int64 \n",
      " 21  to_coupon_25min  12684 non-null  int64 \n",
      " 22  direction_same   12684 non-null  int64 \n",
      " 23  direction_opp    12684 non-null  int64 \n",
      " 24  Y                12684 non-null  int64 \n",
      "dtypes: int64(8), object(17)\n",
      "memory usage: 2.4+ MB\n"
     ]
    }
   ],
   "source": [
    "df.info()"
   ]
  },
  {
   "cell_type": "markdown",
   "metadata": {},
   "source": [
    "We're missing values for ~1% of the \"number of times\" fields. I'm replacing these with a \"no answer\" value so I can track them later. Perhaps there's a correlation between the missing values and some other field. For example, maybe individuals from a particular occupation declined to state their bar habbits for some reason."
   ]
  },
  {
   "cell_type": "code",
   "execution_count": 16,
   "metadata": {},
   "outputs": [
    {
     "data": {
      "text/plain": [
       "bar\n",
       "never    5197\n",
       "less1    3482\n",
       "1~3      2473\n",
       "4~8      1076\n",
       "gt8       349\n",
       "NaN       107\n",
       "Name: count, dtype: int64"
      ]
     },
     "execution_count": 16,
     "metadata": {},
     "output_type": "execute_result"
    }
   ],
   "source": [
    "df.bar.value_counts(dropna=False)"
   ]
  },
  {
   "cell_type": "code",
   "execution_count": 17,
   "metadata": {},
   "outputs": [],
   "source": [
    "fill_map = {\n",
    "    'bar': 'no_answer',\n",
    "    'coffee_house': 'no_answer',\n",
    "    'carry_away': 'no_answer',\n",
    "    'restaurant_20': 'no_answer',\n",
    "    'restaurant_50': 'no_answer'\n",
    "}\n",
    "df.fillna(value=fill_map, inplace=True)"
   ]
  },
  {
   "cell_type": "code",
   "execution_count": 18,
   "metadata": {},
   "outputs": [
    {
     "name": "stdout",
     "output_type": "stream",
     "text": [
      "<class 'pandas.core.frame.DataFrame'>\n",
      "RangeIndex: 12684 entries, 0 to 12683\n",
      "Data columns (total 25 columns):\n",
      " #   Column           Non-Null Count  Dtype \n",
      "---  ------           --------------  ----- \n",
      " 0   destination      12684 non-null  object\n",
      " 1   passenger        12684 non-null  object\n",
      " 2   weather          12684 non-null  object\n",
      " 3   temperature      12684 non-null  int64 \n",
      " 4   time             12684 non-null  object\n",
      " 5   coupon           12684 non-null  object\n",
      " 6   expiration       12684 non-null  object\n",
      " 7   gender           12684 non-null  object\n",
      " 8   age              12684 non-null  object\n",
      " 9   marital_status   12684 non-null  object\n",
      " 10  has_children     12684 non-null  int64 \n",
      " 11  education        12684 non-null  object\n",
      " 12  occupation       12684 non-null  object\n",
      " 13  income           12684 non-null  object\n",
      " 14  bar              12684 non-null  object\n",
      " 15  coffee_house     12684 non-null  object\n",
      " 16  carry_away       12684 non-null  object\n",
      " 17  restaurant_20    12684 non-null  object\n",
      " 18  restaurant_50    12684 non-null  object\n",
      " 19  to_coupon_5min   12684 non-null  int64 \n",
      " 20  to_coupon_15min  12684 non-null  int64 \n",
      " 21  to_coupon_25min  12684 non-null  int64 \n",
      " 22  direction_same   12684 non-null  int64 \n",
      " 23  direction_opp    12684 non-null  int64 \n",
      " 24  Y                12684 non-null  int64 \n",
      "dtypes: int64(8), object(17)\n",
      "memory usage: 2.4+ MB\n"
     ]
    }
   ],
   "source": [
    "df.info()"
   ]
  },
  {
   "cell_type": "code",
   "execution_count": 19,
   "metadata": {},
   "outputs": [
    {
     "data": {
      "text/plain": [
       "bar\n",
       "never        5197\n",
       "less1        3482\n",
       "1~3          2473\n",
       "4~8          1076\n",
       "gt8           349\n",
       "no_answer     107\n",
       "Name: count, dtype: int64"
      ]
     },
     "execution_count": 19,
     "metadata": {},
     "output_type": "execute_result"
    }
   ],
   "source": [
    "df.bar.value_counts(dropna=False)"
   ]
  },
  {
   "cell_type": "markdown",
   "metadata": {},
   "source": [
    "**Check for any duplicates**"
   ]
  },
  {
   "cell_type": "code",
   "execution_count": 20,
   "metadata": {},
   "outputs": [
    {
     "name": "stdout",
     "output_type": "stream",
     "text": [
      "<class 'pandas.core.frame.DataFrame'>\n",
      "Index: 74 entries, 4192 to 8516\n",
      "Data columns (total 25 columns):\n",
      " #   Column           Non-Null Count  Dtype \n",
      "---  ------           --------------  ----- \n",
      " 0   destination      74 non-null     object\n",
      " 1   passenger        74 non-null     object\n",
      " 2   weather          74 non-null     object\n",
      " 3   temperature      74 non-null     int64 \n",
      " 4   time             74 non-null     object\n",
      " 5   coupon           74 non-null     object\n",
      " 6   expiration       74 non-null     object\n",
      " 7   gender           74 non-null     object\n",
      " 8   age              74 non-null     object\n",
      " 9   marital_status   74 non-null     object\n",
      " 10  has_children     74 non-null     int64 \n",
      " 11  education        74 non-null     object\n",
      " 12  occupation       74 non-null     object\n",
      " 13  income           74 non-null     object\n",
      " 14  bar              74 non-null     object\n",
      " 15  coffee_house     74 non-null     object\n",
      " 16  carry_away       74 non-null     object\n",
      " 17  restaurant_20    74 non-null     object\n",
      " 18  restaurant_50    74 non-null     object\n",
      " 19  to_coupon_5min   74 non-null     int64 \n",
      " 20  to_coupon_15min  74 non-null     int64 \n",
      " 21  to_coupon_25min  74 non-null     int64 \n",
      " 22  direction_same   74 non-null     int64 \n",
      " 23  direction_opp    74 non-null     int64 \n",
      " 24  Y                74 non-null     int64 \n",
      "dtypes: int64(8), object(17)\n",
      "memory usage: 15.0+ KB\n"
     ]
    }
   ],
   "source": [
    "# Any duplicate rows?\n",
    "dups = df[df.duplicated()]\n",
    "dups.info()"
   ]
  },
  {
   "cell_type": "code",
   "execution_count": 21,
   "metadata": {},
   "outputs": [
    {
     "data": {
      "text/html": [
       "<div>\n",
       "<style scoped>\n",
       "    .dataframe tbody tr th:only-of-type {\n",
       "        vertical-align: middle;\n",
       "    }\n",
       "\n",
       "    .dataframe tbody tr th {\n",
       "        vertical-align: top;\n",
       "    }\n",
       "\n",
       "    .dataframe thead th {\n",
       "        text-align: right;\n",
       "    }\n",
       "</style>\n",
       "<table border=\"1\" class=\"dataframe\">\n",
       "  <thead>\n",
       "    <tr style=\"text-align: right;\">\n",
       "      <th></th>\n",
       "      <th>destination</th>\n",
       "      <th>passenger</th>\n",
       "      <th>weather</th>\n",
       "      <th>temperature</th>\n",
       "      <th>time</th>\n",
       "      <th>coupon</th>\n",
       "      <th>expiration</th>\n",
       "      <th>gender</th>\n",
       "      <th>age</th>\n",
       "      <th>marital_status</th>\n",
       "      <th>...</th>\n",
       "      <th>coffee_house</th>\n",
       "      <th>carry_away</th>\n",
       "      <th>restaurant_20</th>\n",
       "      <th>restaurant_50</th>\n",
       "      <th>to_coupon_5min</th>\n",
       "      <th>to_coupon_15min</th>\n",
       "      <th>to_coupon_25min</th>\n",
       "      <th>direction_same</th>\n",
       "      <th>direction_opp</th>\n",
       "      <th>Y</th>\n",
       "    </tr>\n",
       "  </thead>\n",
       "  <tbody>\n",
       "    <tr>\n",
       "      <th>4192</th>\n",
       "      <td>Work</td>\n",
       "      <td>Alone</td>\n",
       "      <td>Sunny</td>\n",
       "      <td>80</td>\n",
       "      <td>7AM</td>\n",
       "      <td>Carry out &amp; Take away</td>\n",
       "      <td>1d</td>\n",
       "      <td>Male</td>\n",
       "      <td>26</td>\n",
       "      <td>Single</td>\n",
       "      <td>...</td>\n",
       "      <td>never</td>\n",
       "      <td>1~3</td>\n",
       "      <td>less1</td>\n",
       "      <td>less1</td>\n",
       "      <td>1</td>\n",
       "      <td>1</td>\n",
       "      <td>1</td>\n",
       "      <td>0</td>\n",
       "      <td>1</td>\n",
       "      <td>1</td>\n",
       "    </tr>\n",
       "    <tr>\n",
       "      <th>4236</th>\n",
       "      <td>Work</td>\n",
       "      <td>Alone</td>\n",
       "      <td>Sunny</td>\n",
       "      <td>80</td>\n",
       "      <td>7AM</td>\n",
       "      <td>Carry out &amp; Take away</td>\n",
       "      <td>1d</td>\n",
       "      <td>Male</td>\n",
       "      <td>26</td>\n",
       "      <td>Single</td>\n",
       "      <td>...</td>\n",
       "      <td>gt8</td>\n",
       "      <td>gt8</td>\n",
       "      <td>4~8</td>\n",
       "      <td>less1</td>\n",
       "      <td>1</td>\n",
       "      <td>1</td>\n",
       "      <td>1</td>\n",
       "      <td>0</td>\n",
       "      <td>1</td>\n",
       "      <td>1</td>\n",
       "    </tr>\n",
       "    <tr>\n",
       "      <th>4280</th>\n",
       "      <td>Work</td>\n",
       "      <td>Alone</td>\n",
       "      <td>Sunny</td>\n",
       "      <td>80</td>\n",
       "      <td>7AM</td>\n",
       "      <td>Carry out &amp; Take away</td>\n",
       "      <td>1d</td>\n",
       "      <td>Female</td>\n",
       "      <td>26</td>\n",
       "      <td>Single</td>\n",
       "      <td>...</td>\n",
       "      <td>never</td>\n",
       "      <td>4~8</td>\n",
       "      <td>1~3</td>\n",
       "      <td>less1</td>\n",
       "      <td>1</td>\n",
       "      <td>1</td>\n",
       "      <td>1</td>\n",
       "      <td>0</td>\n",
       "      <td>1</td>\n",
       "      <td>1</td>\n",
       "    </tr>\n",
       "    <tr>\n",
       "      <th>4324</th>\n",
       "      <td>Work</td>\n",
       "      <td>Alone</td>\n",
       "      <td>Sunny</td>\n",
       "      <td>80</td>\n",
       "      <td>7AM</td>\n",
       "      <td>Carry out &amp; Take away</td>\n",
       "      <td>1d</td>\n",
       "      <td>Female</td>\n",
       "      <td>46</td>\n",
       "      <td>Single</td>\n",
       "      <td>...</td>\n",
       "      <td>never</td>\n",
       "      <td>4~8</td>\n",
       "      <td>1~3</td>\n",
       "      <td>1~3</td>\n",
       "      <td>1</td>\n",
       "      <td>1</td>\n",
       "      <td>1</td>\n",
       "      <td>0</td>\n",
       "      <td>1</td>\n",
       "      <td>1</td>\n",
       "    </tr>\n",
       "    <tr>\n",
       "      <th>4409</th>\n",
       "      <td>Work</td>\n",
       "      <td>Alone</td>\n",
       "      <td>Sunny</td>\n",
       "      <td>80</td>\n",
       "      <td>7AM</td>\n",
       "      <td>Carry out &amp; Take away</td>\n",
       "      <td>1d</td>\n",
       "      <td>Female</td>\n",
       "      <td>21</td>\n",
       "      <td>Single</td>\n",
       "      <td>...</td>\n",
       "      <td>never</td>\n",
       "      <td>less1</td>\n",
       "      <td>1~3</td>\n",
       "      <td>never</td>\n",
       "      <td>1</td>\n",
       "      <td>1</td>\n",
       "      <td>1</td>\n",
       "      <td>0</td>\n",
       "      <td>1</td>\n",
       "      <td>0</td>\n",
       "    </tr>\n",
       "    <tr>\n",
       "      <th>...</th>\n",
       "      <td>...</td>\n",
       "      <td>...</td>\n",
       "      <td>...</td>\n",
       "      <td>...</td>\n",
       "      <td>...</td>\n",
       "      <td>...</td>\n",
       "      <td>...</td>\n",
       "      <td>...</td>\n",
       "      <td>...</td>\n",
       "      <td>...</td>\n",
       "      <td>...</td>\n",
       "      <td>...</td>\n",
       "      <td>...</td>\n",
       "      <td>...</td>\n",
       "      <td>...</td>\n",
       "      <td>...</td>\n",
       "      <td>...</td>\n",
       "      <td>...</td>\n",
       "      <td>...</td>\n",
       "      <td>...</td>\n",
       "      <td>...</td>\n",
       "    </tr>\n",
       "    <tr>\n",
       "      <th>8511</th>\n",
       "      <td>Home</td>\n",
       "      <td>Alone</td>\n",
       "      <td>Sunny</td>\n",
       "      <td>80</td>\n",
       "      <td>6PM</td>\n",
       "      <td>Bar</td>\n",
       "      <td>2h</td>\n",
       "      <td>Male</td>\n",
       "      <td>46</td>\n",
       "      <td>Married partner</td>\n",
       "      <td>...</td>\n",
       "      <td>1~3</td>\n",
       "      <td>1~3</td>\n",
       "      <td>less1</td>\n",
       "      <td>1~3</td>\n",
       "      <td>1</td>\n",
       "      <td>0</td>\n",
       "      <td>0</td>\n",
       "      <td>1</td>\n",
       "      <td>0</td>\n",
       "      <td>1</td>\n",
       "    </tr>\n",
       "    <tr>\n",
       "      <th>8512</th>\n",
       "      <td>Home</td>\n",
       "      <td>Partner</td>\n",
       "      <td>Sunny</td>\n",
       "      <td>30</td>\n",
       "      <td>10PM</td>\n",
       "      <td>Carry out &amp; Take away</td>\n",
       "      <td>2h</td>\n",
       "      <td>Male</td>\n",
       "      <td>46</td>\n",
       "      <td>Married partner</td>\n",
       "      <td>...</td>\n",
       "      <td>1~3</td>\n",
       "      <td>1~3</td>\n",
       "      <td>less1</td>\n",
       "      <td>1~3</td>\n",
       "      <td>1</td>\n",
       "      <td>1</td>\n",
       "      <td>0</td>\n",
       "      <td>0</td>\n",
       "      <td>1</td>\n",
       "      <td>1</td>\n",
       "    </tr>\n",
       "    <tr>\n",
       "      <th>8513</th>\n",
       "      <td>Work</td>\n",
       "      <td>Alone</td>\n",
       "      <td>Rainy</td>\n",
       "      <td>55</td>\n",
       "      <td>7AM</td>\n",
       "      <td>Restaurant(&lt;20)</td>\n",
       "      <td>2h</td>\n",
       "      <td>Male</td>\n",
       "      <td>46</td>\n",
       "      <td>Married partner</td>\n",
       "      <td>...</td>\n",
       "      <td>1~3</td>\n",
       "      <td>1~3</td>\n",
       "      <td>less1</td>\n",
       "      <td>1~3</td>\n",
       "      <td>1</td>\n",
       "      <td>1</td>\n",
       "      <td>1</td>\n",
       "      <td>0</td>\n",
       "      <td>1</td>\n",
       "      <td>0</td>\n",
       "    </tr>\n",
       "    <tr>\n",
       "      <th>8515</th>\n",
       "      <td>Work</td>\n",
       "      <td>Alone</td>\n",
       "      <td>Snowy</td>\n",
       "      <td>30</td>\n",
       "      <td>7AM</td>\n",
       "      <td>Restaurant(20-50)</td>\n",
       "      <td>1d</td>\n",
       "      <td>Male</td>\n",
       "      <td>46</td>\n",
       "      <td>Married partner</td>\n",
       "      <td>...</td>\n",
       "      <td>1~3</td>\n",
       "      <td>1~3</td>\n",
       "      <td>less1</td>\n",
       "      <td>1~3</td>\n",
       "      <td>1</td>\n",
       "      <td>1</td>\n",
       "      <td>1</td>\n",
       "      <td>0</td>\n",
       "      <td>1</td>\n",
       "      <td>0</td>\n",
       "    </tr>\n",
       "    <tr>\n",
       "      <th>8516</th>\n",
       "      <td>Work</td>\n",
       "      <td>Alone</td>\n",
       "      <td>Sunny</td>\n",
       "      <td>80</td>\n",
       "      <td>7AM</td>\n",
       "      <td>Restaurant(&lt;20)</td>\n",
       "      <td>1d</td>\n",
       "      <td>Male</td>\n",
       "      <td>46</td>\n",
       "      <td>Married partner</td>\n",
       "      <td>...</td>\n",
       "      <td>1~3</td>\n",
       "      <td>1~3</td>\n",
       "      <td>less1</td>\n",
       "      <td>1~3</td>\n",
       "      <td>1</td>\n",
       "      <td>0</td>\n",
       "      <td>0</td>\n",
       "      <td>1</td>\n",
       "      <td>0</td>\n",
       "      <td>1</td>\n",
       "    </tr>\n",
       "  </tbody>\n",
       "</table>\n",
       "<p>74 rows × 25 columns</p>\n",
       "</div>"
      ],
      "text/plain": [
       "     destination passenger weather  temperature  time                 coupon  \\\n",
       "4192        Work     Alone   Sunny           80   7AM  Carry out & Take away   \n",
       "4236        Work     Alone   Sunny           80   7AM  Carry out & Take away   \n",
       "4280        Work     Alone   Sunny           80   7AM  Carry out & Take away   \n",
       "4324        Work     Alone   Sunny           80   7AM  Carry out & Take away   \n",
       "4409        Work     Alone   Sunny           80   7AM  Carry out & Take away   \n",
       "...          ...       ...     ...          ...   ...                    ...   \n",
       "8511        Home     Alone   Sunny           80   6PM                    Bar   \n",
       "8512        Home   Partner   Sunny           30  10PM  Carry out & Take away   \n",
       "8513        Work     Alone   Rainy           55   7AM        Restaurant(<20)   \n",
       "8515        Work     Alone   Snowy           30   7AM      Restaurant(20-50)   \n",
       "8516        Work     Alone   Sunny           80   7AM        Restaurant(<20)   \n",
       "\n",
       "     expiration  gender age   marital_status  ...  coffee_house carry_away  \\\n",
       "4192         1d    Male  26           Single  ...         never        1~3   \n",
       "4236         1d    Male  26           Single  ...           gt8        gt8   \n",
       "4280         1d  Female  26           Single  ...         never        4~8   \n",
       "4324         1d  Female  46           Single  ...         never        4~8   \n",
       "4409         1d  Female  21           Single  ...         never      less1   \n",
       "...         ...     ...  ..              ...  ...           ...        ...   \n",
       "8511         2h    Male  46  Married partner  ...           1~3        1~3   \n",
       "8512         2h    Male  46  Married partner  ...           1~3        1~3   \n",
       "8513         2h    Male  46  Married partner  ...           1~3        1~3   \n",
       "8515         1d    Male  46  Married partner  ...           1~3        1~3   \n",
       "8516         1d    Male  46  Married partner  ...           1~3        1~3   \n",
       "\n",
       "     restaurant_20 restaurant_50 to_coupon_5min to_coupon_15min  \\\n",
       "4192         less1         less1              1               1   \n",
       "4236           4~8         less1              1               1   \n",
       "4280           1~3         less1              1               1   \n",
       "4324           1~3           1~3              1               1   \n",
       "4409           1~3         never              1               1   \n",
       "...            ...           ...            ...             ...   \n",
       "8511         less1           1~3              1               0   \n",
       "8512         less1           1~3              1               1   \n",
       "8513         less1           1~3              1               1   \n",
       "8515         less1           1~3              1               1   \n",
       "8516         less1           1~3              1               0   \n",
       "\n",
       "     to_coupon_25min direction_same direction_opp  Y  \n",
       "4192               1              0             1  1  \n",
       "4236               1              0             1  1  \n",
       "4280               1              0             1  1  \n",
       "4324               1              0             1  1  \n",
       "4409               1              0             1  0  \n",
       "...              ...            ...           ... ..  \n",
       "8511               0              1             0  1  \n",
       "8512               0              0             1  1  \n",
       "8513               1              0             1  0  \n",
       "8515               1              0             1  0  \n",
       "8516               0              1             0  1  \n",
       "\n",
       "[74 rows x 25 columns]"
      ]
     },
     "execution_count": 21,
     "metadata": {},
     "output_type": "execute_result"
    }
   ],
   "source": [
    "dups"
   ]
  },
  {
   "cell_type": "markdown",
   "metadata": {},
   "source": [
    "This data is anonymized, as best I can tell there is no unique ID for each row, so it seems entirely possible we could have matching rows that are not \"duplicate\" in the sense of the same person. We could simply be seeing similar bucketed conditions. The count of duplicate rows is also small, 74 out of 12684 rows, or ~0.6%. For now I'll leave these rows in the dataset as I'm not confident they're duplicates that should be removed and the count isn't large enough to have a big impact on our result."
   ]
  },
  {
   "cell_type": "markdown",
   "metadata": {},
   "source": [
    "**Age column**\n",
    "\n",
    "The age column is a string type (or object) and we'll want to do some numeric comparisions later. Looking at the value_counts, the column is age buckets, not exact age of the individual. Based on the values, the number is the lower bound of the age bin. Rename these and update the type. Technically these are all \"drivers\", so we could assume the lower bound of the data is \"legal driving age\", but I don't want to assume a driving age so we'll set the \"below 21\" age to zero as the lower bound."
   ]
  },
  {
   "cell_type": "code",
   "execution_count": 22,
   "metadata": {},
   "outputs": [
    {
     "data": {
      "text/plain": [
       "age\n",
       "21         2653\n",
       "26         2559\n",
       "31         2039\n",
       "50plus     1788\n",
       "36         1319\n",
       "41         1093\n",
       "46          686\n",
       "below21     547\n",
       "Name: count, dtype: int64"
      ]
     },
     "execution_count": 22,
     "metadata": {},
     "output_type": "execute_result"
    }
   ],
   "source": [
    "df['age'].value_counts()"
   ]
  },
  {
   "cell_type": "code",
   "execution_count": 23,
   "metadata": {},
   "outputs": [],
   "source": [
    "df['age'].replace(\n",
    "    to_replace={'below21': 0,\n",
    "                '21': 21,\n",
    "                '26': 26,\n",
    "                '31': 31,\n",
    "                '36': 36,\n",
    "                '41': 41,\n",
    "                '46': 46,\n",
    "                '50plus': 50,\n",
    "               },\n",
    "    inplace=True)"
   ]
  },
  {
   "cell_type": "code",
   "execution_count": 24,
   "metadata": {},
   "outputs": [
    {
     "data": {
      "text/plain": [
       "age\n",
       "21    2653\n",
       "26    2559\n",
       "31    2039\n",
       "50    1788\n",
       "36    1319\n",
       "41    1093\n",
       "46     686\n",
       "0      547\n",
       "Name: count, dtype: int64"
      ]
     },
     "execution_count": 24,
     "metadata": {},
     "output_type": "execute_result"
    }
   ],
   "source": [
    "# Verify the counts match after the replacement\n",
    "df['age'].value_counts()"
   ]
  },
  {
   "cell_type": "markdown",
   "metadata": {},
   "source": [
    "#### 4. What proportion of the total observations chose to accept the coupon? \n",
    "\n"
   ]
  },
  {
   "cell_type": "code",
   "execution_count": 25,
   "metadata": {},
   "outputs": [
    {
     "data": {
      "text/plain": [
       "Y\n",
       "1    7210\n",
       "0    5474\n",
       "Name: count, dtype: int64"
      ]
     },
     "execution_count": 25,
     "metadata": {},
     "output_type": "execute_result"
    }
   ],
   "source": [
    "df['Y'].value_counts()"
   ]
  },
  {
   "cell_type": "code",
   "execution_count": 26,
   "metadata": {},
   "outputs": [],
   "source": [
    "# Utility function to return the proportion of those who accept a coupon\n",
    "def acceptance_rate(df):\n",
    "    \"\"\"Given a dataframe, return the rate of acceptance for the coupon\"\"\"\n",
    "    return (df[ df['Y'] == 1].shape[0] / df.shape[0]) * 100"
   ]
  },
  {
   "cell_type": "code",
   "execution_count": 27,
   "metadata": {},
   "outputs": [
    {
     "name": "stdout",
     "output_type": "stream",
     "text": [
      "56.84% of individuals accepted the coupon\n"
     ]
    }
   ],
   "source": [
    "prop_said_yes = acceptance_rate(df)\n",
    "print(f'{round(prop_said_yes, 2)}% of individuals accepted the coupon')"
   ]
  },
  {
   "cell_type": "markdown",
   "metadata": {},
   "source": [
    "#### 5. Use a bar plot to visualize the `coupon` column."
   ]
  },
  {
   "cell_type": "code",
   "execution_count": 28,
   "metadata": {},
   "outputs": [
    {
     "name": "stderr",
     "output_type": "stream",
     "text": [
      "/opt/anaconda3/lib/python3.11/site-packages/seaborn/_oldcore.py:1119: FutureWarning: use_inf_as_na option is deprecated and will be removed in a future version. Convert inf values to NaN before operating instead.\n",
      "  with pd.option_context('mode.use_inf_as_na', True):\n"
     ]
    },
    {
     "data": {
      "text/plain": [
       "Text(0.5, 1.0, 'Distribution of Coupon types')"
      ]
     },
     "execution_count": 28,
     "metadata": {},
     "output_type": "execute_result"
    },
    {
     "data": {
      "image/png": "[encoded data removed]",
      "text/plain": [
       "<Figure size 640x480 with 1 Axes>"
      ]
     },
     "metadata": {},
     "output_type": "display_data"
    }
   ],
   "source": [
    "sns.histplot(df, x='coupon')\n",
    "plt.xticks(rotation=45)\n",
    "plt.title('Distribution of Coupon types')"
   ]
  },
  {
   "cell_type": "markdown",
   "metadata": {},
   "source": [
    "Most of the coupons are for a coffee house. Looking at the plot above, the majority of the coupons are for lower cost items like coffee, take away or < $20 restaurants."
   ]
  },
  {
   "cell_type": "markdown",
   "metadata": {},
   "source": [
    "#### 6. Use a histogram to visualize the temperature column."
   ]
  },
  {
   "cell_type": "code",
   "execution_count": 29,
   "metadata": {},
   "outputs": [
    {
     "name": "stderr",
     "output_type": "stream",
     "text": [
      "/opt/anaconda3/lib/python3.11/site-packages/seaborn/_oldcore.py:1119: FutureWarning: use_inf_as_na option is deprecated and will be removed in a future version. Convert inf values to NaN before operating instead.\n",
      "  with pd.option_context('mode.use_inf_as_na', True):\n"
     ]
    },
    {
     "data": {
      "text/plain": [
       "Text(0.5, 1.0, 'Temperature at time of coupon delivery')"
      ]
     },
     "execution_count": 29,
     "metadata": {},
     "output_type": "execute_result"
    },
    {
     "data": {
      "image/png": "[encoded data removed]",
      "text/plain": [
       "<Figure size 640x480 with 1 Axes>"
      ]
     },
     "metadata": {},
     "output_type": "display_data"
    }
   ],
   "source": [
    "sns.histplot(df, x='temperature')\n",
    "plt.title('Temperature at time of coupon delivery')"
   ]
  },
  {
   "cell_type": "markdown",
   "metadata": {
    "jp-MarkdownHeadingCollapsed": true
   },
   "source": [
    "**Temperature**\n",
    "\n",
    "Temperature is a numeric column, but there are only 3 temperature values, so despite this being a numeric column type, it's actually a categorical variable."
   ]
  },
  {
   "cell_type": "markdown",
   "metadata": {},
   "source": [
    "### Investigating the Bar Coupons\n",
    "\n",
    "Now, we will lead you through an exploration of just the bar related coupons.  "
   ]
  },
  {
   "cell_type": "markdown",
   "metadata": {},
   "source": [
    "#### 1. Create a new `DataFrame` that contains just the bar coupons."
   ]
  },
  {
   "cell_type": "code",
   "execution_count": 30,
   "metadata": {},
   "outputs": [
    {
     "name": "stdout",
     "output_type": "stream",
     "text": [
      "<class 'pandas.core.frame.DataFrame'>\n",
      "Index: 2017 entries, 9 to 12682\n",
      "Data columns (total 25 columns):\n",
      " #   Column           Non-Null Count  Dtype \n",
      "---  ------           --------------  ----- \n",
      " 0   destination      2017 non-null   object\n",
      " 1   passenger        2017 non-null   object\n",
      " 2   weather          2017 non-null   object\n",
      " 3   temperature      2017 non-null   int64 \n",
      " 4   time             2017 non-null   object\n",
      " 5   coupon           2017 non-null   object\n",
      " 6   expiration       2017 non-null   object\n",
      " 7   gender           2017 non-null   object\n",
      " 8   age              2017 non-null   int64 \n",
      " 9   marital_status   2017 non-null   object\n",
      " 10  has_children     2017 non-null   int64 \n",
      " 11  education        2017 non-null   object\n",
      " 12  occupation       2017 non-null   object\n",
      " 13  income           2017 non-null   object\n",
      " 14  bar              2017 non-null   object\n",
      " 15  coffee_house     2017 non-null   object\n",
      " 16  carry_away       2017 non-null   object\n",
      " 17  restaurant_20    2017 non-null   object\n",
      " 18  restaurant_50    2017 non-null   object\n",
      " 19  to_coupon_5min   2017 non-null   int64 \n",
      " 20  to_coupon_15min  2017 non-null   int64 \n",
      " 21  to_coupon_25min  2017 non-null   int64 \n",
      " 22  direction_same   2017 non-null   int64 \n",
      " 23  direction_opp    2017 non-null   int64 \n",
      " 24  Y                2017 non-null   int64 \n",
      "dtypes: int64(9), object(16)\n",
      "memory usage: 409.7+ KB\n"
     ]
    }
   ],
   "source": [
    "df_bar = df.query('coupon == \"Bar\"')\n",
    "df_bar.info()"
   ]
  },
  {
   "cell_type": "markdown",
   "metadata": {},
   "source": [
    "#### 2. What proportion of bar coupons were accepted?\n"
   ]
  },
  {
   "cell_type": "code",
   "execution_count": 31,
   "metadata": {},
   "outputs": [
    {
     "name": "stdout",
     "output_type": "stream",
     "text": [
      "41.0% of bar coupons were accepted\n"
     ]
    }
   ],
   "source": [
    "prop_bar_yes = acceptance_rate(df_bar)\n",
    "print(f'{round(prop_bar_yes, 2)}% of bar coupons were accepted')"
   ]
  },
  {
   "cell_type": "markdown",
   "metadata": {},
   "source": [
    "#### 3. Compare the acceptance rate between those who went to a bar 3 or fewer times a month to those who went more."
   ]
  },
  {
   "cell_type": "code",
   "execution_count": 32,
   "metadata": {},
   "outputs": [
    {
     "name": "stdout",
     "output_type": "stream",
     "text": [
      "37.07% of individuals that frequent bars 3 or fewer times per month accepted the coupon\n"
     ]
    }
   ],
   "source": [
    "# Went to bar 3 or fewer times per month\n",
    "df_bar_3x_or_less = df_bar.query('bar in (\"no_answer\", \"never\", \"less1\", \"1~3\")')\n",
    "df_bar_3x_or_less_rate = acceptance_rate(df_bar_3x_or_less)\n",
    "print(f'{round(df_bar_3x_or_less_rate, 2)}% of individuals that frequent bars 3 or fewer times per month accepted the coupon')"
   ]
  },
  {
   "cell_type": "code",
   "execution_count": 33,
   "metadata": {},
   "outputs": [
    {
     "name": "stdout",
     "output_type": "stream",
     "text": [
      "76.88% of individuals that frequent bars more than 3 times per month accepted the coupon\n"
     ]
    }
   ],
   "source": [
    "# Went to the bar 4 or more times in a month, basically weekly.\n",
    "df_bar_more_frequent = df_bar.query('bar not in (\"no_answer\", \"never\", \"less1\", \"1~3\")')\n",
    "df_bar_more_frequent_rate = acceptance_rate(df_bar_more_frequent)\n",
    "print(f'{round(df_bar_more_frequent_rate, 2)}% of individuals that frequent bars more than 3 times per month accepted the coupon')"
   ]
  },
  {
   "cell_type": "markdown",
   "metadata": {},
   "source": [
    "**Acceptance Rate based on frequency of bar visits per month:**\n",
    "\n",
    "The acceptance rate of a bar coupon for those who frequent a bar 4 or more times per months is significantly higher at 76.88% when compared to individuals who go to a bar 3 or fewer times per month, of 37.07%."
   ]
  },
  {
   "cell_type": "markdown",
   "metadata": {},
   "source": [
    "#### 4. Compare the acceptance rate between drivers who go to a bar more than once a month and are over the age of 25 to the all others.  Is there a difference?\n"
   ]
  },
  {
   "cell_type": "code",
   "execution_count": 35,
   "metadata": {},
   "outputs": [
    {
     "name": "stdout",
     "output_type": "stream",
     "text": [
      "69.52% of individuals that frequent bars more than once per month and are over the age of 25, accepted the coupon\n"
     ]
    }
   ],
   "source": [
    "df_bar_1x_25plus = df_bar.query('bar in [\"1~3\", \"4~8\", \"gt8\"] and age > 25')\n",
    "df_bar_1x_25plus_rate = acceptance_rate(df_bar_1x_25plus)\n",
    "print(f'{round(df_bar_1x_25plus_rate, 2)}% of individuals that frequent bars more than once per month and are over the age of 25, accepted the coupon')"
   ]
  },
  {
   "cell_type": "code",
   "execution_count": 43,
   "metadata": {},
   "outputs": [
    {
     "data": {
      "text/html": [
       "<div>\n",
       "<style scoped>\n",
       "    .dataframe tbody tr th:only-of-type {\n",
       "        vertical-align: middle;\n",
       "    }\n",
       "\n",
       "    .dataframe tbody tr th {\n",
       "        vertical-align: top;\n",
       "    }\n",
       "\n",
       "    .dataframe thead th {\n",
       "        text-align: right;\n",
       "    }\n",
       "</style>\n",
       "<table border=\"1\" class=\"dataframe\">\n",
       "  <thead>\n",
       "    <tr style=\"text-align: right;\">\n",
       "      <th></th>\n",
       "      <th>age</th>\n",
       "      <th>bar</th>\n",
       "      <th>Y</th>\n",
       "    </tr>\n",
       "  </thead>\n",
       "  <tbody>\n",
       "    <tr>\n",
       "      <th>4096</th>\n",
       "      <td>21</td>\n",
       "      <td>1~3</td>\n",
       "      <td>1</td>\n",
       "    </tr>\n",
       "    <tr>\n",
       "      <th>12288</th>\n",
       "      <td>50</td>\n",
       "      <td>never</td>\n",
       "      <td>0</td>\n",
       "    </tr>\n",
       "    <tr>\n",
       "      <th>9</th>\n",
       "      <td>21</td>\n",
       "      <td>never</td>\n",
       "      <td>0</td>\n",
       "    </tr>\n",
       "    <tr>\n",
       "      <th>4108</th>\n",
       "      <td>31</td>\n",
       "      <td>never</td>\n",
       "      <td>0</td>\n",
       "    </tr>\n",
       "    <tr>\n",
       "      <th>13</th>\n",
       "      <td>21</td>\n",
       "      <td>never</td>\n",
       "      <td>1</td>\n",
       "    </tr>\n",
       "    <tr>\n",
       "      <th>...</th>\n",
       "      <td>...</td>\n",
       "      <td>...</td>\n",
       "      <td>...</td>\n",
       "    </tr>\n",
       "    <tr>\n",
       "      <th>8163</th>\n",
       "      <td>46</td>\n",
       "      <td>never</td>\n",
       "      <td>0</td>\n",
       "    </tr>\n",
       "    <tr>\n",
       "      <th>4071</th>\n",
       "      <td>36</td>\n",
       "      <td>never</td>\n",
       "      <td>0</td>\n",
       "    </tr>\n",
       "    <tr>\n",
       "      <th>4086</th>\n",
       "      <td>21</td>\n",
       "      <td>1~3</td>\n",
       "      <td>1</td>\n",
       "    </tr>\n",
       "    <tr>\n",
       "      <th>12284</th>\n",
       "      <td>50</td>\n",
       "      <td>never</td>\n",
       "      <td>0</td>\n",
       "    </tr>\n",
       "    <tr>\n",
       "      <th>12285</th>\n",
       "      <td>50</td>\n",
       "      <td>never</td>\n",
       "      <td>0</td>\n",
       "    </tr>\n",
       "  </tbody>\n",
       "</table>\n",
       "<p>1597 rows × 3 columns</p>\n",
       "</div>"
      ],
      "text/plain": [
       "       age    bar  Y\n",
       "4096    21    1~3  1\n",
       "12288   50  never  0\n",
       "9       21  never  0\n",
       "4108    31  never  0\n",
       "13      21  never  1\n",
       "...    ...    ... ..\n",
       "8163    46  never  0\n",
       "4071    36  never  0\n",
       "4086    21    1~3  1\n",
       "12284   50  never  0\n",
       "12285   50  never  0\n",
       "\n",
       "[1597 rows x 3 columns]"
      ]
     },
     "execution_count": 43,
     "metadata": {},
     "output_type": "execute_result"
    }
   ],
   "source": [
    "# Use Pandas Index set operations to get the \"all others\" group\n",
    "index_all_others = pd.Index(set(df_bar.index) - set(df_bar_1x_25plus.index))\n",
    "# Quick review of the dataframe\n",
    "df_bar.loc[index_all_others][['age', 'bar', 'Y']]"
   ]
  },
  {
   "cell_type": "code",
   "execution_count": 37,
   "metadata": {},
   "outputs": [
    {
     "name": "stdout",
     "output_type": "stream",
     "text": [
      "33.5% of the other individuals\n"
     ]
    }
   ],
   "source": [
    "df_bar_less1_rate = acceptance_rate(df_bar.loc[index_all_others])\n",
    "print(f'{round(df_bar_less1_rate, 2)}% of the other individuals')"
   ]
  },
  {
   "cell_type": "markdown",
   "metadata": {},
   "source": [
    "**Acceptance Rate of drivers over 25 who frequent bars monthly:**\n",
    "\n",
    "The acceptance rate of a bar coupon for those who frequent a bar more than once per month is significantly higher at 69.52% when compared to other individuals of 33.5%."
   ]
  },
  {
   "cell_type": "markdown",
   "metadata": {},
   "source": [
    "#### 5. Use the same process to compare the acceptance rate between drivers who go to bars more than once a month and had passengers that were not a kid and had occupations other than farming, fishing, or forestry. \n"
   ]
  },
  {
   "cell_type": "markdown",
   "metadata": {},
   "source": [
    "First take a look at the different values we have for the passenger and occupation columns so we can set up our queries."
   ]
  },
  {
   "cell_type": "code",
   "execution_count": 38,
   "metadata": {},
   "outputs": [
    {
     "data": {
      "text/plain": [
       "passenger\n",
       "Alone        1200\n",
       "Friend(s)     337\n",
       "Partner       274\n",
       "Kid(s)        206\n",
       "Name: count, dtype: int64"
      ]
     },
     "execution_count": 38,
     "metadata": {},
     "output_type": "execute_result"
    }
   ],
   "source": [
    "df_bar['passenger'].value_counts()"
   ]
  },
  {
   "cell_type": "code",
   "execution_count": 39,
   "metadata": {},
   "outputs": [
    {
     "data": {
      "text/plain": [
       "occupation\n",
       "Unemployed                                   301\n",
       "Student                                      251\n",
       "Computer & Mathematical                      232\n",
       "Sales & Related                              178\n",
       "Education&Training&Library                   140\n",
       "Management                                   119\n",
       "Office & Administrative Support              105\n",
       "Arts Design Entertainment Sports & Media     100\n",
       "Business & Financial                          89\n",
       "Retired                                       75\n",
       "Food Preparation & Serving Related            48\n",
       "Community & Social Services                   44\n",
       "Healthcare Support                            44\n",
       "Healthcare Practitioners & Technical          41\n",
       "Transportation & Material Moving              35\n",
       "Legal                                         34\n",
       "Architecture & Engineering                    27\n",
       "Personal Care & Service                       27\n",
       "Protective Service                            27\n",
       "Construction & Extraction                     24\n",
       "Life Physical Social Science                  24\n",
       "Installation Maintenance & Repair             18\n",
       "Production Occupations                        18\n",
       "Farming Fishing & Forestry                     9\n",
       "Building & Grounds Cleaning & Maintenance      7\n",
       "Name: count, dtype: int64"
      ]
     },
     "execution_count": 39,
     "metadata": {},
     "output_type": "execute_result"
    }
   ],
   "source": [
    "df_bar['occupation'].value_counts()"
   ]
  },
  {
   "cell_type": "code",
   "execution_count": 40,
   "metadata": {},
   "outputs": [
    {
     "name": "stdout",
     "output_type": "stream",
     "text": [
      "71.79% of bar coupons were accepted\n"
     ]
    }
   ],
   "source": [
    "# Individuals that go to the bar more than once per month, had non-child passengers and are not in farming or forestry, etc\n",
    "df_bar_1x_with_adult = df_bar.query('bar in [\"1~3\", \"4~8\", \"gt8\"] and passenger in [\"Friend(s)\", \"Partner\"] and occupation != \"Farming Fishing & Forestry\"')\n",
    "df_bar_1x_with_adult_rate = acceptance_rate(df_bar_1x_with_adult)\n",
    "print(f'{round(df_bar_1x_with_adult_rate, 2)}% of bar coupons were accepted')"
   ]
  },
  {
   "cell_type": "code",
   "execution_count": 41,
   "metadata": {},
   "outputs": [
    {
     "name": "stdout",
     "output_type": "stream",
     "text": [
      "37.71% of bar coupons were accepted\n"
     ]
    }
   ],
   "source": [
    "# And the other population?\n",
    "index_all_others = pd.Index(set(df_bar.index) - set(df_bar_1x_with_adult.index))\n",
    "df_bar_all_others_rate = acceptance_rate(df_bar.loc[index_all_others])\n",
    "print(f'{round(df_bar_all_others_rate, 2)}% of bar coupons were accepted')"
   ]
  },
  {
   "cell_type": "markdown",
   "metadata": {},
   "source": [
    "**Acceptance Rate:**\n",
    "\n",
    "The acceptance rate of a bar coupon for those who frequent a bar more than once per month, had non-child passengers and are not in farming or forestry had a higher acceptance rate of 71.79% that the other drivers at 37.71%."
   ]
  },
  {
   "cell_type": "markdown",
   "metadata": {},
   "source": [
    "#### 6. Compare the acceptance rates between those drivers who:\n",
    "\n",
    "- go to bars more than once a month, had passengers that were not a kid, and were not widowed *OR*\n",
    "- go to bars more than once a month and are under the age of 30 *OR*\n",
    "- go to cheap restaurants more than 4 times a month and income is less than 50K. \n",
    "\n"
   ]
  },
  {
   "cell_type": "code",
   "execution_count": 44,
   "metadata": {},
   "outputs": [
    {
     "data": {
      "text/plain": [
       "marital_status\n",
       "Married partner      882\n",
       "Single               661\n",
       "Unmarried partner    378\n",
       "Divorced              75\n",
       "Widowed               21\n",
       "Name: count, dtype: int64"
      ]
     },
     "execution_count": 44,
     "metadata": {},
     "output_type": "execute_result"
    }
   ],
   "source": [
    "df_bar['marital_status'].value_counts()"
   ]
  },
  {
   "cell_type": "markdown",
   "metadata": {},
   "source": [
    "##### Acceptance rate for drivers who go to bars more than once a month, had passengers that were not a kid, and were not widowed:"
   ]
  },
  {
   "cell_type": "code",
   "execution_count": 45,
   "metadata": {},
   "outputs": [
    {
     "name": "stdout",
     "output_type": "stream",
     "text": [
      "71.79% of these individuals accepted the coupon\n"
     ]
    }
   ],
   "source": [
    "df_bar_1x_with_adult_not_widowed = df_bar.query('bar in [\"1~3\", \"4~8\", \"gt8\"] and passenger in [\"Friend(s)\", \"Partner\"] and marital_status != \"Widowed\"')\n",
    "df_bar_1x_with_adult_not_widowed_rate = acceptance_rate(df_bar_1x_with_adult_not_widowed)\n",
    "print(f'{round(df_bar_1x_with_adult_not_widowed_rate, 2)}% of these individuals accepted the coupon')"
   ]
  },
  {
   "cell_type": "markdown",
   "metadata": {},
   "source": [
    "##### Acceptance rate for drivers who go to bars more than once a month and are under the age of 30:"
   ]
  },
  {
   "cell_type": "code",
   "execution_count": 46,
   "metadata": {},
   "outputs": [
    {
     "name": "stdout",
     "output_type": "stream",
     "text": [
      "72.17% of these individuals accepted the coupon\n"
     ]
    }
   ],
   "source": [
    "df_bar_1x_under30 = df_bar.query('bar in [\"1~3\", \"4~8\", \"gt8\"] and age < 30')\n",
    "df_bar_1x_under30_rate = acceptance_rate(df_bar_1x_under30)\n",
    "print(f'{round(df_bar_1x_under30_rate, 2)}% of these individuals accepted the coupon')"
   ]
  },
  {
   "cell_type": "markdown",
   "metadata": {},
   "source": [
    "##### Acceptance rate for drivers who go to cheap restaurants more than 4 times a month and income is less than 50K:"
   ]
  },
  {
   "cell_type": "code",
   "execution_count": 47,
   "metadata": {},
   "outputs": [
    {
     "data": {
      "text/plain": [
       "restaurant_20\n",
       "1~3          878\n",
       "4~8          568\n",
       "less1        325\n",
       "gt8          186\n",
       "never         37\n",
       "no_answer     23\n",
       "Name: count, dtype: int64"
      ]
     },
     "execution_count": 47,
     "metadata": {},
     "output_type": "execute_result"
    }
   ],
   "source": [
    "df_bar['restaurant_20'].value_counts()"
   ]
  },
  {
   "cell_type": "code",
   "execution_count": 48,
   "metadata": {},
   "outputs": [
    {
     "data": {
      "text/plain": [
       "income\n",
       "$25000 - $37499     318\n",
       "$100000 or More     291\n",
       "$12500 - $24999     288\n",
       "$37500 - $49999     267\n",
       "$50000 - $62499     262\n",
       "Less than $12500    165\n",
       "$75000 - $87499     151\n",
       "$87500 - $99999     145\n",
       "$62500 - $74999     130\n",
       "Name: count, dtype: int64"
      ]
     },
     "execution_count": 48,
     "metadata": {},
     "output_type": "execute_result"
    }
   ],
   "source": [
    "df_bar['income'].value_counts()"
   ]
  },
  {
   "cell_type": "code",
   "execution_count": 49,
   "metadata": {},
   "outputs": [
    {
     "name": "stdout",
     "output_type": "stream",
     "text": [
      "45.35% of these individuals accepted the coupon\n"
     ]
    }
   ],
   "source": [
    "df_bar_cheap = df_bar.query('restaurant_20 in [\"4~8\", \"gt8\"] and income in [\"Less than $12500\", \"$12500 - $24999\", \"$25000 - $37499\", \"$37500 - $49999\"]')\n",
    "df_bar_cheap_rate = acceptance_rate(df_bar_cheap)\n",
    "print(f'{round(df_bar_cheap_rate, 2)}% of these individuals accepted the coupon')"
   ]
  },
  {
   "cell_type": "markdown",
   "metadata": {},
   "source": [
    "#### 7.  Based on these observations, what do you hypothesize about drivers who accepted the bar coupons?"
   ]
  },
  {
   "cell_type": "markdown",
   "metadata": {},
   "source": [
    "Drivers who frequent bars one or more times per month are more likely to accept a coupon for a bar. From the data we looked at, the frequency of bar visits is the primary determining factor to whether the driver accepts a bar coupon or not. We can see this in the plots below with the majority of drivers frequenting bars 1 or more times per month accepting the coupons. In the second plot we can see that income is not a factor, there is no income bracket where the majority of drivers accepted the bar coupon."
   ]
  },
  {
   "cell_type": "code",
   "execution_count": 54,
   "metadata": {},
   "outputs": [
    {
     "name": "stderr",
     "output_type": "stream",
     "text": [
      "/var/folders/n5/n6rb97jj00v5yg5zqw69hd4c0000gn/T/ipykernel_89052/3027603918.py:3: SettingWithCopyWarning: \n",
      "A value is trying to be set on a copy of a slice from a DataFrame.\n",
      "Try using .loc[row_indexer,col_indexer] = value instead\n",
      "\n",
      "See the caveats in the documentation: https://pandas.pydata.org/pandas-docs/stable/user_guide/indexing.html#returning-a-view-versus-a-copy\n",
      "  df_bar['bar'] = pd.Categorical(df_bar['bar'], ['no_answer', 'never', 'less1', '1~3', '4~8', 'gt8'], ordered=True, copy=False)\n",
      "/opt/anaconda3/lib/python3.11/site-packages/seaborn/_oldcore.py:1119: FutureWarning: use_inf_as_na option is deprecated and will be removed in a future version. Convert inf values to NaN before operating instead.\n",
      "  with pd.option_context('mode.use_inf_as_na', True):\n"
     ]
    },
    {
     "data": {
      "text/plain": [
       "Text(0.5, 1.0, 'Acceptance of Bar Coupon by Monthly Bar Visits')"
      ]
     },
     "execution_count": 54,
     "metadata": {},
     "output_type": "execute_result"
    },
    {
     "data": {
      "image/png": "[encoded data removed]",
      "text/plain": [
       "<Figure size 640x480 with 1 Axes>"
      ]
     },
     "metadata": {},
     "output_type": "display_data"
    }
   ],
   "source": [
    "# It looks like the accept rate would split on less than 1 per month?\n",
    "# Ordering the bar answers so we can more easily spot any trend\n",
    "df_bar['bar'] = pd.Categorical(df_bar['bar'], ['no_answer', 'never', 'less1', '1~3', '4~8', 'gt8'], ordered=True, copy=False)\n",
    "ax = sns.histplot(df_bar, x='bar', hue='Y', multiple='dodge', stat='percent')\n",
    "ax.bar_label(ax.containers[0], fmt='%.2f%%')\n",
    "ax.bar_label(ax.containers[1], fmt='%.2f%%')\n",
    "plt.title('Acceptance of Bar Coupon by Monthly Bar Visits')"
   ]
  },
  {
   "cell_type": "code",
   "execution_count": 67,
   "metadata": {},
   "outputs": [
    {
     "name": "stderr",
     "output_type": "stream",
     "text": [
      "/var/folders/n5/n6rb97jj00v5yg5zqw69hd4c0000gn/T/ipykernel_89052/3238869505.py:1: SettingWithCopyWarning: \n",
      "A value is trying to be set on a copy of a slice from a DataFrame.\n",
      "Try using .loc[row_indexer,col_indexer] = value instead\n",
      "\n",
      "See the caveats in the documentation: https://pandas.pydata.org/pandas-docs/stable/user_guide/indexing.html#returning-a-view-versus-a-copy\n",
      "  df_bar['income'] = pd.Categorical(\n",
      "/opt/anaconda3/lib/python3.11/site-packages/seaborn/_oldcore.py:1119: FutureWarning: use_inf_as_na option is deprecated and will be removed in a future version. Convert inf values to NaN before operating instead.\n",
      "  with pd.option_context('mode.use_inf_as_na', True):\n"
     ]
    },
    {
     "data": {
      "text/plain": [
       "Text(0.5, 1.0, 'Acceptance of Bar Coupon by Driver Income')"
      ]
     },
     "execution_count": 67,
     "metadata": {},
     "output_type": "execute_result"
    },
    {
     "data": {
      "image/png": "[encoded data removed]",
      "text/plain": [
       "<Figure size 640x480 with 1 Axes>"
      ]
     },
     "metadata": {},
     "output_type": "display_data"
    }
   ],
   "source": [
    "df_bar['income'] = pd.Categorical(\n",
    "    df_bar['income'],\n",
    "    ['Less than $12500', '$12500 - $24999', '$25000 - $37499', '$37500 - $49999', '$50000 - $62499', '$62500 - $74999', '$75000 - $87499', '$87500 - $99999', '$100000 or More'\n",
    "],\n",
    "    ordered=True, copy=False)\n",
    "sns.histplot(df_bar, x='income', hue='Y', multiple='dodge')\n",
    "plt.xticks(rotation=50)\n",
    "plt.title('Acceptance of Bar Coupon by Driver Income')"
   ]
  },
  {
   "cell_type": "markdown",
   "metadata": {},
   "source": [
    "### Independent Investigation\n",
    "\n",
    "Using the bar coupon example as motivation, you are to explore one of the other coupon groups and try to determine the characteristics of passengers who accept the coupons.  "
   ]
  },
  {
   "cell_type": "markdown",
   "metadata": {},
   "source": [
    "# TOPH\n",
    "\n",
    "Look at temperature and weather. The acceptance rate is definitely higher for warm sunny days. Any relation to distance?\n",
    "\n",
    "Also coupons have higher acceptance for lower cost items.\n",
    "\n"
   ]
  },
  {
   "cell_type": "markdown",
   "metadata": {},
   "source": [
    "How does temperature impact acceptance of the coupon?"
   ]
  },
  {
   "cell_type": "code",
   "execution_count": 70,
   "metadata": {},
   "outputs": [
    {
     "name": "stderr",
     "output_type": "stream",
     "text": [
      "/opt/anaconda3/lib/python3.11/site-packages/seaborn/_oldcore.py:1119: FutureWarning: use_inf_as_na option is deprecated and will be removed in a future version. Convert inf values to NaN before operating instead.\n",
      "  with pd.option_context('mode.use_inf_as_na', True):\n"
     ]
    },
    {
     "data": {
      "text/plain": [
       "Text(0.5, 1.0, 'Temperature by coupon acceptance')"
      ]
     },
     "execution_count": 70,
     "metadata": {},
     "output_type": "execute_result"
    },
    {
     "data": {
      "image/png": "[encoded data removed]",
      "text/plain": [
       "<Figure size 640x480 with 1 Axes>"
      ]
     },
     "metadata": {},
     "output_type": "display_data"
    }
   ],
   "source": [
    "sns.histplot(df, x='temperature', hue='Y', multiple='dodge', stat='percent')\n",
    "plt.title('Temperature by coupon acceptance')"
   ]
  },
  {
   "cell_type": "code",
   "execution_count": 69,
   "metadata": {},
   "outputs": [
    {
     "name": "stderr",
     "output_type": "stream",
     "text": [
      "/opt/anaconda3/lib/python3.11/site-packages/seaborn/_oldcore.py:1119: FutureWarning: use_inf_as_na option is deprecated and will be removed in a future version. Convert inf values to NaN before operating instead.\n",
      "  with pd.option_context('mode.use_inf_as_na', True):\n"
     ]
    },
    {
     "data": {
      "text/plain": [
       "<Axes: xlabel='weather', ylabel='Percent'>"
      ]
     },
     "execution_count": 69,
     "metadata": {},
     "output_type": "execute_result"
    },
    {
     "data": {
      "image/png": "[encoded data removed]",
      "text/plain": [
       "<Figure size 640x480 with 1 Axes>"
      ]
     },
     "metadata": {},
     "output_type": "display_data"
    }
   ],
   "source": [
    "sns.histplot(df, x='weather', hue='Y', multiple='dodge', stat='percent')"
   ]
  },
  {
   "cell_type": "code",
   "execution_count": null,
   "metadata": {},
   "outputs": [],
   "source": [
    "df.weather.value_counts()"
   ]
  },
  {
   "cell_type": "code",
   "execution_count": null,
   "metadata": {},
   "outputs": [],
   "source": []
  },
  {
   "cell_type": "code",
   "execution_count": null,
   "metadata": {},
   "outputs": [],
   "source": []
  },
  {
   "cell_type": "code",
   "execution_count": null,
   "metadata": {},
   "outputs": [],
   "source": []
  },
  {
   "cell_type": "code",
   "execution_count": null,
   "metadata": {},
   "outputs": [],
   "source": []
  },
  {
   "cell_type": "code",
   "execution_count": null,
   "metadata": {},
   "outputs": [],
   "source": []
  }
 ],
 "metadata": {
  "kernelspec": {
   "display_name": "Python 3 (ipykernel)",
   "language": "python",
   "name": "python3"
  },
  "language_info": {
   "codemirror_mode": {
    "name": "ipython",
    "version": 3
   },
   "file_extension": ".py",
   "mimetype": "text/x-python",
   "name": "python",
   "nbconvert_exporter": "python",
   "pygments_lexer": "ipython3",
   "version": "3.11.7"
  },
  "widgets": {
   "application/vnd.jupyter.widget-state+json": {
    "state": {},
    "version_major": 2,
    "version_minor": 0
   }
  }
 },
 "nbformat": 4,
 "nbformat_minor": 4
}
